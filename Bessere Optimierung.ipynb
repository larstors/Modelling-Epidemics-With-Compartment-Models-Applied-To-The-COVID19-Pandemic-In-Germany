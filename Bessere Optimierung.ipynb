{
 "cells": [
  {
   "cell_type": "code",
   "execution_count": 1,
   "id": "3a69c635",
   "metadata": {},
   "outputs": [],
   "source": [
    "import matplotlib.pyplot as plt\n",
    "from mpl_toolkits.axes_grid1 import AxesGrid\n",
    "from mpl_toolkits.axes_grid1.axes_divider import make_axes_locatable\n",
    "import numpy as np\n",
    "import scipy.integrate as sci\n",
    "import time \n",
    "import threading\n",
    "import sys\n",
    "import multiprocessing as multiproc\n",
    "import datetime\n",
    "# the function library\n",
    "from projectlib import *\n",
    "from scipy.optimize import fmin as simplex"
   ]
  },
  {
   "cell_type": "markdown",
   "id": "b6e14e55",
   "metadata": {},
   "source": [
    "## Parameters"
   ]
  },
  {
   "cell_type": "code",
   "execution_count": 2,
   "id": "c59d511f",
   "metadata": {},
   "outputs": [],
   "source": [
    "class Data:\n",
    "    def __init__(self, alpha, beta, dimension, name, commuters_day, N):\n",
    "        \"Dimension gives the dimension of the system, i.e. number of cells\"\n",
    "        # ------- TO DO ---------\n",
    "        # Depending on the system this has to be adjusted\n",
    "        self.dimension = dimension\n",
    "        \n",
    "        \"Alpha describes the rate of infection\"\n",
    "        self.alpha = alpha # Dimensions day^(-1)\n",
    "\n",
    "        \"Beta describes the recovery rate\"\n",
    "        self.beta = beta # Dimensions day^(-1)\n",
    "\n",
    "        \"p is the probability to die from the disease\"\n",
    "        self.p = 2.64e-2\n",
    "        \n",
    "        \"\"\"\n",
    "        Commuters is an array describing the commuters from and to the different cells. \n",
    "        The structure is: The entries in column i are how many commute from i to the cell of the row.\n",
    "                          Thus, the entries of the row i describe how many commute from different cells to cell i.\n",
    "        \"\"\"\n",
    "\n",
    "        self.commuters = np.array([np.ones(self.dimension) for i in range(self.dimension)])\n",
    "        \"load the txt with given name\"\n",
    "        file = np.loadtxt(name, delimiter=\"\\t\")\n",
    "        \"fill commuters with the entries from the file. Note the break statement so it doesn't go to far\"\n",
    "        i = 0\n",
    "        for row in file:\n",
    "            if i >= self.dimension:\n",
    "                break\n",
    "            self.commuters[i] = np.asarray(row[0:self.dimension])\n",
    "            i += 1\n",
    "        \n",
    "        \"Part of day that commuters are in other cells. This is the same value for all cells\"\n",
    "        self.commuters_day = commuters_day\n",
    "\n",
    "        \"Array of population in every cell\"\n",
    "        # ------- TO DO ---------\n",
    "        # figure out how to best do this\n",
    "        self.N = N\n",
    "\n",
    "        \n",
    "        \n",
    "    def commutersFrom(self, cfrom):\n",
    "        \"\"\"Function to extract the commuters from a cell\n",
    "\n",
    "        Args:\n",
    "            cfrom (integer): the cell \n",
    "\n",
    "         Returns:\n",
    "            array: array containing commuters from cfrom\n",
    "        \"\"\"\n",
    "        # ------- TO DO ---------\n",
    "        # optimize the algorithm\n",
    "        \"Sorting out the necessary entries into array a.\"\n",
    "        a = np.zeros(self.dimension)\n",
    "        for i in range(self.dimension):\n",
    "            a[i] = self.commuters[i][cfrom]\n",
    "            \n",
    "        return a \n",
    "    \n",
    "    def commutersTo(self, cto):\n",
    "        \"\"\"Function to return an array with number of commuters coming to cto from other cells.\n",
    "\n",
    "        Args:\n",
    "            cto (integer): the cell to which the commuters travel\n",
    "\n",
    "        Returns:\n",
    "            array: array containing the commuters to cto.\n",
    "        \"\"\"\n",
    "        return self.commuters[cto][:]\n",
    "       \n",
    "        \n",
    "        "
   ]
  },
  {
   "cell_type": "markdown",
   "id": "e0271c75",
   "metadata": {},
   "source": [
    "## Functions"
   ]
  },
  {
   "cell_type": "code",
   "execution_count": 3,
   "id": "f1387196",
   "metadata": {},
   "outputs": [],
   "source": [
    "\n",
    "def function_of_system(timestep, functions,  data, method, t0):\n",
    "    \"\"\"Function to calculate the time derivatives of the dynamic SIRD modell with commuters. This function uses multiple approachs for different variant of the system based on prior assumptions. \n",
    "\n",
    "        Args:\n",
    "            functions (array): array with the functions that define the system of equations. Structure [S_1, ... , S_n, I_1, .... , I_n, R_1, ... , R_n, D_1, ... , D_n]\n",
    "            timestep (float): time of timestep. t=1 is 1 day\n",
    "            data (class): the class with the relevant data\n",
    "            method (string): dictates what method is to be used. The choices are \"constant\", \"heaviside\"\n",
    "            t0 (array): array with len = 3 filled with times at which the heaviside functions in the \"heaviside\" method switch. \n",
    "                Note: all values of t0 have to be between 0 and 1.\n",
    "\n",
    "        Returns:\n",
    "            array: array containing the derivatives of functions at time t.\n",
    "    \"\"\"\n",
    "    # array with infected\n",
    "    Infected = functions[data.dimension:2*data.dimension]\n",
    "\n",
    "    # making array with the effective infected Ieff\n",
    "    Ieff = np.array([effective_infected(data.commutersTo, data.commutersFrom, data.N, i, Infected, data.dimension) for i in range(data.dimension)])\n",
    "\n",
    "    # initializing the return array with the time derivatives of functions\n",
    "    dfuncdt = np.ones(data.dimension*4)\n",
    "\n",
    "    \"~~~~~~~~~~~~~~~~~ See the PDF / LaTeX for further explanation of the equations ~~~~~~~~~~~~~~~~~~~~~~~~\"\n",
    "\n",
    "    # ------------------------------------\n",
    "    # -      Constant Coefficients       -\n",
    "    # ------------------------------------\n",
    "\n",
    "    tt = 0.6\n",
    "\n",
    "    if method == \"constant\":\n",
    "            \n",
    "        # the for loop to fill dfuncdt\n",
    "\n",
    "        for i in range(data.dimension):\n",
    "            # see LaTeX for equations\n",
    "            # dS/dt\n",
    "            dfuncdt[i] =  - tt * data.alpha *  functions[i] * functions[i + data.dimension] - (1 - tt) * data.alpha * functions[i] * Ieff[i]\n",
    "\n",
    "            # dI/dt \\propto -dSdt\n",
    "            dfuncdt[i + data.dimension] = - dfuncdt[i] - data.beta * functions[i + data.dimension]\n",
    "\n",
    "            # dR/dt\n",
    "            dfuncdt[i + 2 * data.dimension] = (1 - data.p) * data.beta * functions[i + data.dimension]\n",
    "\n",
    "            # dD/dt\n",
    "            dfuncdt[i + 3 * data.dimension] = data.p * data.beta * functions[i + data.dimension]\n",
    "\n",
    "\n",
    "    # ------------------------------------\n",
    "    # -      Heaviside Coefficients      -\n",
    "    # ------------------------------------\n",
    "\n",
    "\n",
    "    elif method == \"heaviside\":\n",
    "\n",
    "\n",
    "        # the for loop to fill dfuncdt\n",
    "        for i in range(data.dimension):\n",
    "            # see LaTeX for equations\n",
    "            # dS/dt\n",
    "            dfuncdt[i] = - data.alpha * (periodic_heaviside(timestep, t0[0]) + periodic_heaviside(timestep, t0[2]) - 1) * functions[i] * functions[i + data.dimension] - (periodic_heaviside(timestep, t0[1]) - periodic_heaviside(timestep, t0[2])) * data.alpha * functions[i] * Ieff[i]\n",
    "\n",
    "            # dI/dt \\propto -dSdt\n",
    "            dfuncdt[i + data.dimension] = - dfuncdt[i] - data.beta * functions[i + data.dimension]\n",
    "\n",
    "            # dR/dt\n",
    "            dfuncdt[i + 2 * data.dimension] = (1 - data.p) * data.beta * functions[i + data.dimension]\n",
    "\n",
    "            # dD/dt\n",
    "            dfuncdt[i + 3 * data.dimension] = data.p * data.beta * functions[i + data.dimension]\n",
    "\n",
    "    \n",
    "    \n",
    "    \n",
    "    \n",
    "    \n",
    "    \n",
    "    \n",
    "    # returning the derivatives at time t\n",
    "    return dfuncdt\n",
    "\n",
    "\n",
    "\n",
    "# Function for using scipy.integrate.odeint, as the arguments are switched\n",
    "def system_function(functions, timestep, data, method, t0):\n",
    "    return function_of_system(timestep, functions, data, method, t0)\n",
    "\n",
    "\n"
   ]
  },
  {
   "cell_type": "code",
   "execution_count": 4,
   "id": "77e4fa27",
   "metadata": {},
   "outputs": [
    {
     "name": "stdout",
     "output_type": "stream",
     "text": [
      "[275817.  70458. 136292. 140251. 132285. 326041. 213310. 236764. 202137.\n",
      " 100629. 100006.  83416.]\n"
     ]
    }
   ],
   "source": [
    "p = 0.0264\n",
    "commuters_day = 10/24\n",
    "\n",
    " \n",
    "dimension = 12\n",
    " \n",
    "a = initial_compartment_distribution(12, \"2020/07/24\")\n",
    "initCond = np.zeros(12*4)\n",
    "for i in range(12):\n",
    "        initCond[i] = a[i][0]\n",
    "        initCond[i + 12] = a[i][1]\n",
    "        initCond[i + 24] = a[i][2]\n",
    "        initCond[i + 36] = a[i][3]\n",
    "    \n",
    "M = region_setup(12)[0]\n",
    "tzero = np.array([0, 0.4, 0.8])\n",
    "\n",
    "t = np.linspace(0, 100, 10000)\n",
    "N = import_rki_data(M, 7)[2]\n",
    "\n",
    "\n",
    "commuters = np.array([np.ones(dimension) for i in range(dimension)])\n",
    "\"load the txt with given name\"\n",
    "file = np.loadtxt(\"Pendler.txt\", delimiter=\"\\t\")\n",
    "\"fill commuters with the entries from the file. Note the break statement so it doesn't go to far\"\n",
    "i = 0\n",
    "for row in file:\n",
    "    if i >= dimension:\n",
    "            break\n",
    "    commuters[i] = np.asarray(row[0:dimension])\n",
    "    i += 1\n",
    "\n",
    "print(N)"
   ]
  },
  {
   "cell_type": "markdown",
   "id": "20ef6a08",
   "metadata": {},
   "source": [
    "## Bausteine für Optimierungsverfahren"
   ]
  },
  {
   "cell_type": "markdown",
   "id": "2b8d5e5a",
   "metadata": {},
   "source": [
    "#### RKI Vergleichsdaten"
   ]
  },
  {
   "cell_type": "code",
   "execution_count": 65,
   "id": "bfa9d0d7",
   "metadata": {},
   "outputs": [],
   "source": [
    "###find first day of simulation and import RKI_Inzidenzwert\n",
    "RKI= np.load(\"Internal Data/rki_region_cases38.npy\") \n",
    "begin_of_recording = datetime.datetime.strptime(\"2020/03/01\",\"%Y/%m/%d\")\n",
    "begin_of_simulation = datetime.datetime.strptime(\"2020/07/24\", \"%Y/%m/%d\")\n",
    "d0=(begin_of_simulation-begin_of_recording).days\n",
    "# Inzidenzwert im k-ten Landkreis am d-ten Tag ist RKI[k][2][d0-1+d] \n",
    "\n",
    "M_ =  region_setup(38)[0]\n",
    "N_ = import_rki_data(M_, 7)[2]\n",
    "#N_ enthält Anzahl der Bevölkerung der Landkreis\n",
    " "
   ]
  },
  {
   "cell_type": "markdown",
   "id": "0f7f2910",
   "metadata": {},
   "source": [
    "#### Simulationsdaten"
   ]
  },
  {
   "cell_type": "code",
   "execution_count": 70,
   "id": "df243ad3",
   "metadata": {},
   "outputs": [],
   "source": [
    "def find_sol_on_days_(solt, soly, lk_indzies, number_of_days, number_of_Lks):\n",
    "    if not lk_indzies: \n",
    "        # if list is empty, simulation is calculated for all regions \n",
    "        S=np.empty((number_of_Lks,number_of_days+1), dtype=float, order='C')\n",
    "        for k in range(number_of_Lks):\n",
    "            i=0\n",
    "            goodtime=0\n",
    "            for time in range(len(solt)):\n",
    "                if abs(solt[time]-i)<1e-2:\n",
    "                    goodtime=time\n",
    "                    if time+1 <len(solt):\n",
    "                        if abs(solt[time+1]-i)<abs(solt[time]-i):\n",
    "                            goodtime=time+1\n",
    "                    S[k][i]=soly[k][goodtime]\n",
    "                    i=i+1\n",
    "    else: # simulation is calculaten for specified regions\n",
    "        number_of_Lks = len(lk_indzies)\n",
    "        S = np.empty((number_of_Lks,number_of_days+1), dtype=float, order='C')\n",
    "        for lk in range(number_of_Lks):\n",
    "            k = lk_indzies[lk]\n",
    "            i=0\n",
    "            goodtime=0\n",
    "            for time in range(len(solt)):\n",
    "                if abs(solt[time]-i)<1e-2:\n",
    "                    goodtime=time\n",
    "                    if time+1 <len(solt):\n",
    "                        if abs(solt[time+1]-i)<abs(solt[time]-i):\n",
    "                            goodtime=time+1\n",
    "                    S[lk][i]=soly[k][goodtime]\n",
    "                    i=i+1\n",
    "    return S ## returns S[Landkreis][Tag]\n",
    "\n",
    "\n",
    "def summon_results(params, method, lk_indzies = [], number_of_days=100, number_of_Lks=12):\n",
    "    # returns S[Landkreis][Tag] \n",
    "    # lk_indzies can be out of order or empty for all regions. \n",
    "    dimension = number_of_Lks\n",
    "    alpha = params[0]\n",
    "    beta = params[1]\n",
    "    simulation001 = Data(alpha, beta, dimension, \"Pendler.txt\", 0.6, import_rki_data(M, 7)[2])\n",
    "    sol = sci.solve_ivp(fun=function_of_system, t_span=(0, 100), y0=initCond, method=\"RK45\", args=(simulation001, method, tzero), t_eval=t, dense_output=True)\n",
    "    solt=sol.t\n",
    "    soly=sol.y\n",
    "    ss = find_sol_on_days_(solt, soly, lk_indzies, number_of_days, number_of_Lks)\n",
    "    return ss\n",
    "\n",
    "# Usage examples\n",
    "#print(summon_results([.4,1/14], 'constant',[11,3])) \n",
    "#print(len(summon_results([.4,1/14], 'constant')))"
   ]
  },
  {
   "cell_type": "markdown",
   "id": "83259c82",
   "metadata": {},
   "source": [
    "#### Berechnung des Inzidenzwerts "
   ]
  },
  {
   "cell_type": "code",
   "execution_count": 74,
   "id": "e1e8c570",
   "metadata": {},
   "outputs": [
    {
     "name": "stdout",
     "output_type": "stream",
     "text": [
      "Inzidenzwerte im 1-ten Landkreis am Tag 12:\n",
      "Simulation: 1.49\n",
      "RKI: 1.42\n"
     ]
    }
   ],
   "source": [
    "def Inzidenzwert(d,k,is_sim, S):\n",
    "    # d ist Tag k ist Landkreis\n",
    "    # die Funktion berechnet Inzidenzwert der Simulation an Tag d in Landkreis k\n",
    "    if is_sim == 0:\n",
    "        Oomega = RKI[k][2][d0-1+d]\n",
    "        return Oomega\n",
    "    else:\n",
    "        if d<7:\n",
    "            Omega = -(S[k][d]-S[k][0])\n",
    "        if d==0:\n",
    "            Omega = S[k][0]\n",
    "        else:\n",
    "            Omega = -(S[k][d]-S[k][d-7])\n",
    "            \n",
    "    return Omega*100000\n",
    "\n",
    "def find_index(k, lk_indzies = []):\n",
    "    if not lk_indzies:\n",
    "        return k\n",
    "    else:\n",
    "        return lk_indzies[k]\n",
    "    \n",
    "def Omega_ges(N_, d, is_sim, number_of_Lks=12, lk_indzies = [], S = []):\n",
    "    numberofLks = len(lk_indzies)\n",
    "    if numberofLks == 0:\n",
    "            numberofLks = number_of_Lks\n",
    "    res = 0\n",
    "    N_tot = 0\n",
    "    for i in range(numberofLks):\n",
    "        k = find_index(i, lk_indzies)\n",
    "        res = res + N_[k]*Inzidenzwert(d,k,is_sim, S)/100000\n",
    "        N_tot = N_tot + N_[k]\n",
    "    return res/N_tot\n",
    "         \n",
    "Simu = summon_results([0.165,1/14], 'constant',[])\n",
    "print(\"Inzidenzwerte im 1-ten Landkreis am Tag 12:\")\n",
    "print(\"Simulation:\", round(Inzidenzwert(12,1,1, Simu),2))\n",
    "print(\"RKI:\", round(Inzidenzwert(12,1,0, Simu),2))"
   ]
  },
  {
   "cell_type": "markdown",
   "id": "9c3ffbe2",
   "metadata": {},
   "source": [
    "## Bewertungsfunktionen"
   ]
  },
  {
   "cell_type": "markdown",
   "id": "a4c99a7f",
   "metadata": {},
   "source": [
    "functions must take the following arguments:\n",
    "\n",
    "    params, method ='constant', lk_indzies = [], number_of_days = 100, number_of_Lks = 12\n",
    "    \n",
    "some version of the following code is required:\n",
    "\n",
    "    if (params[0]<0):\n",
    "        return np.inf\n",
    "    if (params[1]<0):\n",
    "        return np.inf\n",
    "    S = summon_results(params, method, lk_indzies, number_of_days, number_of_Lks)\n",
    "    #S[Landkreis][Tag]\n"
   ]
  },
  {
   "cell_type": "code",
   "execution_count": 168,
   "id": "c6bc22f2",
   "metadata": {},
   "outputs": [],
   "source": [
    "def f_0(params, method ='constant', lk_indzies = [], number_of_days = 100, number_of_Lks = 12):\n",
    "    if (params[0]<0):\n",
    "        return np.inf\n",
    "    if (params[1]<0):\n",
    "        return np.inf\n",
    "    S = summon_results(params, method, lk_indzies, number_of_days, number_of_Lks)\n",
    "    #S[Landkreis][Tag]\n",
    "    res = 0\n",
    "    for d in range(len(S[0])):\n",
    "        Omega_rki = Omega_ges(N_, d, 0, number_of_Lks, lk_indzies)\n",
    "        res = res + ((Omega_ges(N_, d, 1, number_of_Lks, lk_indzies, S) - Omega_rki )/Omega_rki)**2\n",
    "    return res\n",
    "\n",
    "\n",
    "def f_1(params, method ='constant', lk_indzies = [], number_of_days = 100, number_of_Lks = 12):\n",
    "    if (params[0]<0):\n",
    "        return np.inf\n",
    "    if (params[1]<0):\n",
    "        return np.inf\n",
    "    S = summon_results(params, method, lk_indzies, number_of_days, number_of_Lks)\n",
    "    res = 0\n",
    "    for d in range(len(S[0])):\n",
    "        Omega_rki = Omega_ges(N_, d, 0, number_of_Lks, lk_indzies)\n",
    "        res = res + ((Omega_ges(N_, d, 1, number_of_Lks, lk_indzies, S) - Omega_rki )**2/Omega_rki)\n",
    "    return res\n",
    "\n",
    "\n",
    "def f_2(params, method ='constant', lk_indzies = [], number_of_days = 100, number_of_Lks = 12):\n",
    "    if (params[0]<0):\n",
    "        return np.inf\n",
    "    if (params[1]<0):\n",
    "        return np.inf\n",
    "    S = summon_results(params, method, lk_indzies, number_of_days, number_of_Lks)\n",
    "    numberofLks = len(lk_indzies)\n",
    "    if numberofLks == 0:\n",
    "            numberofLks = number_of_Lks\n",
    "    res = 0\n",
    "    for d in range(len(S[0])):\n",
    "        for i in range(numberofLks):\n",
    "            k = find_index(i, lk_indzies)\n",
    "            res = res + ((Inzidenzwert(d,k,0, S)-Inzidenzwert(d,k,1, S))/(Inzidenzwert(d,k,1, S)))**2\n",
    "    return res\n",
    "\n",
    "\n",
    "def f_3(params, method ='constant', lk_indzies = [], number_of_days = 100, number_of_Lks = 12):\n",
    "    if (params[0]<0):\n",
    "        return np.inf\n",
    "    if (params[1]<0):\n",
    "        return np.inf\n",
    "    S = summon_results(params, method, lk_indzies, number_of_days, number_of_Lks)\n",
    "    numberofLks = len(lk_indzies)\n",
    "    if numberofLks == 0:\n",
    "            numberofLks = number_of_Lks\n",
    "    res = 0\n",
    "    r = []\n",
    "    for d in range(len(S[0])):\n",
    "        for i in range(numberofLks):\n",
    "            k = find_index(i, lk_indzies)\n",
    "            \n",
    "            r.append(((Inzidenzwert(d,k,0, S)-Inzidenzwert(d,k,1, S))/(Inzidenzwert(d,k,1, S)))**2)\n",
    "    res = sum(r) + 5 * sum([abs(r[k]-sum(r)/len(r)) for k in range(len(r))])\n",
    "    return res\n",
    "\n",
    "def f_4(params, method ='constant', lk_indzies = [], number_of_days = 100, number_of_Lks = 12):\n",
    "    if (params[0]<0):\n",
    "        return np.inf\n",
    "    if (params[1]<0):\n",
    "        return np.inf\n",
    "    S = summon_results(params, method, lk_indzies, number_of_days, number_of_Lks)\n",
    "    numberofLks = len(lk_indzies)\n",
    "    if numberofLks == 0:\n",
    "            numberofLks = number_of_Lks\n",
    "    res = 0\n",
    "    r = 0\n",
    "    N_tot = 0\n",
    "    for d in range(len(S[0])):\n",
    "        for i in range(numberofLks):\n",
    "            k = find_index(i, lk_indzies)\n",
    "            omega_d_k_RKI = Inzidenzwert(d,k,0, S)\n",
    "            if omega_d_k_RKI == 0:\n",
    "                r = N_[k]*Inzidenzwert(d,k,1, S)\n",
    "            else:\n",
    "                r = N_[k]*((omega_d_k_RKI -Inzidenzwert(d,k,1, S))/(omega_d_k_RKI))**2\n",
    "            N_tot = N_tot + N_[k]\n",
    "            res = res + r\n",
    "    return res/N_tot\n"
   ]
  },
  {
   "cell_type": "code",
   "execution_count": 169,
   "id": "38f6bca6",
   "metadata": {},
   "outputs": [
    {
     "name": "stdout",
     "output_type": "stream",
     "text": [
      "27217388300.21237\n",
      "431157.3373372434\n",
      "514064.4906538377\n",
      "5628738.201848651\n",
      "347867311.219884\n"
     ]
    }
   ],
   "source": [
    "print(f_0([.4,1/14], 'heaviside'))\n",
    "print(f_1([.4,1/14], 'heaviside'))\n",
    "print(f_2([.4,1/14], 'heaviside'))\n",
    "print(f_3([.4,1/14], 'heaviside'))\n",
    "print(f_4([.4,1/14], 'heaviside'))"
   ]
  },
  {
   "cell_type": "markdown",
   "id": "a4a4927a",
   "metadata": {},
   "source": [
    "### In-house optimizer"
   ]
  },
  {
   "cell_type": "code",
   "execution_count": 150,
   "id": "94c0144c",
   "metadata": {},
   "outputs": [],
   "source": [
    "def Bew(params, function, component_value = 0, which_component =-1,\\\n",
    "        method = 'constant', lk_indzies = [], number_of_days = 100, number_of_Lks = 12 ): \n",
    "    ## function specifies which Bewertungsfunktion to use\n",
    "    if which_component == -1:\n",
    "        return function(params, method, lk_indzies, number_of_days, number_of_Lks)\n",
    "    else:\n",
    "        z = params\n",
    "        z[which_component] = component_value\n",
    "        return function(z, method, lk_indzies, number_of_days, number_of_Lks)\n",
    "\n",
    "    \n",
    "def isbetter(new_eval, current_eval):\n",
    "    if new_eval > current_eval:\n",
    "        return 1\n",
    "    else:\n",
    "        return 0\n",
    "    \n",
    "def improve(params, function, which_component, component_value, sign, evals,\\\n",
    "            method = 'constant', lk_indzies = [], number_of_days = 100, number_of_Lks = 12):\n",
    "    i = 0\n",
    "    d = 0\n",
    "    last_sucess = 0\n",
    "    new_eval = evals\n",
    "    value = component_value\n",
    "    o_err=2\n",
    "    if (which_component == -1):\n",
    "        while i - last_sucess < 15 and o_err < 4:\n",
    "            if i - last_sucess >8:\n",
    "                o_err = o_err + 1\n",
    "                last_sucess = 0\n",
    "                i = 0\n",
    "                component = value\n",
    "            d = i * 10**(-o_err) * sign * np.array(value)\n",
    "            component_value = value + d\n",
    "            evals=new_eval\n",
    "            new_eval = Bew(params, function, component_value, which_component,\\\n",
    "        method, lk_indzies, number_of_days, number_of_Lks)\n",
    "            i = i + 1\n",
    "        if new_eval < evals:\n",
    "            last_sucess=last_sucess + 1\n",
    "            value = component_value\n",
    "            #print(new_eval,\" \", params)\n",
    "    i = 0\n",
    "    d = 0\n",
    "    last_sucess = 0\n",
    "    while i - last_sucess < 15 and o_err < 4:\n",
    "        if i - last_sucess >8:\n",
    "            o_err = o_err + 1\n",
    "            last_sucess = 0\n",
    "            i = 0\n",
    "            component_value = value\n",
    "        d = i * 10**(-o_err) * sign\n",
    "        component_value = value + d\n",
    "        evals = new_eval\n",
    "        new_eval = Bew(params, function, component_value, which_component,\\\n",
    "        method, lk_indzies, number_of_days, number_of_Lks )\n",
    "        i = i + 1\n",
    "        if new_eval < evals:\n",
    "            last_sucess=last_sucess + 1\n",
    "            value = component_value\n",
    "            #print(new_eval,\" \", params)\n",
    "    return value, new_eval\n",
    "  \n",
    "   "
   ]
  },
  {
   "cell_type": "code",
   "execution_count": 151,
   "id": "9ac01cf2",
   "metadata": {},
   "outputs": [],
   "source": [
    "def improve_component(params, function, which_component, \\\n",
    "            method = 'constant', lk_indzies = [], number_of_days = 100, number_of_Lks = 12):\n",
    "    \n",
    "    if which_component == -1:\n",
    "        component_value = params\n",
    "    else:\n",
    "        component_value = params[which_component]\n",
    "    start_eval = Bew(params, function, component_value, which_component)\n",
    "    component_pos, eval1 = improve(params, function, which_component, component_value, 1, start_eval,\\\n",
    "                                  method, lk_indzies, number_of_days, number_of_Lks)\n",
    "    component_neg, eval2 = improve(params, function, which_component, component_value, -1, start_eval,\\\n",
    "                                  method, lk_indzies, number_of_days, number_of_Lks)\n",
    "    if eval1<eval2:\n",
    "        return component_pos\n",
    "    else:\n",
    "        return component_neg\n"
   ]
  },
  {
   "cell_type": "code",
   "execution_count": 152,
   "id": "dfe90b15",
   "metadata": {},
   "outputs": [],
   "source": [
    "def optimize(parameters, function, \\\n",
    "            method = 'constant', lk_indzies = [], number_of_days = 100, number_of_Lks = 12):\n",
    "    \n",
    "    improved_paramters=np.array(parameters)\n",
    "    for e in range(len(parameters)):\n",
    "        improved_paramters[e] = improve_component(parameters, function, e,\\\n",
    "                                                  method, lk_indzies, number_of_days, number_of_Lks)\n",
    "    return improve_component(parameters, function, -1,\\\n",
    "                             method, lk_indzies, number_of_days, number_of_Lks)\n",
    "\n"
   ]
  },
  {
   "cell_type": "markdown",
   "id": "6173907b",
   "metadata": {},
   "source": [
    "# Test Optimization"
   ]
  },
  {
   "cell_type": "markdown",
   "id": "69421d7d",
   "metadata": {},
   "source": [
    "## Simplex"
   ]
  },
  {
   "cell_type": "markdown",
   "id": "af0d7503",
   "metadata": {},
   "source": [
    "to use copy any of the following cells.   \n",
    "**args**  can be used as follows:\n",
    "- **methode** can be either 'constant' or 'heaviside', has default value of 'constant'\n",
    "- **lk_indzies** is list of specific regions. it can be out of order. leave empty for all regions\n",
    "- **number_of_Lks** can either be 12 or 36, has default value of 12\n",
    "- **number_of_days** has default value of 100"
   ]
  },
  {
   "cell_type": "code",
   "execution_count": 106,
   "id": "56db002e",
   "metadata": {},
   "outputs": [
    {
     "name": "stdout",
     "output_type": "stream",
     "text": [
      "Optimization terminated successfully.\n",
      "         Current function value: 1477.082713\n",
      "         Iterations: 53\n",
      "         Function evaluations: 119\n"
     ]
    },
    {
     "data": {
      "text/plain": [
       "array([0.42678053, 0.07426423])"
      ]
     },
     "execution_count": 106,
     "metadata": {},
     "output_type": "execute_result"
    }
   ],
   "source": [
    "simplex(f_3,[.4,1/14], args=('heaviside',), xtol=0.0001, ftol=0.0001, maxiter=None, maxfun=None, full_output=0, disp=1, retall=0, callback=None, initial_simplex=None )\n",
    "\n",
    "# output:\n",
    "# [0.42678053, 0.07426423]"
   ]
  },
  {
   "cell_type": "code",
   "execution_count": 114,
   "id": "14390154",
   "metadata": {},
   "outputs": [],
   "source": [
    "simplex(f_2,[.4,1/14], args=('heaviside',), xtol=0.0001, ftol=0.0001, maxiter=None, maxfun=None, full_output=0, disp=1, retall=0, callback=None, initial_simplex=None )\n",
    "\n",
    "# output:\n",
    "# [0.4669364 , 0.08100945]"
   ]
  },
  {
   "cell_type": "code",
   "execution_count": 115,
   "id": "d5daed2f",
   "metadata": {},
   "outputs": [
    {
     "name": "stdout",
     "output_type": "stream",
     "text": [
      "Optimization terminated successfully.\n",
      "         Current function value: 330918.376905\n",
      "         Iterations: 128\n",
      "         Function evaluations: 269\n"
     ]
    },
    {
     "data": {
      "text/plain": [
       "array([0.36965686, 0.07743744])"
      ]
     },
     "execution_count": 115,
     "metadata": {},
     "output_type": "execute_result"
    }
   ],
   "source": [
    "simplex(f_1,[.4,1/14], args=('heaviside',), xtol=0.0001, ftol=0.0001, maxiter=None, maxfun=None, full_output=0, disp=1, retall=0, callback=None, initial_simplex=None )\n",
    "\n",
    "# output: \n",
    "# [0.36965686, 0.07743744]"
   ]
  },
  {
   "cell_type": "code",
   "execution_count": 116,
   "id": "8d629f4e",
   "metadata": {},
   "outputs": [
    {
     "name": "stdout",
     "output_type": "stream",
     "text": [
      "Warning: Maximum number of function evaluations has been exceeded.\n"
     ]
    },
    {
     "data": {
      "text/plain": [
       "array([0.37103014, 0.0782182 ])"
      ]
     },
     "execution_count": 116,
     "metadata": {},
     "output_type": "execute_result"
    }
   ],
   "source": [
    "simplex(f_0,[.4,1/14], args=('heaviside',), xtol=0.0001, ftol=0.0001, maxiter=None, maxfun=None, full_output=0, disp=1, retall=0, callback=None, initial_simplex=None )\n",
    "\n",
    "# output: \n",
    "# [0.37103014, 0.0782182 ]"
   ]
  },
  {
   "cell_type": "code",
   "execution_count": null,
   "id": "0f1281ae",
   "metadata": {},
   "outputs": [],
   "source": [
    "simplex(f_4,[.4,1/14], args=('heaviside',), xtol=0.0001, ftol=0.0001, maxiter=None, maxfun=None, full_output=0, disp=1, retall=0, callback=None, initial_simplex=None )\n",
    "\n",
    "#output: \n",
    "# [0.4669364 , 0.08100945]"
   ]
  },
  {
   "cell_type": "markdown",
   "id": "708a0fb2",
   "metadata": {},
   "source": [
    "## In-house"
   ]
  },
  {
   "cell_type": "markdown",
   "id": "492e1c06",
   "metadata": {},
   "source": [
    "**currently is not working correctly!**\n",
    "\n",
    "to run simply use:\n",
    "\n",
    "    optimize(parameters, function, method = 'constant', lk_indzies = [], number_of_days = 100, number_of_Lks = 12)\n",
    "\n",
    "Arguments after function are optional:\n",
    "\n",
    "- **methode** can be either 'constant' or 'heaviside', has default value of 'constant'\n",
    "- **lk_indzies** is list of specific regions. it can be out of order. leave empty for all regions\n",
    "- **number_of_Lks** can either be 12 or 36, has default value of 12\n",
    "- **number_of_days** has default value of 100"
   ]
  },
  {
   "cell_type": "code",
   "execution_count": null,
   "id": "49b82a84",
   "metadata": {},
   "outputs": [],
   "source": [
    "functions = [f_0, f_1, f_2, f_3, f_4]\n",
    "function_names = [\"f_0\", \"f_1\", \"f_2\", \"f_3\", \"f_4\"]\n",
    "res = [optimize([.4,1/14],functions[i], 'constant') for i in range(len(functions))]\n",
    "for i in range(len(functions)):\n",
    "    print(\"used function: \", function_names[i])\n",
    "    print(\"Current function value: \", functions[i](res[i], 'constant'))\n",
    "    print (\"optimale Parameter: \", res[i])\n"
   ]
  },
  {
   "cell_type": "markdown",
   "id": "9831e231",
   "metadata": {},
   "source": [
    "## Plots"
   ]
  },
  {
   "cell_type": "code",
   "execution_count": 177,
   "id": "7fd710d4",
   "metadata": {},
   "outputs": [],
   "source": [
    "functions = [f_0, f_1, f_2, f_3, f_4]"
   ]
  },
  {
   "cell_type": "code",
   "execution_count": null,
   "id": "838deea0",
   "metadata": {},
   "outputs": [],
   "source": [
    "resolution = 10\n",
    "\n",
    "alpha = np.linspace(0,1,resolution)\n",
    "beta = np.linspace(0,1,resolution)\n",
    "Z_const = np.array([np.zeros((resolution, resolution)) for f in range(len(functions))])\n",
    "Z_heavi = np.array([np.zeros((resolution, resolution)) for f in range(len(functions))])\n",
    "\n",
    "for f in range(len(functions)):\n",
    "    for i in range(len(alpha)):\n",
    "        for j in range(len(beta)):\n",
    "            Z_const[f][i][j] = functions[f]([alpha[i],beta[j]], method='const')\n",
    "            Z_heavi[f][i][j] = functions[f]([alpha[i],beta[j]], method='heaviside')\n",
    "        "
   ]
  },
  {
   "cell_type": "code",
   "execution_count": null,
   "id": "f822cc21",
   "metadata": {},
   "outputs": [],
   "source": [
    "Zdiff_const = Z_const[4] - np.mean(Z_const[4])\n",
    "Zdiff_heavi = Z_heavi[4] - np.mean(Z_heavi[4])\n",
    "\n",
    "# norm = cm.colors.Normalize(vmax=max(Zdiff_const.max(), Zdiff_heavi.max()), vmin=min(Zdiff_const.min(), Zdiff_heavi.min()))\n",
    "norm_const = cm.colors.Normalize(vmax=Zdiff_const.max(), vmin=Zdiff_const.min())\n",
    "norm_heavi = cm.colors.Normalize(vmax=Zdiff_heavi.max(), vmin=Zdiff_heavi.min())\n",
    "ALPHA, BETA = np.meshgrid(alpha, beta)\n",
    "\n",
    "# if one colorbar (i.e. corresponding colours) for both plots is wanted:\n",
    "'''\n",
    "fig = plt.figure()\n",
    "\n",
    "grid = AxesGrid(fig, 111,\n",
    "                nrows_ncols=(1, 2),\n",
    "                axes_pad=0.25,\n",
    "               cbar_mode='single',\n",
    "                cbar_location='right',\n",
    "                cbar_pad=0.1\n",
    "                )\n",
    "\n",
    "cset = grid[0].contourf(\n",
    "    ALPHA, BETA, Zdiff_const, resolution, norm=norm\n",
    "    )\n",
    "\n",
    "cset = grid[1].contourf(\n",
    "    ALPHA, BETA, Zdiff_heavi, resolution, norm=norm\n",
    "    )\n",
    "\n",
    "for ax in grid:\n",
    "    ax.set_xlim(0, 1)\n",
    "\n",
    "cbar = ax.cax.colorbar(cset)\n",
    "cbar = grid.cbar_axes[0].colorbar(cset)\n",
    "'''\n",
    "\n",
    "fig, (ax1, ax2) = plt.subplots(1,2)\n",
    "fig.subplots_adjust(wspace=0.5)\n",
    "\n",
    "cset1 = ax1.contourf(\n",
    "    ALPHA, BETA, Zdiff_const, resolution, vmax=Zdiff_const.max(), vmin=Zdiff_const.min()\n",
    ")\n",
    "ax1.set(adjustable='box', aspect='equal')\n",
    "ax1_divider = make_axes_locatable(ax1)\n",
    "cax1 = ax1_divider.append_axes(\"right\", size=\"7%\", pad=\"5%\")\n",
    "cbar1 = fig.colorbar(cset1, cax=cax1)\n",
    "\n",
    "cset2 = ax2.contourf(\n",
    "    ALPHA, BETA, Zdiff_heavi, resolution, vmax=Zdiff_heavi.max(), vmin=Zdiff_heavi.min()\n",
    ")\n",
    "ax2.set(adjustable='box', aspect='equal')\n",
    "ax2_divider = make_axes_locatable(ax2)\n",
    "cax2 = ax2_divider.append_axes(\"right\", size=\"7%\", pad=\"5%\")\n",
    "cbar2 = fig.colorbar(cset2, cax=cax2)\n",
    "\n",
    "#ax.set_yscale('log')\n",
    "#ax.set_xscale('log')\n",
    "#ax.set_ylim(0, 1)\n",
    "#ax.set_xticks([])\n",
    "#ax.set_yticks([])\n",
    "\n",
    "Zdiff_const"
   ]
  },
  {
   "cell_type": "markdown",
   "id": "86ba90c1",
   "metadata": {},
   "source": [
    "## Fehler der Parameter"
   ]
  },
  {
   "cell_type": "markdown",
   "id": "3c6f9564",
   "metadata": {},
   "source": [
    "**Vorsicht!**\n",
    "Die nächste Zelle dauert seher **lange!**"
   ]
  },
  {
   "cell_type": "code",
   "execution_count": null,
   "id": "92a28da0",
   "metadata": {},
   "outputs": [],
   "source": [
    "function = f_4 ## welche Bewertungsfunktion verwendet werden soll\n",
    "sample_size = 10\n",
    "alpha_ = np.linspace(0,1,sample_size)\n",
    "beta_ = np.linspace(0,1,sample_size)\n",
    "optimal_params_const = []\n",
    "optimal_params_heavi = []\n",
    "\n",
    "for i in range(len(alpha)):\n",
    "        for j in range(len(beta)):\n",
    "            optimal_params_const.append(simplex(function,[.4,1/14],\\\n",
    "                    args=('const',), xtol=0.0001, ftol=0.0001,\\\n",
    "                    maxiter=None, maxfun=None, full_output=0, disp=1,\\\n",
    "                    retall=0, callback=None, initial_simplex=None ))\n",
    "            optimal_params_heavi.append(simplex(function,[.4,1/14],\\\n",
    "                    args=('heaviside',), xtol=0.0001, ftol=0.0001,\\\n",
    "                    maxiter=None, maxfun=None, full_output=0, disp=1,\\\n",
    "                    retall=0, callback=None, initial_simplex=None ))\n",
    "            \n",
    "alpha_mean_const = sum([optimal_params_const[i][0]\\\n",
    "                        for i in range(len(optimal_params_const))])/len(optimal_params_const)\n",
    "alpha_mean_heavi = sum([optimal_params_heavi[i][0]\\\n",
    "                        for i in range(len(optimal_params_heavi))])/len(optimal_params_heavi)\n",
    "alpha_stdev_const = np.std(np.array([optimal_params_heavi[i][1]\\\n",
    "                                       for i in range(len(optimal_params_heavi))]))  \n",
    "alpha_stdev_heavi = np.std(np.array([optimal_params_heavi[i][1]\\\n",
    "                                       for i in range(len(optimal_params_heavi))]))  \n",
    "\n",
    "\n",
    "beta_mean_const = sum([optimal_params_const[i][1]\\\n",
    "                        for i in range(len(optimal_params_const))])/len(optimal_params_const)\n",
    "\n",
    "beta_mean_heavi = sum([optimal_params_heavi[i][1]\\\n",
    "                        for i in range(len(optimal_params_heavi))])/len(optimal_params_heavi)\n",
    "beta_stdev_const = np.std(np.array([optimal_params_const[i][1]\\\n",
    "                                       for i in range(len(optimal_params_heavi))]))   \n",
    "beta_stdev_heavi = np.std(np.array([optimal_params_heavi[i][1]\\\n",
    "                                       for i in range(len(optimal_params_heavi))]))  "
   ]
  },
  {
   "cell_type": "code",
   "execution_count": null,
   "id": "4e99b28d",
   "metadata": {},
   "outputs": [],
   "source": [
    "print(\"alpha_const = \", alpha_mean_const, \"mit Fehler: \", alpha_stdev_const)\n",
    "print(\"beta_const = \", beta_mean_const, \"mit Fehler: \", beta_stdev_const)\n",
    "print(\"alpha_heavi = \", alpha_mean_heavi, \"mit Fehler: \", alpha_stdev_heavi)\n",
    "print(\"beta_heavi = \", beta_mean_heavi, \"mit Fehler: \", beta_stdev_heavi)"
   ]
  },
  {
   "cell_type": "markdown",
   "id": "c878310b",
   "metadata": {},
   "source": [
    "### To do:\n",
    " - **bessere Bewertungsfunktion finden!** (wichtig)\n",
    " - **Bewertungsfunktion schneller machen**\n",
    " - **Bewertungsfunktionen plotten** (Zelle muss nur zum Ende laufen)\n",
    " - **Fehler der Parameter abschätzen** (Zelle muss nur zum Ende laufen)\n",
    " - **In house optimierer verbessern**\n",
    " \n"
   ]
  }
 ],
 "metadata": {
  "kernelspec": {
   "display_name": "Python 3 (ipykernel)",
   "language": "python",
   "name": "python3"
  },
  "language_info": {
   "codemirror_mode": {
    "name": "ipython",
    "version": 3
   },
   "file_extension": ".py",
   "mimetype": "text/x-python",
   "name": "python",
   "nbconvert_exporter": "python",
   "pygments_lexer": "ipython3",
   "version": "3.8.10"
  }
 },
 "nbformat": 4,
 "nbformat_minor": 5
}
