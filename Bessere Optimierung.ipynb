{
 "cells": [
  {
   "cell_type": "code",
   "execution_count": 2,
   "id": "3992ea21",
   "metadata": {},
   "outputs": [],
   "source": [
    "import matplotlib.pyplot as plt\n",
    "from mpl_toolkits.axes_grid1 import AxesGrid\n",
    "from mpl_toolkits.axes_grid1.axes_divider import make_axes_locatable\n",
    "import numpy as np\n",
    "import scipy.integrate as sci\n",
    "import time \n",
    "import threading\n",
    "import sys\n",
    "import multiprocessing as multiproc\n",
    "import datetime\n",
    "# the function library\n",
    "from projectlib import *\n",
    "from scipy.optimize import fmin as simplex"
   ]
  },
  {
   "cell_type": "markdown",
   "id": "6affb892",
   "metadata": {},
   "source": [
    "## Parameters"
   ]
  },
  {
   "cell_type": "code",
   "execution_count": 3,
   "id": "b99db19a",
   "metadata": {},
   "outputs": [],
   "source": [
    "class Data:\n",
    "    def __init__(self, alpha, beta, dimension, name, commuters_day, N):\n",
    "        \"Dimension gives the dimension of the system, i.e. number of cells\"\n",
    "        # ------- TO DO ---------\n",
    "        # Depending on the system this has to be adjusted\n",
    "        self.dimension = dimension\n",
    "        \n",
    "        \"Alpha describes the rate of infection\"\n",
    "        self.alpha = alpha # Dimensions day^(-1)\n",
    "\n",
    "        \"Beta describes the recovery rate\"\n",
    "        self.beta = beta # Dimensions day^(-1)\n",
    "\n",
    "        \"p is the probability to die from the disease\"\n",
    "        self.p = 2.64e-2\n",
    "        \n",
    "        \"\"\"\n",
    "        Commuters is an array describing the commuters from and to the different cells. \n",
    "        The structure is: The entries in column i are how many commute from i to the cell of the row.\n",
    "                          Thus, the entries of the row i describe how many commute from different cells to cell i.\n",
    "        \"\"\"\n",
    "\n",
    "        self.commuters = np.array([np.ones(self.dimension) for i in range(self.dimension)])\n",
    "        \"load the txt with given name\"\n",
    "        file = np.loadtxt(name, delimiter=\"\\t\")\n",
    "        \"fill commuters with the entries from the file. Note the break statement so it doesn't go to far\"\n",
    "        i = 0\n",
    "        for row in file:\n",
    "            if i >= self.dimension:\n",
    "                break\n",
    "            self.commuters[i] = np.asarray(row[0:self.dimension])\n",
    "            i += 1\n",
    "        \n",
    "        \"Part of day that commuters are in other cells. This is the same value for all cells\"\n",
    "        self.commuters_day = commuters_day\n",
    "\n",
    "        \"Array of population in every cell\"\n",
    "        # ------- TO DO ---------\n",
    "        # figure out how to best do this\n",
    "        self.N = N\n",
    "\n",
    "        \n",
    "        \n",
    "    def commutersFrom(self, cfrom):\n",
    "        \"\"\"Function to extract the commuters from a cell\n",
    "\n",
    "        Args:\n",
    "            cfrom (integer): the cell \n",
    "\n",
    "         Returns:\n",
    "            array: array containing commuters from cfrom\n",
    "        \"\"\"\n",
    "        # ------- TO DO ---------\n",
    "        # optimize the algorithm\n",
    "        \"Sorting out the necessary entries into array a.\"\n",
    "        a = np.zeros(self.dimension)\n",
    "        for i in range(self.dimension):\n",
    "            a[i] = self.commuters[i][cfrom]\n",
    "            \n",
    "        return a \n",
    "    \n",
    "    def commutersTo(self, cto):\n",
    "        \"\"\"Function to return an array with number of commuters coming to cto from other cells.\n",
    "\n",
    "        Args:\n",
    "            cto (integer): the cell to which the commuters travel\n",
    "\n",
    "        Returns:\n",
    "            array: array containing the commuters to cto.\n",
    "        \"\"\"\n",
    "        return self.commuters[cto][:]\n",
    "       \n",
    "        \n",
    "        "
   ]
  },
  {
   "cell_type": "markdown",
   "id": "9fb43fa4",
   "metadata": {},
   "source": [
    "## Functions"
   ]
  },
  {
   "cell_type": "code",
   "execution_count": 4,
   "id": "4ad60a8c",
   "metadata": {},
   "outputs": [],
   "source": [
    "\n",
    "def function_of_system(timestep, functions,  data, method, t0):\n",
    "    \"\"\"Function to calculate the time derivatives of the dynamic SIRD modell with commuters. This function uses multiple approachs for different variant of the system based on prior assumptions. \n",
    "\n",
    "        Args:\n",
    "            functions (array): array with the functions that define the system of equations. Structure [S_1, ... , S_n, I_1, .... , I_n, R_1, ... , R_n, D_1, ... , D_n]\n",
    "            timestep (float): time of timestep. t=1 is 1 day\n",
    "            data (class): the class with the relevant data\n",
    "            method (string): dictates what method is to be used. The choices are \"constant\", \"heaviside\"\n",
    "            t0 (array): array with len = 3 filled with times at which the heaviside functions in the \"heaviside\" method switch. \n",
    "                Note: all values of t0 have to be between 0 and 1.\n",
    "\n",
    "        Returns:\n",
    "            array: array containing the derivatives of functions at time t.\n",
    "    \"\"\"\n",
    "    # array with infected\n",
    "    Infected = functions[data.dimension:2*data.dimension]\n",
    "\n",
    "    # making array with the effective infected Ieff\n",
    "    Ieff = np.array([effective_infected(data.commutersTo, data.commutersFrom, data.N, i, Infected, data.dimension) for i in range(data.dimension)])\n",
    "\n",
    "    # initializing the return array with the time derivatives of functions\n",
    "    dfuncdt = np.ones(data.dimension*4)\n",
    "\n",
    "    \"~~~~~~~~~~~~~~~~~ See the PDF / LaTeX for further explanation of the equations ~~~~~~~~~~~~~~~~~~~~~~~~\"\n",
    "\n",
    "    # ------------------------------------\n",
    "    # -      Constant Coefficients       -\n",
    "    # ------------------------------------\n",
    "\n",
    "    tt = 0.6\n",
    "\n",
    "    if method == \"constant\":\n",
    "            \n",
    "        # the for loop to fill dfuncdt\n",
    "\n",
    "        for i in range(data.dimension):\n",
    "            # see LaTeX for equations\n",
    "            # dS/dt\n",
    "            dfuncdt[i] =  - tt * data.alpha *  functions[i] * functions[i + data.dimension] - (1 - tt) * data.alpha * functions[i] * Ieff[i]\n",
    "\n",
    "            # dI/dt \\propto -dSdt\n",
    "            dfuncdt[i + data.dimension] = - dfuncdt[i] - data.beta * functions[i + data.dimension]\n",
    "\n",
    "            # dR/dt\n",
    "            dfuncdt[i + 2 * data.dimension] = (1 - data.p) * data.beta * functions[i + data.dimension]\n",
    "\n",
    "            # dD/dt\n",
    "            dfuncdt[i + 3 * data.dimension] = data.p * data.beta * functions[i + data.dimension]\n",
    "\n",
    "\n",
    "    # ------------------------------------\n",
    "    # -      Heaviside Coefficients      -\n",
    "    # ------------------------------------\n",
    "\n",
    "\n",
    "    elif method == \"heaviside\":\n",
    "\n",
    "\n",
    "        # the for loop to fill dfuncdt\n",
    "        for i in range(data.dimension):\n",
    "            # see LaTeX for equations\n",
    "            # dS/dt\n",
    "            dfuncdt[i] = - data.alpha * (periodic_heaviside(timestep, t0[0]) + periodic_heaviside(timestep, t0[2]) - 1) * functions[i] * functions[i + data.dimension] - (periodic_heaviside(timestep, t0[1]) - periodic_heaviside(timestep, t0[2])) * data.alpha * functions[i] * Ieff[i]\n",
    "\n",
    "            # dI/dt \\propto -dSdt\n",
    "            dfuncdt[i + data.dimension] = - dfuncdt[i] - data.beta * functions[i + data.dimension]\n",
    "\n",
    "            # dR/dt\n",
    "            dfuncdt[i + 2 * data.dimension] = (1 - data.p) * data.beta * functions[i + data.dimension]\n",
    "\n",
    "            # dD/dt\n",
    "            dfuncdt[i + 3 * data.dimension] = data.p * data.beta * functions[i + data.dimension]\n",
    "\n",
    "    \n",
    "    \n",
    "    \n",
    "    \n",
    "    \n",
    "    \n",
    "    \n",
    "    # returning the derivatives at time t\n",
    "    return dfuncdt\n",
    "\n",
    "\n",
    "\n",
    "# Function for using scipy.integrate.odeint, as the arguments are switched\n",
    "def system_function(functions, timestep, data, method, t0):\n",
    "    return function_of_system(timestep, functions, data, method, t0)\n",
    "\n",
    "\n"
   ]
  },
  {
   "cell_type": "code",
   "execution_count": 105,
   "id": "d7f10a4d",
   "metadata": {},
   "outputs": [],
   "source": [
    "p = 0.0264\n",
    "commuters_day = 10/24\n",
    "\n",
    " \n",
    "dimension = 12\n",
    "### nur 12 LKs \n",
    "a = initial_compartment_distribution(12, \"2020/07/24\")\n",
    "initCond = np.zeros(12*4)\n",
    "for i in range(12):\n",
    "        initCond[i] = a[i][0]\n",
    "        initCond[i + 12] = a[i][1]\n",
    "        initCond[i + 24] = a[i][2]\n",
    "        initCond[i + 36] = a[i][3]\n",
    "    \n",
    "M = region_setup(12)[0]\n",
    "tzero = np.array([0, 0.4, 0.8])\n",
    "\n",
    "t = np.linspace(0, 100, 10000)\n",
    "N = import_rki_data(M, 7)[2]\n",
    "## 38 LKs\n",
    "b = initial_compartment_distribution(38, \"2020/07/24\")\n",
    "initCond38 = np.zeros(38*4)\n",
    "for i in range(12):\n",
    "        initCond38[i] = b[i][0]\n",
    "        initCond38[i + 38] = b[i][1]\n",
    "        initCond38[i + 38*2] = b[i][2]\n",
    "        initCond38[i + 38*3] = b[i][3]\n",
    "\n",
    "\n",
    "commuters = np.array([np.ones(dimension) for i in range(dimension)])\n",
    "\"load the txt with given name\"\n",
    "file = np.loadtxt(\"Pendler.txt\", delimiter=\"\\t\")\n",
    "\"fill commuters with the entries from the file. Note the break statement so it doesn't go to far\"\n",
    "i = 0\n",
    "for row in file:\n",
    "    if i >= dimension:\n",
    "            break\n",
    "    commuters[i] = np.asarray(row[0:dimension])\n",
    "    i += 1\n",
    "\n"
   ]
  },
  {
   "cell_type": "code",
   "execution_count": 39,
   "id": "c9511354",
   "metadata": {},
   "outputs": [],
   "source": [
    "\n"
   ]
  },
  {
   "cell_type": "markdown",
   "id": "4449a430",
   "metadata": {},
   "source": [
    "## Bausteine für Optimierungsverfahren"
   ]
  },
  {
   "cell_type": "markdown",
   "id": "5205ed11",
   "metadata": {},
   "source": [
    "#### RKI Vergleichsdaten"
   ]
  },
  {
   "cell_type": "code",
   "execution_count": 106,
   "id": "7c89f792",
   "metadata": {},
   "outputs": [],
   "source": [
    "###find first day of simulation and import RKI_Inzidenzwert\n",
    "RKI= np.load(\"Internal Data/rki_region_cases38.npy\") \n",
    "begin_of_recording = datetime.datetime.strptime(\"2020/03/01\",\"%Y/%m/%d\")\n",
    "begin_of_simulation = datetime.datetime.strptime(\"2020/07/24\", \"%Y/%m/%d\")\n",
    "d0=(begin_of_simulation-begin_of_recording).days\n",
    "# Inzidenzwert im k-ten Landkreis am d-ten Tag ist RKI[k][2][d0-1+d] \n",
    "\n",
    "M_ =  region_setup(38)[0]\n",
    "N_ = import_rki_data(M_, 7)[2]\n",
    "#N_ enthält Anzahl der Bevölkerung der Landkreis\n",
    "RKI_data = np.load(\"Internal Data/timeline.npy\")\n",
    "I_RKI = np.array([RKI_data[i][1] for i in range(38)])\n",
    "#I_RKI[Landkreis][Tag]\n"
   ]
  },
  {
   "cell_type": "markdown",
   "id": "87535919",
   "metadata": {},
   "source": [
    "#### Simulationsdaten"
   ]
  },
  {
   "cell_type": "code",
   "execution_count": 107,
   "id": "42959322",
   "metadata": {},
   "outputs": [],
   "source": [
    "def initial_Condtions(number_of_Lks):\n",
    "    global initCond\n",
    "    global initCond38\n",
    "    global N\n",
    "    global N_\n",
    "    if number_of_Lks == 12:\n",
    "        return initCond, N\n",
    "    if number_of_Lks == 38:\n",
    "        return initCond38, N_\n",
    "    else:\n",
    "        print(\"invalid number of regions\")\n",
    "    return\n",
    "\n",
    "\n",
    "def find_sol_on_days_(solt, soly, lk_indzies, number_of_days, number_of_Lks, results_type = 0):\n",
    "    # returns X[Landkreis][Tag]  S for results_type = 0, I for results_type = 1, R for results_type=2\n",
    "    # and D for results_type=3\n",
    "    start_punkt = results_type * number_of_Lks\n",
    "    if not lk_indzies: \n",
    "        # if list is empty, simulation is calculated for all regions \n",
    "        S=np.empty((number_of_Lks,number_of_days+1), dtype=float, order='C')\n",
    "        for l in range(number_of_Lks):\n",
    "            k = l + start_punkt\n",
    "            i=0\n",
    "            goodtime=0\n",
    "            for time in range(len(solt)):\n",
    "                if abs(solt[time]-i)<1e-2:\n",
    "                    goodtime=time\n",
    "                    if time+1 <len(solt):\n",
    "                        if abs(solt[time+1]-i)<abs(solt[time]-i):\n",
    "                            goodtime=time+1\n",
    "                    S[l][i]=soly[k][goodtime]\n",
    "                    i=i+1\n",
    "    else: # simulation is calculaten for specified regions\n",
    "        number_of_Lks = len(lk_indzies)\n",
    "        S = np.empty((number_of_Lks,number_of_days+1), dtype=float, order='C')\n",
    "        for l in range(number_of_Lks):\n",
    "            k = lk_indzies[l]\n",
    "            k = k +start_punkt\n",
    "            i=0\n",
    "            goodtime=0\n",
    "            for time in range(len(solt)):\n",
    "                if abs(solt[time]-i)<1e-2:\n",
    "                    goodtime=time\n",
    "                    if time+1 <len(solt):\n",
    "                        if abs(solt[time+1]-i)<abs(solt[time]-i):\n",
    "                            goodtime=time+1\n",
    "                    S[l][i]=soly[k][goodtime]\n",
    "                    i=i+1\n",
    "    return S ## returns X[Landkreis][Tag]\n",
    "\n",
    "\n",
    "def summon_results(params, method, lk_indzies = [], number_of_days=100,\\\n",
    "                   number_of_Lks=12, results_type = 0):\n",
    "    # returns S[Landkreis][Tag] for results_type = 0, I for results_type = 1, R for results_type=2\n",
    "    # and D for results_type=3\n",
    "    # lk_indzies can be out of order or empty for all regions. \n",
    "    dimension = number_of_Lks\n",
    "    alpha = params[0]\n",
    "    beta = params[1]\n",
    "    initConds, X = initial_Condtions(number_of_Lks)\n",
    "    simulation001 = Data(alpha, beta, dimension, \"Pendler.txt\", 0.6, X)\n",
    "    #t = np.linspace(0, number_of_days, t_depth)\n",
    "    sol = sci.solve_ivp(fun=function_of_system, t_span=(0, number_of_days),\\\n",
    "              y0=initConds, method=\"RK45\", args=(simulation001, method, tzero), t_eval=t, dense_output=True)\n",
    "    #simulation001 = Data(alpha, beta, dimension, \"Pendler.txt\", 0.6, import_rki_data(M, 7)[2])\n",
    "    solt = sol.t\n",
    "    soly = sol.y\n",
    "    ss = find_sol_on_days_(solt, soly, lk_indzies, number_of_days, number_of_Lks, results_type)\n",
    "    return ss\n",
    "\n",
    "\n",
    "# Usage examples\n",
    "#print(summon_results([.4,1/14], 'constant',[11,3])) \n",
    "#print(len(summon_results([.4,1/14], 'constant')))"
   ]
  },
  {
   "cell_type": "markdown",
   "id": "79d4f861",
   "metadata": {},
   "source": [
    "#### Tests zur Simulation"
   ]
  },
  {
   "cell_type": "markdown",
   "id": "12dcc160",
   "metadata": {},
   "source": [
    "Warum ist R größer als I im gleichen Landkreis?"
   ]
  },
  {
   "cell_type": "code",
   "execution_count": 92,
   "id": "d86d0e64",
   "metadata": {},
   "outputs": [],
   "source": [
    "parameter_ = [0.44,0.08]\n",
    "method = 'constant'\n",
    "Simu_S = summon_results(parameter_, method, number_of_days=100, number_of_Lks=12, results_type =0)\n",
    "Simu_I = summon_results(parameter_, method, number_of_days=100, number_of_Lks=12, results_type = 1)\n",
    "Simu_R = summon_results(parameter_, method, number_of_days=100, number_of_Lks=12, results_type = 2)\n",
    "Simu_D = summon_results(parameter_, method, number_of_days=100, number_of_Lks=12, results_type = 3)\n"
   ]
  },
  {
   "cell_type": "code",
   "execution_count": 93,
   "id": "19b7dc35",
   "metadata": {},
   "outputs": [
    {
     "name": "stdout",
     "output_type": "stream",
     "text": [
      "(12, 101)\n"
     ]
    },
    {
     "data": {
      "image/png": "[encoded data removed]",
      "text/plain": [
       "<Figure size 432x288 with 1 Axes>"
      ]
     },
     "metadata": {
      "needs_background": "light"
     },
     "output_type": "display_data"
    }
   ],
   "source": [
    "t = np.array([i for i in range(len(Simu_S[1]))])\n",
    "plt.plot(t,Simu_S[1], '.', label=\"S\")\n",
    "plt.plot(t,Simu_I[1], '.', label=\"I, simuliert\")\n",
    "plt.plot(t,Simu_R[1], '.', label=\"R\")\n",
    "plt.plot(t,Simu_D[1], '.', label=\"D\")\n",
    "#plt.plot(t,Simu_S[0], '.', label=\"Lk=1\")\n",
    "#plt.plot(t,Simu_S[2], '.', label=\"Lk=5\")\n",
    "#plt.plot(t,Simu_S[1], '.', label=\"Lk=11\")\n",
    "plt.legend()\n",
    "plt.title(\"$\\\\alpha= 0.44$ $ \\\\beta= 0.08$\")\n",
    "print(Simu_S.shape)"
   ]
  },
  {
   "cell_type": "code",
   "execution_count": 94,
   "id": "e8789527",
   "metadata": {},
   "outputs": [
    {
     "data": {
      "text/plain": [
       "<matplotlib.legend.Legend at 0x7f4fbcdcc790>"
      ]
     },
     "execution_count": 94,
     "metadata": {},
     "output_type": "execute_result"
    },
    {
     "data": {
      "image/png": "[encoded data removed]",
      "text/plain": [
       "<Figure size 432x288 with 1 Axes>"
      ]
     },
     "metadata": {
      "needs_background": "light"
     },
     "output_type": "display_data"
    }
   ],
   "source": [
    "plt.plot(t,Simu_I[1], '.', label=\"I, simuliert\")\n",
    "plt.plot(t[:100],I_RKI[1], label = 'RKI')\n",
    "plt.title(\"Test run\")\n",
    "plt.legend()"
   ]
  },
  {
   "cell_type": "markdown",
   "id": "c91df1f3",
   "metadata": {},
   "source": [
    "#### Berechnung des Inzidenzwerts "
   ]
  },
  {
   "cell_type": "code",
   "execution_count": 95,
   "id": "a14e8f09",
   "metadata": {},
   "outputs": [
    {
     "name": "stdout",
     "output_type": "stream",
     "text": [
      "Inzidenzwerte im 1-ten Landkreis am Tag 12:\n",
      "Simulation: 1.49\n",
      "RKI: 1.42\n"
     ]
    }
   ],
   "source": [
    "def Inzidenzwert(d,k,is_sim, S):\n",
    "    # d ist Tag k ist Landkreis\n",
    "    # die Funktion berechnet Inzidenzwert der Simulation an Tag d in Landkreis k\n",
    "    if is_sim == 0:\n",
    "        Oomega = RKI[k][2][d0-1+d]\n",
    "        return Oomega\n",
    "    else:\n",
    "        if d<7:\n",
    "            Omega = -(S[k][d]-S[k][0])\n",
    "        if d==0:\n",
    "            Omega = S[k][0]\n",
    "        else:\n",
    "            Omega = -(S[k][d]-S[k][d-7])\n",
    "            \n",
    "    return Omega*100000\n",
    "\n",
    "def find_index(k, lk_indzies = []):\n",
    "    if not lk_indzies:\n",
    "        return k\n",
    "    else:\n",
    "        return lk_indzies[k]\n",
    "    \n",
    "def Omega_ges(N_, d, is_sim, number_of_Lks=12, lk_indzies = [], S = []):\n",
    "    numberofLks = len(lk_indzies)\n",
    "    if numberofLks == 0:\n",
    "            numberofLks = number_of_Lks\n",
    "    res = 0\n",
    "    N_tot = 0\n",
    "    for i in range(numberofLks):\n",
    "        k = find_index(i, lk_indzies)\n",
    "        res = res + N_[k]*Inzidenzwert(d,k,is_sim, S)/100000\n",
    "        N_tot = N_tot + N_[k]\n",
    "    return res/N_tot\n",
    "         \n",
    "Simu = summon_results([0.165,1/14], 'constant',[])\n",
    "print(\"Inzidenzwerte im 1-ten Landkreis am Tag 12:\")\n",
    "print(\"Simulation:\", round(Inzidenzwert(12,1,1, Simu),2))\n",
    "print(\"RKI:\", round(Inzidenzwert(12,1,0, Simu),2))"
   ]
  },
  {
   "cell_type": "markdown",
   "id": "10928330",
   "metadata": {},
   "source": [
    "## Bewertungsfunktionen"
   ]
  },
  {
   "cell_type": "markdown",
   "id": "6f068123",
   "metadata": {},
   "source": [
    "functions must take the following arguments:\n",
    "\n",
    "    params, method ='constant', lk_indzies = [], number_of_days = 100, number_of_Lks = 12\n",
    "    \n",
    "some version of the following code is required:\n",
    "\n",
    "    if (params[0]<0):\n",
    "        return np.inf\n",
    "    if (params[1]<0):\n",
    "        return np.inf\n",
    "    x = summon_results(params, method, lk_indzies, number_of_days, number_of_Lks, results_type)\n",
    "    \n",
    "    \n",
    "x ist ein Array der Form x[Landkreis][Tag]    \n",
    "Wähle results_type = 0 für S, results_type = 1 für I, results_type=2 für R\n",
    "und results_type=3 für D"
   ]
  },
  {
   "cell_type": "code",
   "execution_count": 108,
   "id": "e15cfaa4",
   "metadata": {},
   "outputs": [],
   "source": [
    "def f_0(params, method ='constant', lk_indzies = [], number_of_days = 100, number_of_Lks = 12):\n",
    "    if (params[0]<0):\n",
    "        return np.inf\n",
    "    if (params[1]<0):\n",
    "        return np.inf\n",
    "    S = summon_results(params, method, lk_indzies, number_of_days, number_of_Lks)\n",
    "    #S[Landkreis][Tag]\n",
    "    res = 0\n",
    "    for d in range(len(S[0])):\n",
    "        Omega_rki = Omega_ges(N_, d, 0, number_of_Lks, lk_indzies)\n",
    "        res = res + ((Omega_ges(N_, d, 1, number_of_Lks, lk_indzies, S) - Omega_rki )/Omega_rki)**2\n",
    "    return res\n",
    "\n",
    "\n",
    "def f_1(params, method ='constant', lk_indzies = [], number_of_days = 100, number_of_Lks = 12):\n",
    "    if (params[0]<0):\n",
    "        return np.inf\n",
    "    if (params[1]<0):\n",
    "        return np.inf\n",
    "    S = summon_results(params, method, lk_indzies, number_of_days, number_of_Lks)\n",
    "    res = 0\n",
    "    for d in range(len(S[0])):\n",
    "        Omega_rki = Omega_ges(N_, d, 0, number_of_Lks, lk_indzies)\n",
    "        res = res + ((Omega_ges(N_, d, 1, number_of_Lks, lk_indzies, S) - Omega_rki )**2/Omega_rki)\n",
    "    return res\n",
    "\n",
    "\n",
    "def f_2(params, method ='constant', lk_indzies = [], number_of_days = 100, number_of_Lks = 12):\n",
    "    if (params[0]<0):\n",
    "        return np.inf\n",
    "    if (params[1]<0):\n",
    "        return np.inf\n",
    "    S = summon_results(params, method, lk_indzies, number_of_days, number_of_Lks)\n",
    "    numberofLks = len(lk_indzies)\n",
    "    if numberofLks == 0:\n",
    "            numberofLks = number_of_Lks\n",
    "    res = 0\n",
    "    for d in range(len(S[0])):\n",
    "        for i in range(numberofLks):\n",
    "            k = find_index(i, lk_indzies)\n",
    "            res = res + ((Inzidenzwert(d,k,0, S)-Inzidenzwert(d,k,1, S))/(Inzidenzwert(d,k,1, S)))**2\n",
    "    return res\n",
    "\n",
    "\n",
    "def f_3(params, method ='constant', lk_indzies = [], number_of_days = 100, number_of_Lks = 12):\n",
    "    if (params[0]<0):\n",
    "        return np.inf\n",
    "    if (params[1]<0):\n",
    "        return np.inf\n",
    "    S = summon_results(params, method, lk_indzies, number_of_days, number_of_Lks)\n",
    "    numberofLks = len(lk_indzies)\n",
    "    if numberofLks == 0:\n",
    "            numberofLks = number_of_Lks\n",
    "    res = 0\n",
    "    r = []\n",
    "    for d in range(len(S[0])):\n",
    "        for i in range(numberofLks):\n",
    "            k = find_index(i, lk_indzies)\n",
    "            \n",
    "            r.append(((Inzidenzwert(d,k,0, S)-Inzidenzwert(d,k,1, S))/(Inzidenzwert(d,k,1, S)))**2)\n",
    "    res = sum(r) + 5 * sum([abs(r[k]-sum(r)/len(r)) for k in range(len(r))])\n",
    "    return res\n",
    "\n",
    "def f_4(params, method ='constant', lk_indzies = [], number_of_days = 100, number_of_Lks = 12):\n",
    "    if (params[0]<0):\n",
    "        return np.inf\n",
    "    if (params[1]<0):\n",
    "        return np.inf\n",
    "    S = summon_results(params, method, lk_indzies, number_of_days, number_of_Lks)\n",
    "    numberofLks = len(lk_indzies)\n",
    "    if numberofLks == 0:\n",
    "            numberofLks = number_of_Lks\n",
    "    res = 0\n",
    "    r = 0\n",
    "    N_tot = 0\n",
    "    for d in range(len(S[0])):\n",
    "        for i in range(numberofLks):\n",
    "            k = find_index(i, lk_indzies)\n",
    "            omega_d_k_RKI = Inzidenzwert(d,k,0, S)\n",
    "            if omega_d_k_RKI == 0:\n",
    "                r = N_[k]*Inzidenzwert(d,k,1, S)\n",
    "            else:\n",
    "                r = N_[k]*((omega_d_k_RKI -Inzidenzwert(d,k,1, S))/(omega_d_k_RKI))**2\n",
    "            N_tot = N_tot + N_[k]\n",
    "            res = res + r\n",
    "    return res/N_tot\n",
    "\n",
    "def f_5(params, method ='constant', lk_indzies = [], number_of_days = 100, number_of_Lks = 12):\n",
    "    if (params[0]<0):\n",
    "        return np.inf\n",
    "    if (params[1]<0):\n",
    "        return np.inf\n",
    "    I = summon_results(params, method, lk_indzies, number_of_days, number_of_Lks, results_type = 1)\n",
    "    numberofLks = len(lk_indzies)\n",
    "    if numberofLks == 0:\n",
    "            numberofLks = number_of_Lks\n",
    "    res = 0\n",
    "    for d in range(number_of_days):\n",
    "        for i in range(numberofLks):\n",
    "            k = find_index(i, lk_indzies)\n",
    "            r = I_RKI[k][d]\n",
    "            if r == 0:\n",
    "                i = i+1\n",
    "            else:\n",
    "                res = res + ((I[i][d]-r)/r)**2\n",
    "    return res"
   ]
  },
  {
   "cell_type": "code",
   "execution_count": 111,
   "id": "a978c793",
   "metadata": {},
   "outputs": [
    {
     "name": "stdout",
     "output_type": "stream",
     "text": [
      "29741634799.18722\n",
      "483456.9361572779\n",
      "514064.4906538377\n",
      "5628738.201848651\n",
      "347867311.219884\n",
      "18722118336.450344\n"
     ]
    }
   ],
   "source": [
    "print(f_0([.4,1/14], 'constant'))\n",
    "print(f_1([.4,1/14], 'constant'))\n",
    "print(f_2([.4,1/14], 'heaviside'))\n",
    "print(f_3([.4,1/14], 'heaviside'))\n",
    "print(f_4([.4,1/14], 'heaviside'))\n",
    "print(f_5([.4,1/14], 'heaviside'))"
   ]
  },
  {
   "cell_type": "code",
   "execution_count": 112,
   "id": "1ab78cb8",
   "metadata": {},
   "outputs": [
    {
     "name": "stdout",
     "output_type": "stream",
     "text": [
      "28129873527.377872\n",
      "51661215446.135925\n",
      "2528.285019888717\n",
      "42942520143.04252\n"
     ]
    }
   ],
   "source": [
    "print(f_5([.3,1/14], 'constant'))\n",
    "print(f_5([.5,1/14], 'constant'))\n",
    "print(f_5([.1,1/14], 'constant'))\n",
    "print(f_5([.7,1/14], 'constant'))"
   ]
  },
  {
   "cell_type": "markdown",
   "id": "7edcd336",
   "metadata": {},
   "source": [
    "### In-house optimizer"
   ]
  },
  {
   "cell_type": "code",
   "execution_count": 123,
   "id": "1ebd08fb",
   "metadata": {},
   "outputs": [],
   "source": [
    "def Bew(params, function, component_value = 0, which_component =-1,\\\n",
    "        method = 'constant', lk_indzies = [], number_of_days = 100, number_of_Lks = 12 ): \n",
    "    ## function specifies which Bewertungsfunktion to use\n",
    "    if which_component == -1:\n",
    "        return function(params, method, lk_indzies, number_of_days, number_of_Lks)\n",
    "    else:\n",
    "        z = params\n",
    "        z[which_component] = component_value\n",
    "        return function(z, method, lk_indzies, number_of_days, number_of_Lks)\n",
    "\n",
    "    \n",
    "def isbetter(new_eval, current_eval):\n",
    "    if new_eval > current_eval:\n",
    "        return 1\n",
    "    else:\n",
    "        return 0\n",
    "    \n",
    "def improve(params, function, which_component, component_value, sign, evals,\\\n",
    "            method = 'constant', lk_indzies = [], number_of_days = 100, number_of_Lks = 12):\n",
    "    i = 0\n",
    "    d = 0\n",
    "    last_sucess = 0\n",
    "    new_eval = evals\n",
    "    value = component_value\n",
    "    o_err=2\n",
    "    if (which_component == -1):\n",
    "        while i - last_sucess < 15 and o_err < 4:\n",
    "            if i - last_sucess >8:\n",
    "                o_err = o_err + 1\n",
    "                last_sucess = 0\n",
    "                i = 0\n",
    "                component = value\n",
    "            d = i * 10**(-o_err) * sign * np.array(value)\n",
    "            component_value = value + d\n",
    "            evals=new_eval\n",
    "            new_eval = Bew(params, function, component_value, which_component,\\\n",
    "        method, lk_indzies, number_of_days, number_of_Lks)\n",
    "            i = i + 1\n",
    "        if new_eval < evals:\n",
    "            last_sucess=last_sucess + 1\n",
    "            value = component_value\n",
    "            #print(new_eval,\" \", params)\n",
    "    i = 0\n",
    "    d = 0\n",
    "    last_sucess = 0\n",
    "    while i - last_sucess < 15 and o_err < 4:\n",
    "        if i - last_sucess >8:\n",
    "            o_err = o_err + 1\n",
    "            last_sucess = 0\n",
    "            i = 0\n",
    "            component_value = value\n",
    "        d = i * 10**(-o_err) * sign\n",
    "        component_value = value + d\n",
    "        evals = new_eval\n",
    "        new_eval = Bew(params, function, component_value, which_component,\\\n",
    "        method, lk_indzies, number_of_days, number_of_Lks )\n",
    "        i = i + 1\n",
    "        if new_eval < evals:\n",
    "            last_sucess=last_sucess + 1\n",
    "            value = component_value\n",
    "            #print(new_eval,\" \", params)\n",
    "    return value, new_eval\n",
    "  \n",
    "   "
   ]
  },
  {
   "cell_type": "code",
   "execution_count": 124,
   "id": "127c04ed",
   "metadata": {},
   "outputs": [],
   "source": [
    "def improve_component(params, function, which_component, \\\n",
    "            method = 'constant', lk_indzies = [], number_of_days = 100, number_of_Lks = 12):\n",
    "    \n",
    "    if which_component == -1:\n",
    "        component_value = params\n",
    "    else:\n",
    "        component_value = params[which_component]\n",
    "    start_eval = Bew(params, function, component_value, which_component)\n",
    "    component_pos, eval1 = improve(params, function, which_component, component_value, 1, start_eval,\\\n",
    "                                  method, lk_indzies, number_of_days, number_of_Lks)\n",
    "    component_neg, eval2 = improve(params, function, which_component, component_value, -1, start_eval,\\\n",
    "                                  method, lk_indzies, number_of_days, number_of_Lks)\n",
    "    if eval1<eval2:\n",
    "        return component_pos\n",
    "    else:\n",
    "        return component_neg\n"
   ]
  },
  {
   "cell_type": "code",
   "execution_count": 125,
   "id": "2190ff45",
   "metadata": {},
   "outputs": [],
   "source": [
    "def optimize(parameters, function, \\\n",
    "            method = 'constant', lk_indzies = [], number_of_days = 100, number_of_Lks = 12):\n",
    "    \n",
    "    improved_paramters=np.array(parameters)\n",
    "    for e in range(len(parameters)):\n",
    "        improved_paramters[e] = improve_component(parameters, function, e,\\\n",
    "                                                  method, lk_indzies, number_of_days, number_of_Lks)\n",
    "    return improve_component(parameters, function, -1,\\\n",
    "                             method, lk_indzies, number_of_days, number_of_Lks)\n",
    "\n"
   ]
  },
  {
   "cell_type": "markdown",
   "id": "bf306d50",
   "metadata": {},
   "source": [
    "# Test Optimization"
   ]
  },
  {
   "cell_type": "markdown",
   "id": "3e4bd4da",
   "metadata": {},
   "source": [
    "## Simplex"
   ]
  },
  {
   "cell_type": "markdown",
   "id": "2e5067a7",
   "metadata": {},
   "source": [
    "to use copy any of the following cells.   \n",
    "**args**  can be used as follows:\n",
    "- **methode** can be either 'constant' or 'heaviside', has default value of 'constant'\n",
    "- **lk_indzies** is list of specific regions. it can be out of order. leave empty for all regions\n",
    "- **number_of_Lks** can either be 12 or 36, has default value of 12\n",
    "- **number_of_days** has default value of 100"
   ]
  },
  {
   "cell_type": "code",
   "execution_count": 113,
   "id": "3a308667",
   "metadata": {},
   "outputs": [
    {
     "name": "stdout",
     "output_type": "stream",
     "text": [
      "Optimization terminated successfully.\n",
      "         Current function value: 1477.082713\n",
      "         Iterations: 53\n",
      "         Function evaluations: 119\n"
     ]
    },
    {
     "data": {
      "text/plain": [
       "array([0.42678053, 0.07426423])"
      ]
     },
     "execution_count": 113,
     "metadata": {},
     "output_type": "execute_result"
    }
   ],
   "source": [
    "simplex(f_3,[.4,1/14], args=('heaviside',), xtol=0.0001, ftol=0.0001, maxiter=None, maxfun=None, full_output=0, disp=1, retall=0, callback=None, initial_simplex=None )\n",
    "\n",
    "# output:\n",
    "# [0.42678053, 0.07426423]"
   ]
  },
  {
   "cell_type": "code",
   "execution_count": 114,
   "id": "2aa72052",
   "metadata": {},
   "outputs": [
    {
     "name": "stdout",
     "output_type": "stream",
     "text": [
      "Optimization terminated successfully.\n",
      "         Current function value: 1113.389367\n",
      "         Iterations: 48\n",
      "         Function evaluations: 108\n"
     ]
    },
    {
     "data": {
      "text/plain": [
       "array([0.4669364 , 0.08100945])"
      ]
     },
     "execution_count": 114,
     "metadata": {},
     "output_type": "execute_result"
    }
   ],
   "source": [
    "simplex(f_2,[.4,1/14], args=('heaviside',), xtol=0.0001, ftol=0.0001, maxiter=None, maxfun=None, full_output=0, disp=1, retall=0, callback=None, initial_simplex=None )\n",
    "\n",
    "# output:\n",
    "# [0.4669364 , 0.08100945]"
   ]
  },
  {
   "cell_type": "code",
   "execution_count": 115,
   "id": "f9ac0f1a",
   "metadata": {},
   "outputs": [
    {
     "name": "stdout",
     "output_type": "stream",
     "text": [
      "Optimization terminated successfully.\n",
      "         Current function value: 330918.376905\n",
      "         Iterations: 128\n",
      "         Function evaluations: 269\n"
     ]
    },
    {
     "data": {
      "text/plain": [
       "array([0.36965686, 0.07743744])"
      ]
     },
     "execution_count": 115,
     "metadata": {},
     "output_type": "execute_result"
    }
   ],
   "source": [
    "simplex(f_1,[.4,1/14], args=('heaviside',), xtol=0.0001, ftol=0.0001, maxiter=None, maxfun=None, full_output=0, disp=1, retall=0, callback=None, initial_simplex=None )\n",
    "\n",
    "# output: \n",
    "# [0.36965686, 0.07743744]"
   ]
  },
  {
   "cell_type": "code",
   "execution_count": 116,
   "id": "f80ed2ed",
   "metadata": {},
   "outputs": [
    {
     "name": "stdout",
     "output_type": "stream",
     "text": [
      "Warning: Maximum number of function evaluations has been exceeded.\n"
     ]
    },
    {
     "data": {
      "text/plain": [
       "array([0.37103014, 0.0782182 ])"
      ]
     },
     "execution_count": 116,
     "metadata": {},
     "output_type": "execute_result"
    }
   ],
   "source": [
    "simplex(f_0,[.4,1/14], args=('heaviside',), xtol=0.0001, ftol=0.0001, maxiter=None, maxfun=None, full_output=0, disp=1, retall=0, callback=None, initial_simplex=None )\n",
    "\n",
    "# output: \n",
    "# [0.37103014, 0.0782182 ]"
   ]
  },
  {
   "cell_type": "code",
   "execution_count": 117,
   "id": "6bfd135b",
   "metadata": {},
   "outputs": [
    {
     "name": "stdout",
     "output_type": "stream",
     "text": [
      "Optimization terminated successfully.\n",
      "         Current function value: 268853003.037759\n",
      "         Iterations: 158\n",
      "         Function evaluations: 330\n"
     ]
    },
    {
     "data": {
      "text/plain": [
       "array([0.37726444, 0.07770997])"
      ]
     },
     "execution_count": 117,
     "metadata": {},
     "output_type": "execute_result"
    }
   ],
   "source": [
    "simplex(f_4,[.4,1/14], args=('heaviside',), xtol=0.0001, ftol=0.0001, maxiter=None, maxfun=None, full_output=0, disp=1, retall=0, callback=None, initial_simplex=None )\n",
    "\n",
    "#output: \n",
    "# [0.4669364 , 0.08100945]"
   ]
  },
  {
   "cell_type": "code",
   "execution_count": 118,
   "id": "a0573a49",
   "metadata": {},
   "outputs": [
    {
     "name": "stdout",
     "output_type": "stream",
     "text": [
      "Optimization terminated successfully.\n",
      "         Current function value: 693.753763\n",
      "         Iterations: 54\n",
      "         Function evaluations: 118\n"
     ]
    },
    {
     "data": {
      "text/plain": [
       "array([0.12000558, 0.10357076])"
      ]
     },
     "execution_count": 118,
     "metadata": {},
     "output_type": "execute_result"
    }
   ],
   "source": [
    "simplex(f_5,[.4,1/14], args=('heaviside',), xtol=0.0001, ftol=0.0001, maxiter=None, maxfun=None, full_output=0, disp=1, retall=0, callback=None, initial_simplex=None )\n",
    "\n",
    "#output:\n",
    "# [0.12000558, 0.10357076]"
   ]
  },
  {
   "cell_type": "markdown",
   "id": "3b9a2a7b",
   "metadata": {},
   "source": [
    "## In-house"
   ]
  },
  {
   "cell_type": "markdown",
   "id": "27ff7aa5",
   "metadata": {},
   "source": [
    "**currently is not working correctly!**\n",
    "\n",
    "to run simply use:\n",
    "\n",
    "    optimize(parameters, function, method = 'constant', lk_indzies = [], number_of_days = 100, number_of_Lks = 12)\n",
    "\n",
    "Arguments after function are optional:\n",
    "\n",
    "- **methode** can be either 'constant' or 'heaviside', has default value of 'constant'\n",
    "- **lk_indzies** is list of specific regions. it can be out of order. leave empty for all regions\n",
    "- **number_of_Lks** can either be 12 or 36, has default value of 12\n",
    "- **number_of_days** has default value of 100"
   ]
  },
  {
   "cell_type": "code",
   "execution_count": 126,
   "id": "b37c04ac",
   "metadata": {},
   "outputs": [
    {
     "name": "stdout",
     "output_type": "stream",
     "text": [
      "used function:  f_5\n",
      "Current function value:  805.4497938958588\n",
      "optimale Parameter:  [0.0, 0.0014285714285714258]\n"
     ]
    }
   ],
   "source": [
    "functions = [f_5]\n",
    "function_names = [\"f_5\"]\n",
    "res = [optimize([.4,1/14],functions[i], 'constant') for i in range(len(functions))]\n",
    "for i in range(len(functions)):\n",
    "    print(\"used function: \", function_names[i])\n",
    "    print(\"Current function value: \", functions[i](res[i], 'constant'))\n",
    "    print (\"optimale Parameter: \", res[i])\n"
   ]
  },
  {
   "cell_type": "code",
   "execution_count": 119,
   "id": "67d90c94",
   "metadata": {},
   "outputs": [
    {
     "data": {
      "text/plain": [
       "'used function:  f_0\\nCurrent function value:  4503255600.417591\\noptimale Parameter:  [0.00399999999999999, 0.07142857142857142]\\nused function:  f_1\\nCurrent function value:  66966.04272081747\\noptimale Parameter:  [0.00399999999999999, 0.05142857142857142]\\nused function:  f_2\\nCurrent function value:  13321447.57504609\\noptimale Parameter:  [0.01999999999999999, 0.0014285714285714258]\\nused function:  f_3\\nCurrent function value:  128943603.67139372\\noptimale Parameter:  [0.01999999999999999, 0.0014285714285714258]\\nused function:  f_4\\nCurrent function value:  45837836.13322977\\noptimale Parameter:  [0.00399999999999999, 0.07142857142857142]'"
      ]
     },
     "execution_count": 119,
     "metadata": {},
     "output_type": "execute_result"
    }
   ],
   "source": [
    "\"\"\"used function:  f_0\n",
    "Current function value:  4503255600.417591\n",
    "optimale Parameter:  [0.00399999999999999, 0.07142857142857142]\n",
    "used function:  f_1\n",
    "Current function value:  66966.04272081747\n",
    "optimale Parameter:  [0.00399999999999999, 0.05142857142857142]\n",
    "used function:  f_2\n",
    "Current function value:  13321447.57504609\n",
    "optimale Parameter:  [0.01999999999999999, 0.0014285714285714258]\n",
    "used function:  f_3\n",
    "Current function value:  128943603.67139372\n",
    "optimale Parameter:  [0.01999999999999999, 0.0014285714285714258]\n",
    "used function:  f_4\n",
    "Current function value:  45837836.13322977\n",
    "optimale Parameter:  [0.00399999999999999, 0.07142857142857142]\"\"\""
   ]
  },
  {
   "cell_type": "markdown",
   "id": "88ff85ae",
   "metadata": {},
   "source": [
    "## Plots"
   ]
  },
  {
   "cell_type": "code",
   "execution_count": 177,
   "id": "26768ae6",
   "metadata": {},
   "outputs": [],
   "source": [
    "functions = [f_0, f_1, f_2, f_3, f_4]"
   ]
  },
  {
   "cell_type": "code",
   "execution_count": 180,
   "id": "f90c7589",
   "metadata": {},
   "outputs": [
    {
     "name": "stderr",
     "output_type": "stream",
     "text": [
      "/tmp/ipykernel_59463/2094289639.py:41: RuntimeWarning: divide by zero encountered in double_scalars\n",
      "  res = res + ((Inzidenzwert(d,k,0, S)-Inzidenzwert(d,k,1, S))/(Inzidenzwert(d,k,1, S)))**2\n",
      "/tmp/ipykernel_59463/2094289639.py:41: RuntimeWarning: invalid value encountered in double_scalars\n",
      "  res = res + ((Inzidenzwert(d,k,0, S)-Inzidenzwert(d,k,1, S))/(Inzidenzwert(d,k,1, S)))**2\n",
      "/tmp/ipykernel_59463/2094289639.py:60: RuntimeWarning: divide by zero encountered in double_scalars\n",
      "  r.append(((Inzidenzwert(d,k,0, S)-Inzidenzwert(d,k,1, S))/(Inzidenzwert(d,k,1, S)))**2)\n",
      "/tmp/ipykernel_59463/2094289639.py:60: RuntimeWarning: invalid value encountered in double_scalars\n",
      "  r.append(((Inzidenzwert(d,k,0, S)-Inzidenzwert(d,k,1, S))/(Inzidenzwert(d,k,1, S)))**2)\n"
     ]
    }
   ],
   "source": [
    "resolution = 10\n",
    "\n",
    "alpha = np.linspace(0,1,resolution)\n",
    "beta = np.linspace(0,1,resolution)\n",
    "Z_const = np.array([np.zeros((resolution, resolution)) for f in range(len(functions))])\n",
    "Z_heavi = np.array([np.zeros((resolution, resolution)) for f in range(len(functions))])\n",
    "\n",
    "for f in range(len(functions)):\n",
    "    for i in range(len(alpha)):\n",
    "        for j in range(len(beta)):\n",
    "            Z_const[f][i][j] = functions[f]([alpha[i],beta[j]], method='constant')\n",
    "            Z_heavi[f][i][j] = functions[f]([alpha[i],beta[j]], method='heaviside')\n",
    "        "
   ]
  },
  {
   "cell_type": "code",
   "execution_count": 276,
   "id": "e81449a0",
   "metadata": {},
   "outputs": [],
   "source": [
    "resolution = 10\n",
    "\n",
    "alpha = np.linspace(0,1,resolution)\n",
    "beta = np.linspace(0,1,resolution)\n",
    "Z_const_5 = np.zeros((resolution, resolution))\n",
    "Z_heavi_5 = np.zeros((resolution, resolution))\n",
    "\n",
    "for i in range(len(alpha)):\n",
    "    for j in range(len(beta)):\n",
    "        Z_const_5[i][j] = f_5([alpha[i],beta[j]], method='constant')\n",
    "        Z_heavi_5[i][j] = f_5([alpha[i],beta[j]], method='heaviside')\n",
    "        "
   ]
  },
  {
   "cell_type": "code",
   "execution_count": null,
   "id": "4f0a0149",
   "metadata": {},
   "outputs": [],
   "source": []
  },
  {
   "cell_type": "code",
   "execution_count": 278,
   "id": "799ff15b",
   "metadata": {},
   "outputs": [
    {
     "data": {
      "image/png": "[encoded data removed]",
      "text/plain": [
       "<Figure size 432x288 with 4 Axes>"
      ]
     },
     "metadata": {
      "needs_background": "light"
     },
     "output_type": "display_data"
    }
   ],
   "source": [
    "#### Funktion f_5\n",
    "#ändere die 4 in Z_const[4] um andere Funktionen zu plotten\n",
    "\n",
    "Zdiff_const = Z_const_5 - np.mean(Z_const_5)\n",
    "Zdiff_heavi = Z_heavi_5 - np.mean(Z_heavi_5)\n",
    "\n",
    "# norm = cm.colors.Normalize(vmax=max(Zdiff_const.max(), Zdiff_heavi.max()), vmin=min(Zdiff_const.min(), Zdiff_heavi.min()))\n",
    "norm_const = cm.colors.Normalize(vmax=Zdiff_const.max(), vmin=Zdiff_const.min())\n",
    "norm_heavi = cm.colors.Normalize(vmax=Zdiff_heavi.max(), vmin=Zdiff_heavi.min())\n",
    "ALPHA, BETA = np.meshgrid(alpha, beta)\n",
    "\n",
    "# if one colorbar (i.e. corresponding colours) for both plots is wanted:\n",
    "'''\n",
    "fig = plt.figure()\n",
    "\n",
    "grid = AxesGrid(fig, 111,\n",
    "                nrows_ncols=(1, 2),\n",
    "                axes_pad=0.25,\n",
    "               cbar_mode='single',\n",
    "                cbar_location='right',\n",
    "                cbar_pad=0.1\n",
    "                )\n",
    "\n",
    "cset = grid[0].contourf(\n",
    "    ALPHA, BETA, Zdiff_const, resolution, norm=norm\n",
    "    )\n",
    "\n",
    "cset = grid[1].contourf(\n",
    "    ALPHA, BETA, Zdiff_heavi, resolution, norm=norm\n",
    "    )\n",
    "\n",
    "for ax in grid:\n",
    "    ax.set_xlim(0, 1)\n",
    "\n",
    "cbar = ax.cax.colorbar(cset)\n",
    "cbar = grid.cbar_axes[0].colorbar(cset)\n",
    "'''\n",
    "\n",
    "fig, (ax1, ax2) = plt.subplots(1,2)\n",
    "fig.subplots_adjust(wspace=0.5)\n",
    "\n",
    "cset1 = ax1.contourf(\n",
    "    ALPHA, BETA, Zdiff_const, resolution, vmax=Zdiff_const.max(), vmin=Zdiff_const.min()\n",
    ")\n",
    "ax1.set(adjustable='box', aspect='equal')\n",
    "ax1_divider = make_axes_locatable(ax1)\n",
    "cax1 = ax1_divider.append_axes(\"right\", size=\"7%\", pad=\"5%\")\n",
    "cbar1 = fig.colorbar(cset1, cax=cax1)\n",
    "\n",
    "cset2 = ax2.contourf(\n",
    "    ALPHA, BETA, Zdiff_heavi, resolution, vmax=Zdiff_heavi.max(), vmin=Zdiff_heavi.min()\n",
    ")\n",
    "ax2.set(adjustable='box', aspect='equal')\n",
    "ax2_divider = make_axes_locatable(ax2)\n",
    "cax2 = ax2_divider.append_axes(\"right\", size=\"7%\", pad=\"5%\")\n",
    "cbar2 = fig.colorbar(cset2, cax=cax2)\n",
    "\n",
    "#ax.set_yscale('log')\n",
    "#ax.set_xscale('log')\n",
    "#ax.set_ylim(0, 1)\n",
    "#ax.set_xticks([])\n",
    "#ax.set_yticks([])\n",
    "\n",
    "#Zdiff_const"
   ]
  },
  {
   "cell_type": "code",
   "execution_count": 205,
   "id": "606db648",
   "metadata": {},
   "outputs": [
    {
     "data": {
      "image/png": "[encoded data removed]",
      "text/plain": [
       "<Figure size 432x288 with 2 Axes>"
      ]
     },
     "metadata": {
      "needs_background": "light"
     },
     "output_type": "display_data"
    }
   ],
   "source": [
    "fig, (ax1, ax2) = plt.subplots(1,2, subplot_kw={\"projection\": \"3d\"})\n",
    "fig.subplots_adjust(wspace=0.5)\n",
    "surf1 = ax1.plot_surface(ALPHA, BETA, Zdiff_const, cmap=cm.coolwarm,\n",
    "                       linewidth=0, antialiased=False)\n",
    "surf2 = ax2.plot_surface(ALPHA, BETA, Zdiff_heavi, cmap=cm.coolwarm,\n",
    "                       linewidth=0, antialiased=False)\n"
   ]
  },
  {
   "cell_type": "markdown",
   "id": "356d6640",
   "metadata": {},
   "source": [
    "## Fehler der Parameter"
   ]
  },
  {
   "cell_type": "markdown",
   "id": "c2716d85",
   "metadata": {},
   "source": [
    "**Vorsicht!**\n",
    "Die nächste Zelle dauert seher **lange!**"
   ]
  },
  {
   "cell_type": "code",
   "execution_count": 182,
   "id": "23394026",
   "metadata": {},
   "outputs": [
    {
     "name": "stdout",
     "output_type": "stream",
     "text": [
      "Optimization terminated successfully.\n",
      "         Current function value: 2880201418364.551758\n",
      "         Iterations: 9\n",
      "         Function evaluations: 35\n",
      "Optimization terminated successfully.\n",
      "         Current function value: 268853003.037759\n",
      "         Iterations: 158\n",
      "         Function evaluations: 330\n",
      "Optimization terminated successfully.\n",
      "         Current function value: 2880201418364.551758\n",
      "         Iterations: 9\n",
      "         Function evaluations: 35\n",
      "Optimization terminated successfully.\n",
      "         Current function value: 268853003.037759\n",
      "         Iterations: 158\n",
      "         Function evaluations: 330\n",
      "Optimization terminated successfully.\n",
      "         Current function value: 2880201418364.551758\n",
      "         Iterations: 9\n",
      "         Function evaluations: 35\n",
      "Optimization terminated successfully.\n",
      "         Current function value: 268853003.037759\n",
      "         Iterations: 158\n",
      "         Function evaluations: 330\n",
      "Optimization terminated successfully.\n",
      "         Current function value: 2880201418364.551758\n",
      "         Iterations: 9\n",
      "         Function evaluations: 35\n",
      "Optimization terminated successfully.\n",
      "         Current function value: 268853003.037759\n",
      "         Iterations: 158\n",
      "         Function evaluations: 330\n",
      "Optimization terminated successfully.\n",
      "         Current function value: 2880201418364.551758\n",
      "         Iterations: 9\n",
      "         Function evaluations: 35\n",
      "Optimization terminated successfully.\n",
      "         Current function value: 268853003.037759\n",
      "         Iterations: 158\n",
      "         Function evaluations: 330\n",
      "Optimization terminated successfully.\n",
      "         Current function value: 2880201418364.551758\n",
      "         Iterations: 9\n",
      "         Function evaluations: 35\n",
      "Optimization terminated successfully.\n",
      "         Current function value: 268853003.037759\n",
      "         Iterations: 158\n",
      "         Function evaluations: 330\n",
      "Optimization terminated successfully.\n",
      "         Current function value: 2880201418364.551758\n",
      "         Iterations: 9\n",
      "         Function evaluations: 35\n",
      "Optimization terminated successfully.\n",
      "         Current function value: 268853003.037759\n",
      "         Iterations: 158\n",
      "         Function evaluations: 330\n",
      "Optimization terminated successfully.\n",
      "         Current function value: 2880201418364.551758\n",
      "         Iterations: 9\n",
      "         Function evaluations: 35\n",
      "Optimization terminated successfully.\n",
      "         Current function value: 268853003.037759\n",
      "         Iterations: 158\n",
      "         Function evaluations: 330\n",
      "Optimization terminated successfully.\n",
      "         Current function value: 2880201418364.551758\n",
      "         Iterations: 9\n",
      "         Function evaluations: 35\n",
      "Optimization terminated successfully.\n",
      "         Current function value: 268853003.037759\n",
      "         Iterations: 158\n",
      "         Function evaluations: 330\n",
      "Optimization terminated successfully.\n",
      "         Current function value: 2880201418364.551758\n",
      "         Iterations: 9\n",
      "         Function evaluations: 35\n",
      "Optimization terminated successfully.\n",
      "         Current function value: 268853003.037759\n",
      "         Iterations: 158\n",
      "         Function evaluations: 330\n",
      "Optimization terminated successfully.\n",
      "         Current function value: 2880201418364.551758\n",
      "         Iterations: 9\n",
      "         Function evaluations: 35\n",
      "Optimization terminated successfully.\n",
      "         Current function value: 268853003.037759\n",
      "         Iterations: 158\n",
      "         Function evaluations: 330\n",
      "Optimization terminated successfully.\n",
      "         Current function value: 2880201418364.551758\n",
      "         Iterations: 9\n",
      "         Function evaluations: 35\n",
      "Optimization terminated successfully.\n",
      "         Current function value: 268853003.037759\n",
      "         Iterations: 158\n",
      "         Function evaluations: 330\n",
      "Optimization terminated successfully.\n",
      "         Current function value: 2880201418364.551758\n",
      "         Iterations: 9\n",
      "         Function evaluations: 35\n",
      "Optimization terminated successfully.\n",
      "         Current function value: 268853003.037759\n",
      "         Iterations: 158\n",
      "         Function evaluations: 330\n",
      "Optimization terminated successfully.\n",
      "         Current function value: 2880201418364.551758\n",
      "         Iterations: 9\n",
      "         Function evaluations: 35\n",
      "Optimization terminated successfully.\n",
      "         Current function value: 268853003.037759\n",
      "         Iterations: 158\n",
      "         Function evaluations: 330\n",
      "Optimization terminated successfully.\n",
      "         Current function value: 2880201418364.551758\n",
      "         Iterations: 9\n",
      "         Function evaluations: 35\n",
      "Optimization terminated successfully.\n",
      "         Current function value: 268853003.037759\n",
      "         Iterations: 158\n",
      "         Function evaluations: 330\n",
      "Optimization terminated successfully.\n",
      "         Current function value: 2880201418364.551758\n",
      "         Iterations: 9\n",
      "         Function evaluations: 35\n",
      "Optimization terminated successfully.\n",
      "         Current function value: 268853003.037759\n",
      "         Iterations: 158\n",
      "         Function evaluations: 330\n",
      "Optimization terminated successfully.\n",
      "         Current function value: 2880201418364.551758\n",
      "         Iterations: 9\n",
      "         Function evaluations: 35\n",
      "Optimization terminated successfully.\n",
      "         Current function value: 268853003.037759\n",
      "         Iterations: 158\n",
      "         Function evaluations: 330\n",
      "Optimization terminated successfully.\n",
      "         Current function value: 2880201418364.551758\n",
      "         Iterations: 9\n",
      "         Function evaluations: 35\n",
      "Optimization terminated successfully.\n",
      "         Current function value: 268853003.037759\n",
      "         Iterations: 158\n",
      "         Function evaluations: 330\n",
      "Optimization terminated successfully.\n",
      "         Current function value: 2880201418364.551758\n",
      "         Iterations: 9\n",
      "         Function evaluations: 35\n",
      "Optimization terminated successfully.\n",
      "         Current function value: 268853003.037759\n",
      "         Iterations: 158\n",
      "         Function evaluations: 330\n",
      "Optimization terminated successfully.\n",
      "         Current function value: 2880201418364.551758\n",
      "         Iterations: 9\n",
      "         Function evaluations: 35\n",
      "Optimization terminated successfully.\n",
      "         Current function value: 268853003.037759\n",
      "         Iterations: 158\n",
      "         Function evaluations: 330\n",
      "Optimization terminated successfully.\n",
      "         Current function value: 2880201418364.551758\n",
      "         Iterations: 9\n",
      "         Function evaluations: 35\n",
      "Optimization terminated successfully.\n",
      "         Current function value: 268853003.037759\n",
      "         Iterations: 158\n",
      "         Function evaluations: 330\n",
      "Optimization terminated successfully.\n",
      "         Current function value: 2880201418364.551758\n",
      "         Iterations: 9\n",
      "         Function evaluations: 35\n",
      "Optimization terminated successfully.\n",
      "         Current function value: 268853003.037759\n",
      "         Iterations: 158\n",
      "         Function evaluations: 330\n",
      "Optimization terminated successfully.\n",
      "         Current function value: 2880201418364.551758\n",
      "         Iterations: 9\n",
      "         Function evaluations: 35\n",
      "Optimization terminated successfully.\n",
      "         Current function value: 268853003.037759\n",
      "         Iterations: 158\n",
      "         Function evaluations: 330\n",
      "Optimization terminated successfully.\n",
      "         Current function value: 2880201418364.551758\n",
      "         Iterations: 9\n",
      "         Function evaluations: 35\n",
      "Optimization terminated successfully.\n",
      "         Current function value: 268853003.037759\n",
      "         Iterations: 158\n",
      "         Function evaluations: 330\n",
      "Optimization terminated successfully.\n",
      "         Current function value: 2880201418364.551758\n",
      "         Iterations: 9\n",
      "         Function evaluations: 35\n",
      "Optimization terminated successfully.\n",
      "         Current function value: 268853003.037759\n",
      "         Iterations: 158\n",
      "         Function evaluations: 330\n",
      "Optimization terminated successfully.\n",
      "         Current function value: 2880201418364.551758\n",
      "         Iterations: 9\n",
      "         Function evaluations: 35\n",
      "Optimization terminated successfully.\n",
      "         Current function value: 268853003.037759\n",
      "         Iterations: 158\n",
      "         Function evaluations: 330\n",
      "Optimization terminated successfully.\n",
      "         Current function value: 2880201418364.551758\n",
      "         Iterations: 9\n",
      "         Function evaluations: 35\n",
      "Optimization terminated successfully.\n",
      "         Current function value: 268853003.037759\n",
      "         Iterations: 158\n",
      "         Function evaluations: 330\n",
      "Optimization terminated successfully.\n",
      "         Current function value: 2880201418364.551758\n",
      "         Iterations: 9\n",
      "         Function evaluations: 35\n",
      "Optimization terminated successfully.\n",
      "         Current function value: 268853003.037759\n",
      "         Iterations: 158\n",
      "         Function evaluations: 330\n"
     ]
    },
    {
     "name": "stdout",
     "output_type": "stream",
     "text": [
      "Optimization terminated successfully.\n",
      "         Current function value: 2880201418364.551758\n",
      "         Iterations: 9\n",
      "         Function evaluations: 35\n",
      "Optimization terminated successfully.\n",
      "         Current function value: 268853003.037759\n",
      "         Iterations: 158\n",
      "         Function evaluations: 330\n",
      "Optimization terminated successfully.\n",
      "         Current function value: 2880201418364.551758\n",
      "         Iterations: 9\n",
      "         Function evaluations: 35\n",
      "Optimization terminated successfully.\n",
      "         Current function value: 268853003.037759\n",
      "         Iterations: 158\n",
      "         Function evaluations: 330\n",
      "Optimization terminated successfully.\n",
      "         Current function value: 2880201418364.551758\n",
      "         Iterations: 9\n",
      "         Function evaluations: 35\n",
      "Optimization terminated successfully.\n",
      "         Current function value: 268853003.037759\n",
      "         Iterations: 158\n",
      "         Function evaluations: 330\n",
      "Optimization terminated successfully.\n",
      "         Current function value: 2880201418364.551758\n",
      "         Iterations: 9\n",
      "         Function evaluations: 35\n",
      "Optimization terminated successfully.\n",
      "         Current function value: 268853003.037759\n",
      "         Iterations: 158\n",
      "         Function evaluations: 330\n",
      "Optimization terminated successfully.\n",
      "         Current function value: 2880201418364.551758\n",
      "         Iterations: 9\n",
      "         Function evaluations: 35\n",
      "Optimization terminated successfully.\n",
      "         Current function value: 268853003.037759\n",
      "         Iterations: 158\n",
      "         Function evaluations: 330\n",
      "Optimization terminated successfully.\n",
      "         Current function value: 2880201418364.551758\n",
      "         Iterations: 9\n",
      "         Function evaluations: 35\n",
      "Optimization terminated successfully.\n",
      "         Current function value: 268853003.037759\n",
      "         Iterations: 158\n",
      "         Function evaluations: 330\n",
      "Optimization terminated successfully.\n",
      "         Current function value: 2880201418364.551758\n",
      "         Iterations: 9\n",
      "         Function evaluations: 35\n",
      "Optimization terminated successfully.\n",
      "         Current function value: 268853003.037759\n",
      "         Iterations: 158\n",
      "         Function evaluations: 330\n",
      "Optimization terminated successfully.\n",
      "         Current function value: 2880201418364.551758\n",
      "         Iterations: 9\n",
      "         Function evaluations: 35\n",
      "Optimization terminated successfully.\n",
      "         Current function value: 268853003.037759\n",
      "         Iterations: 158\n",
      "         Function evaluations: 330\n",
      "Optimization terminated successfully.\n",
      "         Current function value: 2880201418364.551758\n",
      "         Iterations: 9\n",
      "         Function evaluations: 35\n",
      "Optimization terminated successfully.\n",
      "         Current function value: 268853003.037759\n",
      "         Iterations: 158\n",
      "         Function evaluations: 330\n",
      "Optimization terminated successfully.\n",
      "         Current function value: 2880201418364.551758\n",
      "         Iterations: 9\n",
      "         Function evaluations: 35\n",
      "Optimization terminated successfully.\n",
      "         Current function value: 268853003.037759\n",
      "         Iterations: 158\n",
      "         Function evaluations: 330\n",
      "Optimization terminated successfully.\n",
      "         Current function value: 2880201418364.551758\n",
      "         Iterations: 9\n",
      "         Function evaluations: 35\n"
     ]
    },
    {
     "ename": "KeyboardInterrupt",
     "evalue": "",
     "output_type": "error",
     "traceback": [
      "\u001b[0;31m---------------------------------------------------------------------------\u001b[0m",
      "\u001b[0;31mKeyboardInterrupt\u001b[0m                         Traceback (most recent call last)",
      "\u001b[0;32m/tmp/ipykernel_59463/2213914140.py\u001b[0m in \u001b[0;36m<module>\u001b[0;34m\u001b[0m\n\u001b[1;32m     12\u001b[0m                     \u001b[0mmaxiter\u001b[0m\u001b[0;34m=\u001b[0m\u001b[0;32mNone\u001b[0m\u001b[0;34m,\u001b[0m \u001b[0mmaxfun\u001b[0m\u001b[0;34m=\u001b[0m\u001b[0;32mNone\u001b[0m\u001b[0;34m,\u001b[0m \u001b[0mfull_output\u001b[0m\u001b[0;34m=\u001b[0m\u001b[0;36m0\u001b[0m\u001b[0;34m,\u001b[0m \u001b[0mdisp\u001b[0m\u001b[0;34m=\u001b[0m\u001b[0;36m1\u001b[0m\u001b[0;34m,\u001b[0m\u001b[0;31m\\\u001b[0m\u001b[0;34m\u001b[0m\u001b[0;34m\u001b[0m\u001b[0m\n\u001b[1;32m     13\u001b[0m                     retall=0, callback=None, initial_simplex=None ))\n\u001b[0;32m---> 14\u001b[0;31m             optimal_params_heavi.append(simplex(function,[.4,1/14],\\\n\u001b[0m\u001b[1;32m     15\u001b[0m                     \u001b[0margs\u001b[0m\u001b[0;34m=\u001b[0m\u001b[0;34m(\u001b[0m\u001b[0;34m'heaviside'\u001b[0m\u001b[0;34m,\u001b[0m\u001b[0;34m)\u001b[0m\u001b[0;34m,\u001b[0m \u001b[0mxtol\u001b[0m\u001b[0;34m=\u001b[0m\u001b[0;36m0.0001\u001b[0m\u001b[0;34m,\u001b[0m \u001b[0mftol\u001b[0m\u001b[0;34m=\u001b[0m\u001b[0;36m0.0001\u001b[0m\u001b[0;34m,\u001b[0m\u001b[0;31m\\\u001b[0m\u001b[0;34m\u001b[0m\u001b[0;34m\u001b[0m\u001b[0m\n\u001b[1;32m     16\u001b[0m                     \u001b[0mmaxiter\u001b[0m\u001b[0;34m=\u001b[0m\u001b[0;32mNone\u001b[0m\u001b[0;34m,\u001b[0m \u001b[0mmaxfun\u001b[0m\u001b[0;34m=\u001b[0m\u001b[0;32mNone\u001b[0m\u001b[0;34m,\u001b[0m \u001b[0mfull_output\u001b[0m\u001b[0;34m=\u001b[0m\u001b[0;36m0\u001b[0m\u001b[0;34m,\u001b[0m \u001b[0mdisp\u001b[0m\u001b[0;34m=\u001b[0m\u001b[0;36m1\u001b[0m\u001b[0;34m,\u001b[0m\u001b[0;31m\\\u001b[0m\u001b[0;34m\u001b[0m\u001b[0;34m\u001b[0m\u001b[0m\n",
      "\u001b[0;32m~/.local/lib/python3.8/site-packages/scipy/optimize/optimize.py\u001b[0m in \u001b[0;36mfmin\u001b[0;34m(func, x0, args, xtol, ftol, maxiter, maxfun, full_output, disp, retall, callback, initial_simplex)\u001b[0m\n\u001b[1;32m    578\u001b[0m             'initial_simplex': initial_simplex}\n\u001b[1;32m    579\u001b[0m \u001b[0;34m\u001b[0m\u001b[0m\n\u001b[0;32m--> 580\u001b[0;31m     \u001b[0mres\u001b[0m \u001b[0;34m=\u001b[0m \u001b[0m_minimize_neldermead\u001b[0m\u001b[0;34m(\u001b[0m\u001b[0mfunc\u001b[0m\u001b[0;34m,\u001b[0m \u001b[0mx0\u001b[0m\u001b[0;34m,\u001b[0m \u001b[0margs\u001b[0m\u001b[0;34m,\u001b[0m \u001b[0mcallback\u001b[0m\u001b[0;34m=\u001b[0m\u001b[0mcallback\u001b[0m\u001b[0;34m,\u001b[0m \u001b[0;34m**\u001b[0m\u001b[0mopts\u001b[0m\u001b[0;34m)\u001b[0m\u001b[0;34m\u001b[0m\u001b[0;34m\u001b[0m\u001b[0m\n\u001b[0m\u001b[1;32m    581\u001b[0m     \u001b[0;32mif\u001b[0m \u001b[0mfull_output\u001b[0m\u001b[0;34m:\u001b[0m\u001b[0;34m\u001b[0m\u001b[0;34m\u001b[0m\u001b[0m\n\u001b[1;32m    582\u001b[0m         \u001b[0mretlist\u001b[0m \u001b[0;34m=\u001b[0m \u001b[0mres\u001b[0m\u001b[0;34m[\u001b[0m\u001b[0;34m'x'\u001b[0m\u001b[0;34m]\u001b[0m\u001b[0;34m,\u001b[0m \u001b[0mres\u001b[0m\u001b[0;34m[\u001b[0m\u001b[0;34m'fun'\u001b[0m\u001b[0;34m]\u001b[0m\u001b[0;34m,\u001b[0m \u001b[0mres\u001b[0m\u001b[0;34m[\u001b[0m\u001b[0;34m'nit'\u001b[0m\u001b[0;34m]\u001b[0m\u001b[0;34m,\u001b[0m \u001b[0mres\u001b[0m\u001b[0;34m[\u001b[0m\u001b[0;34m'nfev'\u001b[0m\u001b[0;34m]\u001b[0m\u001b[0;34m,\u001b[0m \u001b[0mres\u001b[0m\u001b[0;34m[\u001b[0m\u001b[0;34m'status'\u001b[0m\u001b[0;34m]\u001b[0m\u001b[0;34m\u001b[0m\u001b[0;34m\u001b[0m\u001b[0m\n",
      "\u001b[0;32m~/.local/lib/python3.8/site-packages/scipy/optimize/optimize.py\u001b[0m in \u001b[0;36m_minimize_neldermead\u001b[0;34m(func, x0, args, callback, maxiter, maxfev, disp, return_all, initial_simplex, xatol, fatol, adaptive, bounds, **unknown_options)\u001b[0m\n\u001b[1;32m    773\u001b[0m             \u001b[0;32mif\u001b[0m \u001b[0mbounds\u001b[0m \u001b[0;32mis\u001b[0m \u001b[0;32mnot\u001b[0m \u001b[0;32mNone\u001b[0m\u001b[0;34m:\u001b[0m\u001b[0;34m\u001b[0m\u001b[0;34m\u001b[0m\u001b[0m\n\u001b[1;32m    774\u001b[0m                 \u001b[0mxe\u001b[0m \u001b[0;34m=\u001b[0m \u001b[0mnp\u001b[0m\u001b[0;34m.\u001b[0m\u001b[0mclip\u001b[0m\u001b[0;34m(\u001b[0m\u001b[0mxe\u001b[0m\u001b[0;34m,\u001b[0m \u001b[0mlower_bound\u001b[0m\u001b[0;34m,\u001b[0m \u001b[0mupper_bound\u001b[0m\u001b[0;34m)\u001b[0m\u001b[0;34m\u001b[0m\u001b[0;34m\u001b[0m\u001b[0m\n\u001b[0;32m--> 775\u001b[0;31m             \u001b[0mfxe\u001b[0m \u001b[0;34m=\u001b[0m \u001b[0mfunc\u001b[0m\u001b[0;34m(\u001b[0m\u001b[0mxe\u001b[0m\u001b[0;34m)\u001b[0m\u001b[0;34m\u001b[0m\u001b[0;34m\u001b[0m\u001b[0m\n\u001b[0m\u001b[1;32m    776\u001b[0m \u001b[0;34m\u001b[0m\u001b[0m\n\u001b[1;32m    777\u001b[0m             \u001b[0;32mif\u001b[0m \u001b[0mfxe\u001b[0m \u001b[0;34m<\u001b[0m \u001b[0mfxr\u001b[0m\u001b[0;34m:\u001b[0m\u001b[0;34m\u001b[0m\u001b[0;34m\u001b[0m\u001b[0m\n",
      "\u001b[0;32m~/.local/lib/python3.8/site-packages/scipy/optimize/optimize.py\u001b[0m in \u001b[0;36mfunction_wrapper\u001b[0;34m(x, *wrapper_args)\u001b[0m\n\u001b[1;32m    462\u001b[0m     \u001b[0;32mdef\u001b[0m \u001b[0mfunction_wrapper\u001b[0m\u001b[0;34m(\u001b[0m\u001b[0mx\u001b[0m\u001b[0;34m,\u001b[0m \u001b[0;34m*\u001b[0m\u001b[0mwrapper_args\u001b[0m\u001b[0;34m)\u001b[0m\u001b[0;34m:\u001b[0m\u001b[0;34m\u001b[0m\u001b[0;34m\u001b[0m\u001b[0m\n\u001b[1;32m    463\u001b[0m         \u001b[0mncalls\u001b[0m\u001b[0;34m[\u001b[0m\u001b[0;36m0\u001b[0m\u001b[0;34m]\u001b[0m \u001b[0;34m+=\u001b[0m \u001b[0;36m1\u001b[0m\u001b[0;34m\u001b[0m\u001b[0;34m\u001b[0m\u001b[0m\n\u001b[0;32m--> 464\u001b[0;31m         \u001b[0;32mreturn\u001b[0m \u001b[0mfunction\u001b[0m\u001b[0;34m(\u001b[0m\u001b[0mnp\u001b[0m\u001b[0;34m.\u001b[0m\u001b[0mcopy\u001b[0m\u001b[0;34m(\u001b[0m\u001b[0mx\u001b[0m\u001b[0;34m)\u001b[0m\u001b[0;34m,\u001b[0m \u001b[0;34m*\u001b[0m\u001b[0;34m(\u001b[0m\u001b[0mwrapper_args\u001b[0m \u001b[0;34m+\u001b[0m \u001b[0margs\u001b[0m\u001b[0;34m)\u001b[0m\u001b[0;34m)\u001b[0m\u001b[0;34m\u001b[0m\u001b[0;34m\u001b[0m\u001b[0m\n\u001b[0m\u001b[1;32m    465\u001b[0m \u001b[0;34m\u001b[0m\u001b[0m\n\u001b[1;32m    466\u001b[0m     \u001b[0;32mreturn\u001b[0m \u001b[0mncalls\u001b[0m\u001b[0;34m,\u001b[0m \u001b[0mfunction_wrapper\u001b[0m\u001b[0;34m\u001b[0m\u001b[0;34m\u001b[0m\u001b[0m\n",
      "\u001b[0;32m/tmp/ipykernel_59463/2094289639.py\u001b[0m in \u001b[0;36mf_4\u001b[0;34m(params, method, lk_indzies, number_of_days, number_of_Lks)\u001b[0m\n\u001b[1;32m     67\u001b[0m     \u001b[0;32mif\u001b[0m \u001b[0;34m(\u001b[0m\u001b[0mparams\u001b[0m\u001b[0;34m[\u001b[0m\u001b[0;36m1\u001b[0m\u001b[0;34m]\u001b[0m\u001b[0;34m<\u001b[0m\u001b[0;36m0\u001b[0m\u001b[0;34m)\u001b[0m\u001b[0;34m:\u001b[0m\u001b[0;34m\u001b[0m\u001b[0;34m\u001b[0m\u001b[0m\n\u001b[1;32m     68\u001b[0m         \u001b[0;32mreturn\u001b[0m \u001b[0mnp\u001b[0m\u001b[0;34m.\u001b[0m\u001b[0minf\u001b[0m\u001b[0;34m\u001b[0m\u001b[0;34m\u001b[0m\u001b[0m\n\u001b[0;32m---> 69\u001b[0;31m     \u001b[0mS\u001b[0m \u001b[0;34m=\u001b[0m \u001b[0msummon_results\u001b[0m\u001b[0;34m(\u001b[0m\u001b[0mparams\u001b[0m\u001b[0;34m,\u001b[0m \u001b[0mmethod\u001b[0m\u001b[0;34m,\u001b[0m \u001b[0mlk_indzies\u001b[0m\u001b[0;34m,\u001b[0m \u001b[0mnumber_of_days\u001b[0m\u001b[0;34m,\u001b[0m \u001b[0mnumber_of_Lks\u001b[0m\u001b[0;34m)\u001b[0m\u001b[0;34m\u001b[0m\u001b[0;34m\u001b[0m\u001b[0m\n\u001b[0m\u001b[1;32m     70\u001b[0m     \u001b[0mnumberofLks\u001b[0m \u001b[0;34m=\u001b[0m \u001b[0mlen\u001b[0m\u001b[0;34m(\u001b[0m\u001b[0mlk_indzies\u001b[0m\u001b[0;34m)\u001b[0m\u001b[0;34m\u001b[0m\u001b[0;34m\u001b[0m\u001b[0m\n\u001b[1;32m     71\u001b[0m     \u001b[0;32mif\u001b[0m \u001b[0mnumberofLks\u001b[0m \u001b[0;34m==\u001b[0m \u001b[0;36m0\u001b[0m\u001b[0;34m:\u001b[0m\u001b[0;34m\u001b[0m\u001b[0;34m\u001b[0m\u001b[0m\n",
      "\u001b[0;32m/tmp/ipykernel_59463/2596134852.py\u001b[0m in \u001b[0;36msummon_results\u001b[0;34m(params, method, lk_indzies, number_of_days, number_of_Lks)\u001b[0m\n\u001b[1;32m     38\u001b[0m     \u001b[0malpha\u001b[0m \u001b[0;34m=\u001b[0m \u001b[0mparams\u001b[0m\u001b[0;34m[\u001b[0m\u001b[0;36m0\u001b[0m\u001b[0;34m]\u001b[0m\u001b[0;34m\u001b[0m\u001b[0;34m\u001b[0m\u001b[0m\n\u001b[1;32m     39\u001b[0m     \u001b[0mbeta\u001b[0m \u001b[0;34m=\u001b[0m \u001b[0mparams\u001b[0m\u001b[0;34m[\u001b[0m\u001b[0;36m1\u001b[0m\u001b[0;34m]\u001b[0m\u001b[0;34m\u001b[0m\u001b[0;34m\u001b[0m\u001b[0m\n\u001b[0;32m---> 40\u001b[0;31m     \u001b[0msimulation001\u001b[0m \u001b[0;34m=\u001b[0m \u001b[0mData\u001b[0m\u001b[0;34m(\u001b[0m\u001b[0malpha\u001b[0m\u001b[0;34m,\u001b[0m \u001b[0mbeta\u001b[0m\u001b[0;34m,\u001b[0m \u001b[0mdimension\u001b[0m\u001b[0;34m,\u001b[0m \u001b[0;34m\"Pendler.txt\"\u001b[0m\u001b[0;34m,\u001b[0m \u001b[0;36m0.6\u001b[0m\u001b[0;34m,\u001b[0m \u001b[0mimport_rki_data\u001b[0m\u001b[0;34m(\u001b[0m\u001b[0mM\u001b[0m\u001b[0;34m,\u001b[0m \u001b[0;36m7\u001b[0m\u001b[0;34m)\u001b[0m\u001b[0;34m[\u001b[0m\u001b[0;36m2\u001b[0m\u001b[0;34m]\u001b[0m\u001b[0;34m)\u001b[0m\u001b[0;34m\u001b[0m\u001b[0;34m\u001b[0m\u001b[0m\n\u001b[0m\u001b[1;32m     41\u001b[0m     \u001b[0msol\u001b[0m \u001b[0;34m=\u001b[0m \u001b[0msci\u001b[0m\u001b[0;34m.\u001b[0m\u001b[0msolve_ivp\u001b[0m\u001b[0;34m(\u001b[0m\u001b[0mfun\u001b[0m\u001b[0;34m=\u001b[0m\u001b[0mfunction_of_system\u001b[0m\u001b[0;34m,\u001b[0m \u001b[0mt_span\u001b[0m\u001b[0;34m=\u001b[0m\u001b[0;34m(\u001b[0m\u001b[0;36m0\u001b[0m\u001b[0;34m,\u001b[0m \u001b[0;36m100\u001b[0m\u001b[0;34m)\u001b[0m\u001b[0;34m,\u001b[0m \u001b[0my0\u001b[0m\u001b[0;34m=\u001b[0m\u001b[0minitCond\u001b[0m\u001b[0;34m,\u001b[0m \u001b[0mmethod\u001b[0m\u001b[0;34m=\u001b[0m\u001b[0;34m\"RK45\"\u001b[0m\u001b[0;34m,\u001b[0m \u001b[0margs\u001b[0m\u001b[0;34m=\u001b[0m\u001b[0;34m(\u001b[0m\u001b[0msimulation001\u001b[0m\u001b[0;34m,\u001b[0m \u001b[0mmethod\u001b[0m\u001b[0;34m,\u001b[0m \u001b[0mtzero\u001b[0m\u001b[0;34m)\u001b[0m\u001b[0;34m,\u001b[0m \u001b[0mt_eval\u001b[0m\u001b[0;34m=\u001b[0m\u001b[0mt\u001b[0m\u001b[0;34m,\u001b[0m \u001b[0mdense_output\u001b[0m\u001b[0;34m=\u001b[0m\u001b[0;32mTrue\u001b[0m\u001b[0;34m)\u001b[0m\u001b[0;34m\u001b[0m\u001b[0;34m\u001b[0m\u001b[0m\n\u001b[1;32m     42\u001b[0m     \u001b[0msolt\u001b[0m\u001b[0;34m=\u001b[0m\u001b[0msol\u001b[0m\u001b[0;34m.\u001b[0m\u001b[0mt\u001b[0m\u001b[0;34m\u001b[0m\u001b[0;34m\u001b[0m\u001b[0m\n",
      "\u001b[0;32m~/CWR/Projekt/Projektpraktikum/projectlib.py\u001b[0m in \u001b[0;36mimport_rki_data\u001b[0;34m(region_ids, n)\u001b[0m\n\u001b[1;32m    203\u001b[0m \u001b[0;34m\u001b[0m\u001b[0m\n\u001b[1;32m    204\u001b[0m         \u001b[0;32mfor\u001b[0m \u001b[0mi\u001b[0m \u001b[0;32min\u001b[0m \u001b[0mrange\u001b[0m\u001b[0;34m(\u001b[0m\u001b[0mlk_comp_num\u001b[0m\u001b[0;34m)\u001b[0m\u001b[0;34m:\u001b[0m\u001b[0;34m\u001b[0m\u001b[0;34m\u001b[0m\u001b[0m\n\u001b[0;32m--> 205\u001b[0;31m             \u001b[0;32mif\u001b[0m \u001b[0mlk\u001b[0m\u001b[0;34m[\u001b[0m\u001b[0mi\u001b[0m\u001b[0;34m]\u001b[0m \u001b[0;34m==\u001b[0m \u001b[0mregion_ids\u001b[0m\u001b[0;34m[\u001b[0m\u001b[0mintern_region_number\u001b[0m\u001b[0;34m]\u001b[0m \u001b[0;32mand\u001b[0m \u001b[0mcurrent_time\u001b[0m \u001b[0;34m<\u001b[0m \u001b[0mtime\u001b[0m\u001b[0;34m:\u001b[0m\u001b[0;34m\u001b[0m\u001b[0;34m\u001b[0m\u001b[0m\n\u001b[0m\u001b[1;32m    206\u001b[0m                 \u001b[0mregion_cases\u001b[0m\u001b[0;34m[\u001b[0m\u001b[0mintern_region_number\u001b[0m\u001b[0;34m]\u001b[0m\u001b[0;34m[\u001b[0m\u001b[0;36m0\u001b[0m\u001b[0;34m]\u001b[0m\u001b[0;34m[\u001b[0m\u001b[0mcurrent_time\u001b[0m\u001b[0;34m]\u001b[0m \u001b[0;34m=\u001b[0m \u001b[0mcase\u001b[0m\u001b[0;34m[\u001b[0m\u001b[0mi\u001b[0m\u001b[0;34m]\u001b[0m \u001b[0;34m+\u001b[0m \u001b[0mcase_add\u001b[0m\u001b[0;34m[\u001b[0m\u001b[0mi\u001b[0m\u001b[0;34m]\u001b[0m\u001b[0;34m\u001b[0m\u001b[0;34m\u001b[0m\u001b[0m\n\u001b[1;32m    207\u001b[0m                 \u001b[0;31m#region_cases[intern_region_number][1][current_time] = case_cum[i]\u001b[0m\u001b[0;34m\u001b[0m\u001b[0;34m\u001b[0m\u001b[0;34m\u001b[0m\u001b[0m\n",
      "\u001b[0;31mKeyboardInterrupt\u001b[0m: "
     ]
    }
   ],
   "source": [
    "function = f_4 ## welche Bewertungsfunktion verwendet werden soll\n",
    "sample_size = 10\n",
    "alpha_ = np.linspace(0,1,sample_size)\n",
    "beta_ = np.linspace(0,1,sample_size)\n",
    "optimal_params_const = []\n",
    "optimal_params_heavi = []\n",
    "\n",
    "for i in range(len(alpha)):\n",
    "        for j in range(len(beta)):\n",
    "            optimal_params_const.append(simplex(function,[.4,1/14],\\\n",
    "                    args=('const',), xtol=0.0001, ftol=0.0001,\\\n",
    "                    maxiter=None, maxfun=None, full_output=0, disp=1,\\\n",
    "                    retall=0, callback=None, initial_simplex=None ))\n",
    "            optimal_params_heavi.append(simplex(function,[.4,1/14],\\\n",
    "                    args=('heaviside',), xtol=0.0001, ftol=0.0001,\\\n",
    "                    maxiter=None, maxfun=None, full_output=0, disp=1,\\\n",
    "                    retall=0, callback=None, initial_simplex=None ))\n",
    "            \n"
   ]
  },
  {
   "cell_type": "code",
   "execution_count": 183,
   "id": "72a30917",
   "metadata": {},
   "outputs": [],
   "source": [
    "alpha_mean_const = sum([optimal_params_const[i][0]\\\n",
    "                        for i in range(len(optimal_params_const))])/len(optimal_params_const)\n",
    "alpha_mean_heavi = sum([optimal_params_heavi[i][0]\\\n",
    "                        for i in range(len(optimal_params_heavi))])/len(optimal_params_heavi)\n",
    "alpha_stdev_const = np.std(np.array([optimal_params_heavi[i][1]\\\n",
    "                                       for i in range(len(optimal_params_heavi))]))  \n",
    "alpha_stdev_heavi = np.std(np.array([optimal_params_heavi[i][1]\\\n",
    "                                       for i in range(len(optimal_params_heavi))]))  \n",
    "\n",
    "\n",
    "beta_mean_const = sum([optimal_params_const[i][1]\\\n",
    "                        for i in range(len(optimal_params_const))])/len(optimal_params_const)\n",
    "\n",
    "beta_mean_heavi = sum([optimal_params_heavi[i][1]\\\n",
    "                        for i in range(len(optimal_params_heavi))])/len(optimal_params_heavi)\n",
    "beta_stdev_const = np.std(np.array([optimal_params_const[i][1]\\\n",
    "                                       for i in range(len(optimal_params_heavi))]))   \n",
    "beta_stdev_heavi = np.std(np.array([optimal_params_heavi[i][1]\\\n",
    "                                       for i in range(len(optimal_params_heavi))]))  "
   ]
  },
  {
   "cell_type": "code",
   "execution_count": 196,
   "id": "63fc7912",
   "metadata": {},
   "outputs": [
    {
     "name": "stdout",
     "output_type": "stream",
     "text": [
      "Optimierte Bewertungsfunktion f_4\n",
      "alpha_const =  0.40000000000000024 mit Fehler:  1.3877787807814457e-17\n",
      "beta_const =  0.07142857142857147 mit Fehler:  2.7755575615628914e-17\n",
      "alpha_heavi =  0.377264443286355 mit Fehler:  1.3877787807814457e-17\n",
      "beta_heavi =  0.07770996828082218 mit Fehler:  1.3877787807814457e-17\n"
     ]
    }
   ],
   "source": [
    "print(\"Optimierte Bewertungsfunktion f_4\")\n",
    "print(\"alpha_const = \", alpha_mean_const, \"mit Fehler: \", alpha_stdev_const)\n",
    "print(\"beta_const = \", beta_mean_const, \"mit Fehler: \", beta_stdev_const)\n",
    "print(\"alpha_heavi = \", alpha_mean_heavi, \"mit Fehler: \", alpha_stdev_heavi)\n",
    "print(\"beta_heavi = \", beta_mean_heavi, \"mit Fehler: \", beta_stdev_heavi)"
   ]
  },
  {
   "cell_type": "markdown",
   "id": "d739aaa4",
   "metadata": {},
   "source": [
    "### To do:\n",
    " - **bessere Bewertungsfunktion finden!** (wichtig)\n",
    " - **Bewertungsfunktionen plotten** (für die richtige Funktion)\n",
    " - **Plots in einer Zelle fügen**\n",
    " - **Fehler der Parameter abschätzen** (für die richtige Funktion)\n",
    " - **In house optimierer verbessern oder streichen**\n",
    " \n"
   ]
  },
  {
   "cell_type": "code",
   "execution_count": null,
   "id": "08bef49b",
   "metadata": {},
   "outputs": [],
   "source": []
  }
 ],
 "metadata": {
  "kernelspec": {
   "display_name": "Python 3 (ipykernel)",
   "language": "python",
   "name": "python3"
  },
  "language_info": {
   "codemirror_mode": {
    "name": "ipython",
    "version": 3
   },
   "file_extension": ".py",
   "mimetype": "text/x-python",
   "name": "python",
   "nbconvert_exporter": "python",
   "pygments_lexer": "ipython3",
   "version": "3.8.10"
  }
 },
 "nbformat": 4,
 "nbformat_minor": 5
}
