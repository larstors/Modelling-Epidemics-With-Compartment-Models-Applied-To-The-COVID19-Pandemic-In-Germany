{
 "cells": [
  {
   "cell_type": "code",
   "execution_count": 28,
   "metadata": {},
   "outputs": [],
   "source": [
    "import numpy as np\n",
    "import matplotlib.pyplot as plt\n",
    "import scipy.integrate as sci\n",
    "import time"
   ]
  },
  {
   "cell_type": "markdown",
   "metadata": {},
   "source": [
    "# First Simulation of SIR\n",
    "\n",
    "## Only internal system with no external influence. \n",
    "\n",
    "Using the differential equations\n",
    "\n",
    "$\n",
    "\\begin{align}\n",
    "    \\dot{S}(t) &= -\\beta_0 S(t) I(t)\\,,\\\\\n",
    "    \\dot{I}(t) &=  \\beta_0 S(t) I(t) - \\gamma I(t)\\,,\\\\\n",
    "    \\dot{R}(t) &= \\gamma I(t)\\,,\n",
    "\\end{align}\n",
    "$\n",
    "\n",
    "with $\\beta_0$ and $\\gamma$ being constant, global coefficients. Also, these constant will not be based on any evidence here, as the goal is to estimate the runtime and not produce any meaningful plots/results. Let $N$ be the general population. The coefficients will be used as though they are normalized with $N$. For initial conditions we choose $R(0) = 0$, $I(0) = \\frac{N}{10^5}$ and $S(0) = N - I(0)$. Here it is assumed that $N>10^5$.\n"
   ]
  },
  {
   "cell_type": "code",
   "execution_count": 33,
   "metadata": {},
   "outputs": [
    {
     "data": {
      "image/png": "[encoded data removed]",
      "text/plain": [
       "<Figure size 432x288 with 1 Axes>"
      ]
     },
     "metadata": {
      "needs_background": "light"
     },
     "output_type": "display_data"
    },
    {
     "name": "stdout",
     "output_type": "stream",
     "text": [
      "Time of Program 0.135860 s\n"
     ]
    }
   ],
   "source": [
    "t0 = time.time()\n",
    "beta_0 = 3e-5   # Unit: 1/s\n",
    "gamma = 20    # Unit: 1/s\n",
    "\n",
    "N = 3e6 # General population\n",
    "\n",
    "\n",
    "\n",
    "def model(F, t):\n",
    "    \"\"\"\n",
    "    Parameters: Functions: F=[S, I, R]\n",
    "                Time: t\n",
    "                \n",
    "    \n",
    "    \"\"\"\n",
    "    dSdt = -beta_0*F[0]*F[1]\n",
    "    dIdt = beta_0*F[0]*F[1] - gamma*F[1]\n",
    "    dRdt = gamma*F[1]\n",
    "    return [dSdt, dIdt, dRdt]\n",
    "\n",
    "\n",
    "\"Initial Conditions\"\n",
    "R0 = 0\n",
    "I0 = N/10**5\n",
    "S0 = N - I0\n",
    "\n",
    "\"time span of simulation\"\n",
    "t = np.linspace(0, 1, 1000)\n",
    "\n",
    "\"Using scipy.integrate.odeint() to solve the system of differential equations\"\n",
    "y = sci.odeint(model, [S0, I0, R0], t)\n",
    "\n",
    "plt.plot(t, y[:, 0], '-r', label='S')\n",
    "plt.plot(t, y[:, 1], '-b', label='I')\n",
    "plt.plot(t, y[:, 2], '-g', label='R')\n",
    "plt.xlabel(\"t\")\n",
    "plt.ylabel(\"Population\")\n",
    "plt.grid()\n",
    "plt.legend()\n",
    "plt.show()\n",
    "\n",
    "t1 = time.time()\n",
    "\n",
    "print(\"Time of Program %f s\" % (t1-t0))\n"
   ]
  },
  {
   "cell_type": "code",
   "execution_count": null,
   "metadata": {},
   "outputs": [],
   "source": []
  },
  {
   "cell_type": "code",
   "execution_count": null,
   "metadata": {},
   "outputs": [],
   "source": []
  }
 ],
 "metadata": {
  "kernelspec": {
   "display_name": "Python 3",
   "language": "python",
   "name": "python3"
  },
  "language_info": {
   "codemirror_mode": {
    "name": "ipython",
    "version": 3
   },
   "file_extension": ".py",
   "mimetype": "text/x-python",
   "name": "python",
   "nbconvert_exporter": "python",
   "pygments_lexer": "ipython3",
   "version": "3.7.6"
  }
 },
 "nbformat": 4,
 "nbformat_minor": 4
}
