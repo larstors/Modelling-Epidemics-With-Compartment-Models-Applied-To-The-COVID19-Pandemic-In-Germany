{
 "cells": [
  {
   "cell_type": "code",
   "execution_count": 7,
   "source": [
    "import matplotlib.pyplot as plt\r\n",
    "from mpl_toolkits.axes_grid1 import AxesGrid\r\n",
    "from mpl_toolkits.axes_grid1.axes_divider import make_axes_locatable\r\n",
    "import numpy as np\r\n",
    "import scipy.integrate as sci\r\n",
    "import time \r\n",
    "import threading\r\n",
    "import sys\r\n",
    "import multiprocessing as multiproc\r\n",
    "import datetime\r\n",
    "# the function library\r\n",
    "from projectlib import *\r\n",
    "from scipy.optimize import fmin as simplex"
   ],
   "outputs": [],
   "metadata": {}
  },
  {
   "cell_type": "markdown",
   "source": [
    "## Parameters"
   ],
   "metadata": {}
  },
  {
   "cell_type": "code",
   "execution_count": 8,
   "source": [
    "class Data:\r\n",
    "    def __init__(self, alpha, beta, dimension, name, commuters_day, N):\r\n",
    "        \"Dimension gives the dimension of the system, i.e. number of cells\"\r\n",
    "        # ------- TO DO ---------\r\n",
    "        # Depending on the system this has to be adjusted\r\n",
    "        self.dimension = dimension\r\n",
    "        \r\n",
    "        \"Alpha describes the rate of infection\"\r\n",
    "        self.alpha = alpha # Dimensions day^(-1)\r\n",
    "\r\n",
    "        \"Beta describes the recovery rate\"\r\n",
    "        self.beta = beta # Dimensions day^(-1)\r\n",
    "\r\n",
    "        \"p is the probability to die from the disease\"\r\n",
    "        self.p = 2.64e-2\r\n",
    "        \r\n",
    "        \"\"\"\r\n",
    "        Commuters is an array describing the commuters from and to the different cells. \r\n",
    "        The structure is: The entries in column i are how many commute from i to the cell of the row.\r\n",
    "                          Thus, the entries of the row i describe how many commute from different cells to cell i.\r\n",
    "        \"\"\"\r\n",
    "\r\n",
    "        self.commuters = np.array([np.ones(self.dimension) for i in range(self.dimension)])\r\n",
    "        \"load the txt with given name\"\r\n",
    "        file = np.loadtxt(name, delimiter=\"\\t\")\r\n",
    "        \"fill commuters with the entries from the file. Note the break statement so it doesn't go to far\"\r\n",
    "        i = 0\r\n",
    "        for row in file:\r\n",
    "            if i >= self.dimension:\r\n",
    "                break\r\n",
    "            self.commuters[i] = np.asarray(row[0:self.dimension])\r\n",
    "            i += 1\r\n",
    "        \r\n",
    "        \"Part of day that commuters are in other cells. This is the same value for all cells\"\r\n",
    "        self.commuters_day = commuters_day\r\n",
    "\r\n",
    "        \"Array of population in every cell\"\r\n",
    "        # ------- TO DO ---------\r\n",
    "        # figure out how to best do this\r\n",
    "        self.N = N\r\n",
    "\r\n",
    "        \r\n",
    "        \r\n",
    "    def commutersFrom(self, cfrom):\r\n",
    "        \"\"\"Function to extract the commuters from a cell\r\n",
    "\r\n",
    "        Args:\r\n",
    "            cfrom (integer): the cell \r\n",
    "\r\n",
    "         Returns:\r\n",
    "            array: array containing commuters from cfrom\r\n",
    "        \"\"\"\r\n",
    "        # ------- TO DO ---------\r\n",
    "        # optimize the algorithm\r\n",
    "        \"Sorting out the necessary entries into array a.\"\r\n",
    "        a = np.zeros(self.dimension)\r\n",
    "        for i in range(self.dimension):\r\n",
    "            a[i] = self.commuters[i][cfrom]\r\n",
    "            \r\n",
    "        return a \r\n",
    "    \r\n",
    "    def commutersTo(self, cto):\r\n",
    "        \"\"\"Function to return an array with number of commuters coming to cto from other cells.\r\n",
    "\r\n",
    "        Args:\r\n",
    "            cto (integer): the cell to which the commuters travel\r\n",
    "\r\n",
    "        Returns:\r\n",
    "            array: array containing the commuters to cto.\r\n",
    "        \"\"\"\r\n",
    "        return self.commuters[cto][:]\r\n",
    "       \r\n",
    "        \r\n",
    "        "
   ],
   "outputs": [],
   "metadata": {}
  },
  {
   "cell_type": "markdown",
   "source": [
    "## Functions"
   ],
   "metadata": {}
  },
  {
   "cell_type": "code",
   "execution_count": 9,
   "source": [
    "\r\n",
    "def function_of_system(timestep, functions,  data, method, t0):\r\n",
    "    \"\"\"Function to calculate the time derivatives of the dynamic SIRD modell with commuters. This function uses multiple approachs for different variant of the system based on prior assumptions. \r\n",
    "\r\n",
    "        Args:\r\n",
    "            functions (array): array with the functions that define the system of equations. Structure [S_1, ... , S_n, I_1, .... , I_n, R_1, ... , R_n, D_1, ... , D_n]\r\n",
    "            timestep (float): time of timestep. t=1 is 1 day\r\n",
    "            data (class): the class with the relevant data\r\n",
    "            method (string): dictates what method is to be used. The choices are \"constant\", \"heaviside\"\r\n",
    "            t0 (array): array with len = 3 filled with times at which the heaviside functions in the \"heaviside\" method switch. \r\n",
    "                Note: all values of t0 have to be between 0 and 1.\r\n",
    "\r\n",
    "        Returns:\r\n",
    "            array: array containing the derivatives of functions at time t.\r\n",
    "    \"\"\"\r\n",
    "    # array with infected\r\n",
    "    Infected = functions[data.dimension:2*data.dimension]\r\n",
    "\r\n",
    "    # making array with the effective infected Ieff\r\n",
    "    Ieff = np.array([effective_infected(data.commutersTo, data.commutersFrom, data.N, i, Infected, data.dimension) for i in range(data.dimension)])\r\n",
    "\r\n",
    "    # initializing the return array with the time derivatives of functions\r\n",
    "    dfuncdt = np.ones(data.dimension*4)\r\n",
    "\r\n",
    "    \"~~~~~~~~~~~~~~~~~ See the PDF / LaTeX for further explanation of the equations ~~~~~~~~~~~~~~~~~~~~~~~~\"\r\n",
    "\r\n",
    "    # ------------------------------------\r\n",
    "    # -      Constant Coefficients       -\r\n",
    "    # ------------------------------------\r\n",
    "\r\n",
    "    tt = 0.6\r\n",
    "\r\n",
    "    if method == \"constant\":\r\n",
    "            \r\n",
    "        # the for loop to fill dfuncdt\r\n",
    "\r\n",
    "        for i in range(data.dimension):\r\n",
    "            # see LaTeX for equations\r\n",
    "            # dS/dt\r\n",
    "            dfuncdt[i] =  - tt * data.alpha *  functions[i] * functions[i + data.dimension] - (1 - tt) * data.alpha * functions[i] * Ieff[i]\r\n",
    "\r\n",
    "            # dI/dt \\propto -dSdt\r\n",
    "            dfuncdt[i + data.dimension] = - dfuncdt[i] - data.beta * functions[i + data.dimension]\r\n",
    "\r\n",
    "            # dR/dt\r\n",
    "            dfuncdt[i + 2 * data.dimension] = (1 - data.p) * data.beta * functions[i + data.dimension]\r\n",
    "\r\n",
    "            # dD/dt\r\n",
    "            dfuncdt[i + 3 * data.dimension] = data.p * data.beta * functions[i + data.dimension]\r\n",
    "\r\n",
    "\r\n",
    "    # ------------------------------------\r\n",
    "    # -      Heaviside Coefficients      -\r\n",
    "    # ------------------------------------\r\n",
    "\r\n",
    "\r\n",
    "    elif method == \"heaviside\":\r\n",
    "\r\n",
    "\r\n",
    "        # the for loop to fill dfuncdt\r\n",
    "        for i in range(data.dimension):\r\n",
    "            # see LaTeX for equations\r\n",
    "            # dS/dt\r\n",
    "            dfuncdt[i] = - data.alpha * (periodic_heaviside(timestep, t0[0]) + periodic_heaviside(timestep, t0[2]) - 1) * functions[i] * functions[i + data.dimension] - (periodic_heaviside(timestep, t0[1]) - periodic_heaviside(timestep, t0[2])) * data.alpha * functions[i] * Ieff[i]\r\n",
    "\r\n",
    "            # dI/dt \\propto -dSdt\r\n",
    "            dfuncdt[i + data.dimension] = - dfuncdt[i] - data.beta * functions[i + data.dimension]\r\n",
    "\r\n",
    "            # dR/dt\r\n",
    "            dfuncdt[i + 2 * data.dimension] = (1 - data.p) * data.beta * functions[i + data.dimension]\r\n",
    "\r\n",
    "            # dD/dt\r\n",
    "            dfuncdt[i + 3 * data.dimension] = data.p * data.beta * functions[i + data.dimension]\r\n",
    "\r\n",
    "    \r\n",
    "    \r\n",
    "    \r\n",
    "    \r\n",
    "    \r\n",
    "    \r\n",
    "    \r\n",
    "    # returning the derivatives at time t\r\n",
    "    return dfuncdt\r\n",
    "\r\n",
    "\r\n",
    "\r\n",
    "# Function for using scipy.integrate.odeint, as the arguments are switched\r\n",
    "def system_function(functions, timestep, data, method, t0):\r\n",
    "    return function_of_system(timestep, functions, data, method, t0)\r\n",
    "\r\n",
    "\r\n"
   ],
   "outputs": [],
   "metadata": {}
  },
  {
   "cell_type": "code",
   "execution_count": 10,
   "source": [
    "p = 0.0264\r\n",
    "commuters_day = 10/24\r\n",
    "\r\n",
    " \r\n",
    "dimension = 12\r\n",
    " \r\n",
    "a = initial_compartment_distribution(12, \"2020/07/24\")\r\n",
    "initCond = np.zeros(12*4)\r\n",
    "for i in range(12):\r\n",
    "        initCond[i] = a[i][0]\r\n",
    "        initCond[i + 12] = a[i][1]\r\n",
    "        initCond[i + 24] = a[i][2]\r\n",
    "        initCond[i + 36] = a[i][3]\r\n",
    "    \r\n",
    "M = region_setup(12)[0]\r\n",
    "tzero = np.array([0, 0.4, 0.8])\r\n",
    "\r\n",
    "t = np.linspace(0, 100, 10000)\r\n",
    "N = import_rki_data(M, 7)[2]\r\n",
    "\r\n",
    "\r\n",
    "commuters = np.array([np.ones(dimension) for i in range(dimension)])\r\n",
    "\"load the txt with given name\"\r\n",
    "file = np.loadtxt(\"Pendler.txt\", delimiter=\"\\t\")\r\n",
    "\"fill commuters with the entries from the file. Note the break statement so it doesn't go to far\"\r\n",
    "i = 0\r\n",
    "for row in file:\r\n",
    "    if i >= dimension:\r\n",
    "            break\r\n",
    "    commuters[i] = np.asarray(row[0:dimension])\r\n",
    "    i += 1\r\n",
    "\r\n",
    "print(N)"
   ],
   "outputs": [
    {
     "output_type": "stream",
     "name": "stdout",
     "text": [
      "[275817.  70458. 136292. 140251. 132285. 326041. 213310. 236764. 202137.\n",
      " 100629. 100006.  83416.]\n"
     ]
    }
   ],
   "metadata": {}
  },
  {
   "cell_type": "markdown",
   "source": [
    "## Bewertungsfunktion"
   ],
   "metadata": {}
  },
  {
   "cell_type": "code",
   "execution_count": 11,
   "source": [
    "def find_sol_on_days_(solt,soly,number_of_days,number_of_Lks):\r\n",
    "    S=np.empty((number_of_Lks,number_of_days+1), dtype=float, order='C')\r\n",
    "    for k in range(number_of_Lks):\r\n",
    "        i=0\r\n",
    "        goodtime=0\r\n",
    "        for time in range(len(solt)):\r\n",
    "            if abs(solt[time]-i)<1e-2:\r\n",
    "                goodtime=time\r\n",
    "                if time+1 <len(solt):\r\n",
    "                    if abs(solt[time+1]-i)<abs(solt[time]-i):\r\n",
    "                        goodtime=time+1\r\n",
    "                S[k][i]=soly[k][goodtime]\r\n",
    "                i=i+1\r\n",
    "    return S ## returns S[Landkreis][Tag]\r\n",
    "\r\n",
    "def summon_results(params, method):\r\n",
    "    number_of_days=100\r\n",
    "    number_of_Lks=12\r\n",
    "    dimension = number_of_Lks\r\n",
    "    alpha=params[0]\r\n",
    "    beta=params[1]\r\n",
    "    simulation001 = Data(alpha, beta, dimension, \"Pendler.txt\", 0.6, import_rki_data(M, 7)[2])\r\n",
    "    #sol1 = sci.solve_ivp(fun=function_of_system, t_span=(0, 100), y0=initCond, method=\"RK45\", args=(simulation001, \"heaviside\", tzero), t_eval=t)\r\n",
    "    sol = sci.solve_ivp(fun=function_of_system, t_span=(0, 100), y0=initCond, method=\"RK45\", args=(simulation001, method, tzero), t_eval=t, dense_output=True)\r\n",
    "    solt=sol.t\r\n",
    "    soly=sol.y\r\n",
    "    #print(sol.message)\r\n",
    "    ss = find_sol_on_days_(solt,soly,number_of_days,number_of_Lks)\r\n",
    "    return ss\r\n",
    "\r\n",
    "\r\n",
    "def import_RKI_legacy(): # function is redundant and has no use\r\n",
    "    number_of_days=100\r\n",
    "    number_of_Lks=12\r\n",
    "    S=np.empty((number_of_Lks,number_of_days), dtype=float, order='C')\r\n",
    "    for d in range(number_of_days):\r\n",
    "        curr_date= \"2020/07/24\"\r\n",
    "        curr_date_temp = datetime.datetime.strptime(curr_date, \"%Y/%m/%d\")\r\n",
    "        new_date = curr_date_temp + datetime.timedelta(days=d)\r\n",
    "        a = initial_compartment_distribution(number_of_Lks, new_date.strftime(\"%Y/%m/%d\"))\r\n",
    "        for k in range(number_of_Lks):\r\n",
    "            S[k][d] = a[k][0] \r\n",
    "    return S\r\n",
    "\r\n",
    "#find first day of simulation and import RKI_Inzidenzwert\r\n",
    "RKI= np.load(\"Internal Data/rki_region_cases12.npy\") \r\n",
    "begin_of_recording = datetime.datetime.strptime(\"2020/03/01\",\"%Y/%m/%d\")\r\n",
    "begin_of_simulation = datetime.datetime.strptime(\"2020/07/24\", \"%Y/%m/%d\")\r\n",
    "d0=(begin_of_simulation-begin_of_recording).days\r\n",
    "  \r\n",
    "\r\n",
    "def Inzidenzwert(d,k,is_sim, S):\r\n",
    "    # d ist Tag k ist Landkreis\r\n",
    "    # die Funktion berechnet Inzidenzwert der Simulation an Tag d in Landkreis k\r\n",
    "    if is_sim==0:\r\n",
    "        Oomega = RKI[k][2][d0-1+d]\r\n",
    "        #print(\"RKI,\",k,d,\"  :\",Oomega)\r\n",
    "        return Oomega\r\n",
    "    else:\r\n",
    "        if d<7:\r\n",
    "            Omega=-(S[k][d]-S[k][0])#*100000\r\n",
    "        if d==0:\r\n",
    "            Omega=S[k][0]#*100000\r\n",
    "        else:\r\n",
    "            Omega=-(S[k][d]-S[k][d-7])#*100000\r\n",
    "            #print(\"Sim,\",k,d,\"  :\",Omega)\r\n",
    "    return Omega*100000\r\n",
    "\r\n",
    "def IW_DE(d,is_sim, N, S):\r\n",
    "    ergebnis=0\r\n",
    "    N_ges=0\r\n",
    "    for i in range(len(N)):\r\n",
    "        ergebnis = ergebnis + N[i]*Inzidenzwert(d,i,is_sim,S)\r\n",
    "        N_ges=N_ges+N[i]\r\n",
    "    return ergebnis/N_ges\r\n",
    "M_ =  region_setup(12)[0]\r\n",
    "N_ = import_rki_data(M_, 7)[2]\r\n",
    "      \r\n",
    "\r\n",
    "def f(params, method):\r\n",
    "    if (params[0]<0):\r\n",
    "        return np.inf\r\n",
    "    if (params[1]<0):\r\n",
    "        return np.inf\r\n",
    "    number_of_days = 100\r\n",
    "    number_of_Lks = 12\r\n",
    "    S = summon_results(params, method)  \r\n",
    "    sum0 = 0\r\n",
    "    #for d in range(number_of_days):\r\n",
    "    #    for k in range(number_of_Lks):\r\n",
    "    #        sum0 = sum0 + ((Inzidenzwert(d,k,0,S))-Inzidenzwert(d,k,1, S))**2 / Inzidenzwert(d,k,0,S)\r\n",
    "    for d in range(number_of_days):\r\n",
    "        sum0 = sum0 +  ( IW_DE(d,0, N_, S) - IW_DE(d,1, N_, S) )**2 / IW_DE(d,0, N_, S)\r\n",
    "    return sum0#, len(S[1])\r\n",
    "\r\n",
    "\r\n",
    "def Bew(params, method, component, which_one):\r\n",
    "    if which_one == -1:\r\n",
    "        return f(params, method)\r\n",
    "    else:\r\n",
    "        z=params\r\n",
    "        z[which_one] = component\r\n",
    "        return f(z, method)\r\n",
    "\r\n",
    "print(summon_results([.4,1/14], 'constant').shape)\r\n",
    "for _ in range(1):\r\n",
    "    #print(summon_results([.4,1/14])[0][5])\r\n",
    "    #print(Inzidenzwert(1,5,0,summon_results([.4,1/14])))\r\n",
    "    print(f([.4,1/14], 'constant'))\r\n",
    "\r\n",
    "#Inzidenzwert(d,k,is_sim, S)\r\n"
   ],
   "outputs": [
    {
     "output_type": "stream",
     "name": "stdout",
     "text": [
      "(12, 101)\n",
      "48345693558.977806\n"
     ]
    }
   ],
   "metadata": {}
  },
  {
   "cell_type": "markdown",
   "source": [
    "## Optimierer "
   ],
   "metadata": {}
  },
  {
   "cell_type": "code",
   "execution_count": 12,
   "source": [
    "def isbetter(new_eval, current_eval):\r\n",
    "    if new_eval > current_eval:\r\n",
    "        return 1\r\n",
    "    else:\r\n",
    "        return 0\r\n",
    "    \r\n",
    "def imporve(params, method, component,which_one, sign, evals):\r\n",
    "\r\n",
    "    i = 0\r\n",
    "    d = 0\r\n",
    "    last_sucess = 0\r\n",
    "    new_eval = evals\r\n",
    "    value = component\r\n",
    "    o_err=2\r\n",
    "    if (which_one==-1):\r\n",
    "        while i - last_sucess < 15 and o_err < 14:\r\n",
    "            if i - last_sucess >8:\r\n",
    "                o_err = o_err + 1\r\n",
    "                last_sucess = 0\r\n",
    "                i = 0\r\n",
    "                component = value\r\n",
    "            d = i * 10**(-o_err) * sign * np.array(value)\r\n",
    "            component = value + d\r\n",
    "            evals=new_eval\r\n",
    "            new_eval = Bew(params, method, component, which_one)\r\n",
    "            i = i + 1\r\n",
    "        if new_eval < evals:\r\n",
    "            last_sucess=last_sucess + 1\r\n",
    "            value=component\r\n",
    "            #print(new_eval,\" \", params)\r\n",
    "    i = 0\r\n",
    "    d = 0\r\n",
    "    last_sucess = 0\r\n",
    "    while i - last_sucess < 15 and o_err < 14:\r\n",
    "        if i - last_sucess >8:\r\n",
    "            o_err = o_err + 1\r\n",
    "            last_sucess = 0\r\n",
    "            i = 0\r\n",
    "            component = value\r\n",
    "        d = i * 10**(-o_err) * sign\r\n",
    "        component = value + d\r\n",
    "        evals=new_eval\r\n",
    "        new_eval = Bew(params, method, component, which_one)\r\n",
    "        i = i + 1\r\n",
    "        if new_eval < evals:\r\n",
    "            last_sucess=last_sucess + 1\r\n",
    "            value=component\r\n",
    "            #print(new_eval,\" \", params)\r\n",
    "    return value, new_eval\r\n",
    "\r\n",
    "\r\n",
    "def improve_component(params, method, which_one):\r\n",
    "    if which_one ==-1:\r\n",
    "        component = params\r\n",
    "        component_pos, eval1 = imporve(params, method, component,which_one, 1, Bew(params, method, component, which_one))\r\n",
    "        component_neg, eval2 = imporve(params, method, component_pos,which_one, -1, eval1)\r\n",
    "    else:\r\n",
    "        component = params[which_one]\r\n",
    "    component_pos, eval1 = imporve(params, method, component,which_one, 1, Bew(params, method, component, which_one))\r\n",
    "    component_neg, eval2 = imporve(params, method, component_pos,which_one, -1, eval1)\r\n",
    "    if eval1<eval2:\r\n",
    "        return component_pos\r\n",
    "    else:\r\n",
    "        return component_neg\r\n",
    "\r\n",
    "#### Optimierer liefert verbesserte Parameters zurück\r\n",
    "def optimize(parameters, method):\r\n",
    "    improved_paramters=np.array(parameters)\r\n",
    "    for e in range(len(parameters)):\r\n",
    "        improved_paramters[e] = improve_component(parameters, method, e)\r\n",
    "    return improve_component(parameters, method, -1)\r\n",
    "\r\n"
   ],
   "outputs": [],
   "metadata": {}
  },
  {
   "cell_type": "code",
   "execution_count": 10,
   "source": [
    "# test for consistancy of Bewertungsfunktion\r\n",
    "# what is printed should be equal otherwise optimization does not make any sense\r\n",
    "#for _ in range(100):\r\n",
    "#    print(f([.4,1/14], method='constant'))\r\n",
    "#    print(f([.4,1/14], method='heaviside'))"
   ],
   "outputs": [],
   "metadata": {}
  },
  {
   "cell_type": "markdown",
   "source": [
    "## run simplex"
   ],
   "metadata": {}
  },
  {
   "cell_type": "code",
   "execution_count": 28,
   "source": [
    "# Constant commuting\r\n",
    "\r\n",
    "simplex(f,[.4,1/14], args=('constant',), xtol=0.0001, ftol=0.0001, maxiter=None, maxfun=None, full_output=0, disp=1, retall=0, callback=None, initial_simplex=None )\r\n",
    "#should print the set of optimal parameters when done"
   ],
   "outputs": [
    {
     "output_type": "stream",
     "name": "stdout",
     "text": [
      "Optimization terminated successfully.\n",
      "         Current function value: 6696604189.104654\n",
      "         Iterations: 67\n",
      "         Function evaluations: 130\n"
     ]
    },
    {
     "output_type": "execute_result",
     "data": {
      "text/plain": [
       "array([0.02243358, 0.17376511])"
      ]
     },
     "metadata": {},
     "execution_count": 28
    }
   ],
   "metadata": {}
  },
  {
   "cell_type": "code",
   "execution_count": 29,
   "source": [
    "# Heaviside commuting\r\n",
    "\r\n",
    "simplex(f,[.4,1/14], args=('heaviside',), xtol=0.0001, ftol=0.0001, maxiter=None, maxfun=None, full_output=0, disp=1, retall=0, callback=None, initial_simplex=None )\r\n",
    "#should print the set of optimal parameters when done"
   ],
   "outputs": [
    {
     "output_type": "stream",
     "name": "stdout",
     "text": [
      "Warning: Maximum number of function evaluations has been exceeded.\n"
     ]
    },
    {
     "output_type": "execute_result",
     "data": {
      "text/plain": [
       "array([0.36965686, 0.07743744])"
      ]
     },
     "metadata": {},
     "execution_count": 29
    }
   ],
   "metadata": {}
  },
  {
   "cell_type": "markdown",
   "source": [
    "## run in house optimizer"
   ],
   "metadata": {}
  },
  {
   "cell_type": "code",
   "execution_count": 13,
   "source": [
    "# Constant commuting\r\n",
    "\r\n",
    "res = optimize([.4,1/14], 'constant')\r\n",
    "print(\"Current function value: \", f(res, 'constant'))\r\n",
    "print (\"optimale Parameter: \", res)\r\n",
    "# prints value of Bewertungsfunktion and used parameters"
   ],
   "outputs": [],
   "metadata": {}
  },
  {
   "cell_type": "code",
   "execution_count": null,
   "source": [
    "    "
   ],
   "outputs": [],
   "metadata": {}
  },
  {
   "cell_type": "code",
   "execution_count": null,
   "source": [
    " "
   ],
   "outputs": [],
   "metadata": {}
  },
  {
   "cell_type": "markdown",
   "source": [
    "## Plots"
   ],
   "metadata": {}
  },
  {
   "cell_type": "code",
   "execution_count": 20,
   "source": [
    "alpha = np.linspace(0,1,10)\n",
    "beta = np.linspace(0,1,10)\n",
    "Z = np.array([np.zeros(10) for i in range(10)])\n",
    "for i in range(len(alpha)):\n",
    "    for j in range(len(beta)):\n",
    "        Z[i][j]=f([alpha[i],beta[j]])\n",
    "        "
   ],
   "outputs": [],
   "metadata": {}
  },
  {
   "cell_type": "code",
   "execution_count": 24,
   "source": [
    "\n",
    "#av= np.mean(Z)\n",
    "#Z = Z-av\n",
    "norm = cm.colors.Normalize(vmax=abs(Z).max(), vmin=-abs(Z).max())\n",
    "ALPHA, BETA = np.meshgrid(alpha, beta)\n",
    "\n",
    "        \n",
    "fig, ax = plt.subplots()\n",
    "cset1 = ax.contourf(\n",
    "    ALPHA, BETA, Z, 40,\n",
    "    norm=norm)\n",
    "ax.set_xlim(0, 1)\n",
    "#ax.set_yscale('log')\n",
    "#ax.set_xscale('log')\n",
    "#ax.set_ylim(0, 1)\n",
    "#ax.set_xticks([])\n",
    "#ax.set_yticks([])\n",
    "fig.colorbar(ax=ax)"
   ],
   "outputs": [
    {
     "output_type": "stream",
     "name": "stdout",
     "text": [
      "Current function value:  6696604189.304944\n",
      "optimale Parameter:  [0.00399975099999999, 0.050374897428571416]\n"
     ]
    },
    {
     "output_type": "display_data",
     "data": {
      "text/plain": [
       "<Figure size 432x288 with 1 Axes>"
      ],
      "image/svg+xml": "<?xml version=\"1.0\" encoding=\"utf-8\" standalone=\"no\"?>\n<!DOCTYPE svg PUBLIC \"-//W3C//DTD SVG 1.1//EN\"\n  \"http://www.w3.org/Graphics/SVG/1.1/DTD/svg11.dtd\">\n<!-- Created with matplotlib (https://matplotlib.org/) -->\n<svg height=\"252.317344pt\" version=\"1.1\" viewBox=\"0 0 380.054687 252.317344\" width=\"380.054687pt\" xmlns=\"http://www.w3.org/2000/svg\" xmlns:xlink=\"http://www.w3.org/1999/xlink\">\n <defs>\n  <style type=\"text/css\">\n*{stroke-linecap:butt;stroke-linejoin:round;}\n  </style>\n </defs>\n <g id=\"figure_1\">\n  <g id=\"patch_1\">\n   <path d=\"M 0 252.317344 \nL 380.054687 252.317344 \nL 380.054687 0 \nL 0 0 \nz\n\" style=\"fill:none;\"/>\n  </g>\n  <g id=\"axes_1\">\n   <g id=\"patch_2\">\n    <path d=\"M 30.103125 228.439219 \nL 364.903125 228.439219 \nL 364.903125 10.999219 \nL 30.103125 10.999219 \nz\n\" style=\"fill:#ffffff;\"/>\n   </g>\n   <g id=\"PathCollection_1\">\n    <path clip-path=\"url(#p4ad4c5addf)\" d=\"M 67.303125 228.439219 \nL 104.503125 228.439219 \nL 141.703125 228.439219 \nL 178.903125 228.439219 \nL 216.103125 228.439219 \nL 253.303125 228.439219 \nL 290.503125 228.439219 \nL 327.703125 228.439219 \nL 364.903125 228.439219 \nL 364.903125 204.279219 \nL 364.903125 180.119219 \nL 364.903125 155.959219 \nL 364.903125 131.799219 \nL 364.903125 107.639219 \nL 364.903125 83.479219 \nL 364.903125 59.319219 \nL 364.903125 35.159219 \nL 364.903125 10.999219 \nL 347.075279 10.999219 \nL 327.703125 23.580249 \nL 313.314013 35.159219 \nL 290.503125 49.973622 \nL 279.174639 59.319219 \nL 253.303125 76.121453 \nL 244.574665 83.479219 \nL 216.103125 101.970153 \nL 209.573308 107.639219 \nL 178.903125 127.558168 \nL 174.163632 131.799219 \nL 141.703125 152.880983 \nL 138.360615 155.959219 \nL 104.503125 177.948322 \nL 102.061878 180.119219 \nL 67.303125 202.693692 \nL 64.957901 204.279219 \nL 30.103125 226.916075 \nL 30.103125 228.439219 \nz\n\" style=\"fill:#1f9f88;\"/>\n   </g>\n   <g id=\"PathCollection_2\">\n    <path clip-path=\"url(#p4ad4c5addf)\" d=\"M 64.957901 204.279219 \nL 67.303125 202.693692 \nL 102.061878 180.119219 \nL 104.503125 177.948322 \nL 138.360615 155.959219 \nL 141.703125 152.880983 \nL 174.163632 131.799219 \nL 178.903125 127.558168 \nL 209.573308 107.639219 \nL 216.103125 101.970153 \nL 244.574665 83.479219 \nL 253.303125 76.121453 \nL 279.174639 59.319219 \nL 290.503125 49.973622 \nL 313.314013 35.159219 \nL 327.703125 23.580249 \nL 347.075279 10.999219 \nL 327.703125 10.999219 \nL 323.160673 10.999219 \nL 290.503125 34.002404 \nL 289.174402 35.159219 \nL 258.017647 59.319219 \nL 253.303125 62.381062 \nL 228.274545 83.479219 \nL 216.103125 91.383987 \nL 197.379814 107.639219 \nL 178.903125 119.639024 \nL 165.313769 131.799219 \nL 141.703125 147.133361 \nL 132.119543 155.959219 \nL 104.503125 173.894993 \nL 97.503771 180.119219 \nL 67.303125 199.733377 \nL 60.579164 204.279219 \nL 30.103125 224.072251 \nL 30.103125 226.916075 \nz\n\" style=\"fill:#1fa287;\"/>\n   </g>\n   <g id=\"PathCollection_3\">\n    <path clip-path=\"url(#p4ad4c5addf)\" d=\"M 60.579164 204.279219 \nL 67.303125 199.733377 \nL 97.503771 180.119219 \nL 104.503125 173.894993 \nL 132.119543 155.959219 \nL 141.703125 147.133361 \nL 165.313769 131.799219 \nL 178.903125 119.639024 \nL 197.379814 107.639219 \nL 216.103125 91.383987 \nL 228.274545 83.479219 \nL 253.303125 62.381062 \nL 258.017647 59.319219 \nL 289.174402 35.159219 \nL 290.503125 34.002404 \nL 323.160673 10.999219 \nL 312.30017 10.999219 \nL 290.503125 26.352529 \nL 280.387723 35.159219 \nL 253.303125 54.45442 \nL 247.899936 59.319219 \nL 216.103125 82.211384 \nL 214.750078 83.479219 \nL 185.18632 107.639219 \nL 178.903125 111.719881 \nL 156.463905 131.799219 \nL 141.703125 141.385738 \nL 125.878472 155.959219 \nL 104.503125 169.841663 \nL 92.945665 180.119219 \nL 67.303125 196.773062 \nL 56.200428 204.279219 \nL 30.103125 221.228428 \nL 30.103125 224.072251 \nz\n\" style=\"fill:#21a585;\"/>\n   </g>\n   <g id=\"PathCollection_4\">\n    <path clip-path=\"url(#p4ad4c5addf)\" d=\"M 56.200428 204.279219 \nL 67.303125 196.773062 \nL 92.945665 180.119219 \nL 104.503125 169.841663 \nL 125.878472 155.959219 \nL 141.703125 141.385738 \nL 156.463905 131.799219 \nL 178.903125 111.719881 \nL 185.18632 107.639219 \nL 214.750078 83.479219 \nL 216.103125 82.211384 \nL 247.899936 59.319219 \nL 253.303125 54.45442 \nL 280.387723 35.159219 \nL 290.503125 26.352529 \nL 312.30017 10.999219 \nL 301.439666 10.999219 \nL 290.503125 18.702653 \nL 271.601043 35.159219 \nL 253.303125 48.194746 \nL 240.947499 59.319219 \nL 216.103125 77.205966 \nL 209.408246 83.479219 \nL 178.903125 105.748989 \nL 176.998878 107.639219 \nL 147.614042 131.799219 \nL 141.703125 135.638116 \nL 119.6374 155.959219 \nL 104.503125 165.788333 \nL 88.387558 180.119219 \nL 67.303125 193.812747 \nL 51.821692 204.279219 \nL 30.103125 218.384605 \nL 30.103125 221.228428 \nz\n\" style=\"fill:#22a884;\"/>\n   </g>\n   <g id=\"PathCollection_5\">\n    <path clip-path=\"url(#p4ad4c5addf)\" d=\"M 51.821692 204.279219 \nL 67.303125 193.812747 \nL 88.387558 180.119219 \nL 104.503125 165.788333 \nL 119.6374 155.959219 \nL 141.703125 135.638116 \nL 147.614042 131.799219 \nL 176.998878 107.639219 \nL 178.903125 105.748989 \nL 209.408246 83.479219 \nL 216.103125 77.205966 \nL 240.947499 59.319219 \nL 253.303125 48.194746 \nL 271.601043 35.159219 \nL 290.503125 18.702653 \nL 301.439666 10.999219 \nL 290.579163 10.999219 \nL 290.503125 11.052778 \nL 262.814363 35.159219 \nL 253.303125 41.935072 \nL 233.995063 59.319219 \nL 216.103125 72.200548 \nL 204.066414 83.479219 \nL 178.903125 101.849271 \nL 173.07024 107.639219 \nL 141.703125 130.834454 \nL 140.766268 131.799219 \nL 113.396329 155.959219 \nL 104.503125 161.735004 \nL 83.829451 180.119219 \nL 67.303125 190.852432 \nL 47.442955 204.279219 \nL 30.103125 215.540781 \nL 30.103125 218.384605 \nz\n\" style=\"fill:#25ac82;\"/>\n   </g>\n   <g id=\"PathCollection_6\">\n    <path clip-path=\"url(#p4ad4c5addf)\" d=\"M 47.442955 204.279219 \nL 67.303125 190.852432 \nL 83.829451 180.119219 \nL 104.503125 161.735004 \nL 113.396329 155.959219 \nL 140.766268 131.799219 \nL 141.703125 130.834454 \nL 173.07024 107.639219 \nL 178.903125 101.849271 \nL 204.066414 83.479219 \nL 216.103125 72.200548 \nL 233.995063 59.319219 \nL 253.303125 41.935072 \nL 262.814363 35.159219 \nL 290.503125 11.052778 \nL 290.579163 10.999219 \nL 290.503125 10.999219 \nL 282.923648 10.999219 \nL 254.027683 35.159219 \nL 253.303125 35.675398 \nL 227.042626 59.319219 \nL 216.103125 67.19513 \nL 198.724581 83.479219 \nL 178.903125 97.949552 \nL 169.141602 107.639219 \nL 141.703125 127.92932 \nL 137.945171 131.799219 \nL 107.155257 155.959219 \nL 104.503125 157.681674 \nL 79.271344 180.119219 \nL 67.303125 187.892117 \nL 43.064219 204.279219 \nL 30.103125 212.696958 \nL 30.103125 215.540781 \nz\n\" style=\"fill:#28ae80;\"/>\n   </g>\n   <g id=\"PathCollection_7\">\n    <path clip-path=\"url(#p4ad4c5addf)\" d=\"M 43.064219 204.279219 \nL 67.303125 187.892117 \nL 79.271344 180.119219 \nL 104.503125 157.681674 \nL 107.155257 155.959219 \nL 137.945171 131.799219 \nL 141.703125 127.92932 \nL 169.141602 107.639219 \nL 178.903125 97.949552 \nL 198.724581 83.479219 \nL 216.103125 67.19513 \nL 227.042626 59.319219 \nL 253.303125 35.675398 \nL 254.027683 35.159219 \nL 282.923648 10.999219 \nL 275.29073 10.999219 \nL 253.303125 29.322789 \nL 247.429497 35.159219 \nL 220.09019 59.319219 \nL 216.103125 62.189712 \nL 193.382749 83.479219 \nL 178.903125 94.049834 \nL 165.212964 107.639219 \nL 141.703125 125.024185 \nL 135.124074 131.799219 \nL 104.503125 154.743639 \nL 103.324692 155.959219 \nL 74.713238 180.119219 \nL 67.303125 184.931802 \nL 38.685482 204.279219 \nL 30.103125 209.853134 \nL 30.103125 212.696958 \nz\n\" style=\"fill:#2db27d;\"/>\n   </g>\n   <g id=\"PathCollection_8\">\n    <path clip-path=\"url(#p4ad4c5addf)\" d=\"M 38.685482 204.279219 \nL 67.303125 184.931802 \nL 74.713238 180.119219 \nL 103.324692 155.959219 \nL 104.503125 154.743639 \nL 135.124074 131.799219 \nL 141.703125 125.024185 \nL 165.212964 107.639219 \nL 178.903125 94.049834 \nL 193.382749 83.479219 \nL 216.103125 62.189712 \nL 220.09019 59.319219 \nL 247.429497 35.159219 \nL 253.303125 29.322789 \nL 275.29073 10.999219 \nL 267.657813 10.999219 \nL 253.303125 22.961828 \nL 241.027994 35.159219 \nL 216.103125 56.933917 \nL 213.857081 59.319219 \nL 188.040916 83.479219 \nL 178.903125 90.150115 \nL 161.284326 107.639219 \nL 141.703125 122.119051 \nL 132.302977 131.799219 \nL 104.503125 152.629778 \nL 101.275429 155.959219 \nL 70.155131 180.119219 \nL 67.303125 181.971487 \nL 34.306746 204.279219 \nL 30.103125 207.009311 \nL 30.103125 209.853134 \nz\n\" style=\"fill:#31b57b;\"/>\n   </g>\n   <g id=\"PathCollection_9\">\n    <path clip-path=\"url(#p4ad4c5addf)\" d=\"M 34.306746 204.279219 \nL 67.303125 181.971487 \nL 70.155131 180.119219 \nL 101.275429 155.959219 \nL 104.503125 152.629778 \nL 132.302977 131.799219 \nL 141.703125 122.119051 \nL 161.284326 107.639219 \nL 178.903125 90.150115 \nL 188.040916 83.479219 \nL 213.857081 59.319219 \nL 216.103125 56.933917 \nL 241.027994 35.159219 \nL 253.303125 22.961828 \nL 267.657813 10.999219 \nL 260.024895 10.999219 \nL 253.303125 16.600867 \nL 234.626491 35.159219 \nL 216.103125 51.341479 \nL 208.591137 59.319219 \nL 182.699084 83.479219 \nL 178.903125 86.250397 \nL 157.355688 107.639219 \nL 141.703125 119.213916 \nL 129.48188 131.799219 \nL 104.503125 150.515917 \nL 99.226166 155.959219 \nL 67.303125 179.552329 \nL 66.58866 180.119219 \nL 30.103125 204.228775 \nL 30.103125 204.279219 \nL 30.103125 207.009311 \nz\n\" style=\"fill:#37b878;\"/>\n   </g>\n   <g id=\"PathCollection_10\">\n    <path clip-path=\"url(#p4ad4c5addf)\" d=\"M 66.58866 180.119219 \nL 67.303125 179.552329 \nL 99.226166 155.959219 \nL 104.503125 150.515917 \nL 129.48188 131.799219 \nL 141.703125 119.213916 \nL 157.355688 107.639219 \nL 178.903125 86.250397 \nL 182.699084 83.479219 \nL 208.591137 59.319219 \nL 216.103125 51.341479 \nL 234.626491 35.159219 \nL 253.303125 16.600867 \nL 260.024895 10.999219 \nL 253.303125 10.999219 \nL 252.522307 10.999219 \nL 228.224988 35.159219 \nL 216.103125 45.74904 \nL 203.325194 59.319219 \nL 178.903125 82.060204 \nL 177.636656 83.479219 \nL 153.42705 107.639219 \nL 141.703125 116.308782 \nL 126.660783 131.799219 \nL 104.503125 148.402056 \nL 97.176902 155.959219 \nL 67.303125 178.037796 \nL 64.679859 180.119219 \nL 30.103125 202.967444 \nL 30.103125 204.228775 \nz\n\" style=\"fill:#3bbb75;\"/>\n   </g>\n   <g id=\"PathCollection_11\">\n    <path clip-path=\"url(#p4ad4c5addf)\" d=\"M 64.679859 180.119219 \nL 67.303125 178.037796 \nL 97.176902 155.959219 \nL 104.503125 148.402056 \nL 126.660783 131.799219 \nL 141.703125 116.308782 \nL 153.42705 107.639219 \nL 177.636656 83.479219 \nL 178.903125 82.060204 \nL 203.325194 59.319219 \nL 216.103125 45.74904 \nL 228.224988 35.159219 \nL 252.522307 10.999219 \nL 245.981196 10.999219 \nL 221.823485 35.159219 \nL 216.103125 40.156602 \nL 198.059251 59.319219 \nL 178.903125 77.15674 \nL 173.26032 83.479219 \nL 149.498411 107.639219 \nL 141.703125 113.403648 \nL 123.839686 131.799219 \nL 104.503125 146.288195 \nL 95.127639 155.959219 \nL 67.303125 176.523263 \nL 62.771058 180.119219 \nL 30.103125 201.706113 \nL 30.103125 202.967444 \nz\n\" style=\"fill:#42be71;\"/>\n   </g>\n   <g id=\"PathCollection_12\">\n    <path clip-path=\"url(#p4ad4c5addf)\" d=\"M 62.771058 180.119219 \nL 67.303125 176.523263 \nL 95.127639 155.959219 \nL 104.503125 146.288195 \nL 123.839686 131.799219 \nL 141.703125 113.403648 \nL 149.498411 107.639219 \nL 173.26032 83.479219 \nL 178.903125 77.15674 \nL 198.059251 59.319219 \nL 216.103125 40.156602 \nL 221.823485 35.159219 \nL 245.981196 10.999219 \nL 239.440084 10.999219 \nL 216.103125 34.459542 \nL 215.491882 35.159219 \nL 192.793307 59.319219 \nL 178.903125 72.253276 \nL 168.883984 83.479219 \nL 145.569773 107.639219 \nL 141.703125 110.498513 \nL 121.018589 131.799219 \nL 104.503125 144.174333 \nL 93.078376 155.959219 \nL 67.303125 175.00873 \nL 60.862257 180.119219 \nL 30.103125 200.444782 \nL 30.103125 201.706113 \nz\n\" style=\"fill:#48c16e;\"/>\n   </g>\n   <g id=\"PathCollection_13\">\n    <path clip-path=\"url(#p4ad4c5addf)\" d=\"M 60.862257 180.119219 \nL 67.303125 175.00873 \nL 93.078376 155.959219 \nL 104.503125 144.174333 \nL 121.018589 131.799219 \nL 141.703125 110.498513 \nL 145.569773 107.639219 \nL 168.883984 83.479219 \nL 178.903125 72.253276 \nL 192.793307 59.319219 \nL 215.491882 35.159219 \nL 216.103125 34.459542 \nL 239.440084 10.999219 \nL 232.898972 10.999219 \nL 216.103125 27.883853 \nL 209.747307 35.159219 \nL 187.527364 59.319219 \nL 178.903125 67.349811 \nL 164.507648 83.479219 \nL 141.703125 107.566281 \nL 141.642927 107.639219 \nL 118.197492 131.799219 \nL 104.503125 142.060472 \nL 91.029113 155.959219 \nL 67.303125 173.494197 \nL 58.953456 180.119219 \nL 30.103125 199.18345 \nL 30.103125 200.444782 \nz\n\" style=\"fill:#50c46a;\"/>\n   </g>\n   <g id=\"PathCollection_14\">\n    <path clip-path=\"url(#p4ad4c5addf)\" d=\"M 58.953456 180.119219 \nL 67.303125 173.494197 \nL 91.029113 155.959219 \nL 104.503125 142.060472 \nL 118.197492 131.799219 \nL 141.642927 107.639219 \nL 141.703125 107.566281 \nL 164.507648 83.479219 \nL 178.903125 67.349811 \nL 187.527364 59.319219 \nL 209.747307 35.159219 \nL 216.103125 27.883853 \nL 232.898972 10.999219 \nL 226.35786 10.999219 \nL 216.103125 21.308163 \nL 204.002732 35.159219 \nL 182.26142 59.319219 \nL 178.903125 62.446347 \nL 160.131311 83.479219 \nL 141.703125 102.943817 \nL 137.82786 107.639219 \nL 115.376395 131.799219 \nL 104.503125 139.946611 \nL 88.979849 155.959219 \nL 67.303125 171.979664 \nL 57.044655 180.119219 \nL 30.103125 197.922119 \nL 30.103125 199.18345 \nz\n\" style=\"fill:#56c667;\"/>\n   </g>\n   <g id=\"PathCollection_15\">\n    <path clip-path=\"url(#p4ad4c5addf)\" d=\"M 57.044655 180.119219 \nL 67.303125 171.979664 \nL 88.979849 155.959219 \nL 104.503125 139.946611 \nL 115.376395 131.799219 \nL 137.82786 107.639219 \nL 141.703125 102.943817 \nL 160.131311 83.479219 \nL 178.903125 62.446347 \nL 182.26142 59.319219 \nL 204.002732 35.159219 \nL 216.103125 21.308163 \nL 226.35786 10.999219 \nL 219.816748 10.999219 \nL 216.103125 14.732473 \nL 198.258158 35.159219 \nL 178.903125 56.973739 \nL 177.000359 59.319219 \nL 155.754975 83.479219 \nL 141.703125 98.321353 \nL 134.012793 107.639219 \nL 112.555298 131.799219 \nL 104.503125 137.83275 \nL 86.930586 155.959219 \nL 67.303125 170.465131 \nL 55.135854 180.119219 \nL 30.103125 196.660788 \nL 30.103125 197.922119 \nz\n\" style=\"fill:#5ec962;\"/>\n   </g>\n   <g id=\"PathCollection_16\">\n    <path clip-path=\"url(#p4ad4c5addf)\" d=\"M 55.135854 180.119219 \nL 67.303125 170.465131 \nL 86.930586 155.959219 \nL 104.503125 137.83275 \nL 112.555298 131.799219 \nL 134.012793 107.639219 \nL 141.703125 98.321353 \nL 155.754975 83.479219 \nL 177.000359 59.319219 \nL 178.903125 56.973739 \nL 198.258158 35.159219 \nL 216.103125 14.732473 \nL 219.816748 10.999219 \nL 216.103125 10.999219 \nL 213.419759 10.999219 \nL 192.513583 35.159219 \nL 178.903125 50.499188 \nL 171.747891 59.319219 \nL 151.378639 83.479219 \nL 141.703125 93.698889 \nL 130.197725 107.639219 \nL 109.734202 131.799219 \nL 104.503125 135.718889 \nL 84.881323 155.959219 \nL 67.303125 168.950599 \nL 53.227053 180.119219 \nL 30.103125 195.399457 \nL 30.103125 196.660788 \nz\n\" style=\"fill:#65cb5e;\"/>\n   </g>\n   <g id=\"PathCollection_17\">\n    <path clip-path=\"url(#p4ad4c5addf)\" d=\"M 53.227053 180.119219 \nL 67.303125 168.950599 \nL 84.881323 155.959219 \nL 104.503125 135.718889 \nL 109.734202 131.799219 \nL 130.197725 107.639219 \nL 141.703125 93.698889 \nL 151.378639 83.479219 \nL 171.747891 59.319219 \nL 178.903125 50.499188 \nL 192.513583 35.159219 \nL 213.419759 10.999219 \nL 207.21206 10.999219 \nL 186.769008 35.159219 \nL 178.903125 44.024637 \nL 166.495423 59.319219 \nL 147.002303 83.479219 \nL 141.703125 89.076425 \nL 126.382658 107.639219 \nL 106.913105 131.799219 \nL 104.503125 133.605028 \nL 82.832059 155.959219 \nL 67.303125 167.436066 \nL 51.318252 180.119219 \nL 30.103125 194.138125 \nL 30.103125 195.399457 \nz\n\" style=\"fill:#6ece58;\"/>\n   </g>\n   <g id=\"PathCollection_18\">\n    <path clip-path=\"url(#p4ad4c5addf)\" d=\"M 51.318252 180.119219 \nL 67.303125 167.436066 \nL 82.832059 155.959219 \nL 104.503125 133.605028 \nL 106.913105 131.799219 \nL 126.382658 107.639219 \nL 141.703125 89.076425 \nL 147.002303 83.479219 \nL 166.495423 59.319219 \nL 178.903125 44.024637 \nL 186.769008 35.159219 \nL 207.21206 10.999219 \nL 201.004361 10.999219 \nL 181.024433 35.159219 \nL 178.903125 37.550086 \nL 161.242956 59.319219 \nL 142.625966 83.479219 \nL 141.703125 84.453961 \nL 122.567591 107.639219 \nL 104.503125 131.07785 \nL 103.934156 131.799219 \nL 80.782796 155.959219 \nL 67.303125 165.921533 \nL 49.409451 180.119219 \nL 30.103125 192.876794 \nL 30.103125 194.138125 \nz\n\" style=\"fill:#75d054;\"/>\n   </g>\n   <g id=\"PathCollection_19\">\n    <path clip-path=\"url(#p4ad4c5addf)\" d=\"M 49.409451 180.119219 \nL 67.303125 165.921533 \nL 80.782796 155.959219 \nL 103.934156 131.799219 \nL 104.503125 131.07785 \nL 122.567591 107.639219 \nL 141.703125 84.453961 \nL 142.625966 83.479219 \nL 161.242956 59.319219 \nL 178.903125 37.550086 \nL 181.024433 35.159219 \nL 201.004361 10.999219 \nL 194.796662 10.999219 \nL 178.903125 30.383822 \nL 175.09134 35.159219 \nL 155.990488 59.319219 \nL 141.703125 78.046336 \nL 137.63395 83.479219 \nL 118.752523 107.639219 \nL 104.503125 126.127803 \nL 100.029878 131.799219 \nL 78.733533 155.959219 \nL 67.303125 164.407 \nL 47.50065 180.119219 \nL 30.103125 191.615463 \nL 30.103125 192.876794 \nz\n\" style=\"fill:#7cd250;\"/>\n   </g>\n   <g id=\"PathCollection_20\">\n    <path clip-path=\"url(#p4ad4c5addf)\" d=\"M 47.50065 180.119219 \nL 67.303125 164.407 \nL 78.733533 155.959219 \nL 100.029878 131.799219 \nL 104.503125 126.127803 \nL 118.752523 107.639219 \nL 137.63395 83.479219 \nL 141.703125 78.046336 \nL 155.990488 59.319219 \nL 175.09134 35.159219 \nL 178.903125 30.383822 \nL 194.796662 10.999219 \nL 188.588962 10.999219 \nL 178.903125 22.812582 \nL 169.047874 35.159219 \nL 150.738021 59.319219 \nL 141.703125 71.16168 \nL 132.477412 83.479219 \nL 114.937456 107.639219 \nL 104.503125 121.177756 \nL 96.1256 131.799219 \nL 76.684269 155.959219 \nL 67.303125 162.892467 \nL 45.59185 180.119219 \nL 30.103125 190.354132 \nL 30.103125 191.615463 \nz\n\" style=\"fill:#86d549;\"/>\n   </g>\n   <g id=\"PathCollection_21\">\n    <path clip-path=\"url(#p4ad4c5addf)\" d=\"M 45.59185 180.119219 \nL 67.303125 162.892467 \nL 76.684269 155.959219 \nL 96.1256 131.799219 \nL 104.503125 121.177756 \nL 114.937456 107.639219 \nL 132.477412 83.479219 \nL 141.703125 71.16168 \nL 150.738021 59.319219 \nL 169.047874 35.159219 \nL 178.903125 22.812582 \nL 188.588962 10.999219 \nL 182.381263 10.999219 \nL 178.903125 15.241341 \nL 163.004409 35.159219 \nL 145.485553 59.319219 \nL 141.703125 64.277025 \nL 127.320873 83.479219 \nL 111.122389 107.639219 \nL 104.503125 116.227709 \nL 92.221321 131.799219 \nL 74.635006 155.959219 \nL 67.303125 161.377934 \nL 43.683049 180.119219 \nL 30.103125 189.092801 \nL 30.103125 190.354132 \nz\n\" style=\"fill:#8ed645;\"/>\n   </g>\n   <g id=\"PathCollection_22\">\n    <path clip-path=\"url(#p4ad4c5addf)\" d=\"M 43.683049 180.119219 \nL 67.303125 161.377934 \nL 74.635006 155.959219 \nL 92.221321 131.799219 \nL 104.503125 116.227709 \nL 111.122389 107.639219 \nL 127.320873 83.479219 \nL 141.703125 64.277025 \nL 145.485553 59.319219 \nL 163.004409 35.159219 \nL 178.903125 15.241341 \nL 182.381263 10.999219 \nL 178.903125 10.999219 \nL 175.857628 10.999219 \nL 156.960944 35.159219 \nL 141.703125 56.908212 \nL 139.8793 59.319219 \nL 122.164335 83.479219 \nL 107.307321 107.639219 \nL 104.503125 111.277662 \nL 88.317043 131.799219 \nL 72.585743 155.959219 \nL 67.303125 159.863401 \nL 41.774248 180.119219 \nL 30.103125 187.831469 \nL 30.103125 189.092801 \nz\n\" style=\"fill:#98d83e;\"/>\n   </g>\n   <g id=\"PathCollection_23\">\n    <path clip-path=\"url(#p4ad4c5addf)\" d=\"M 41.774248 180.119219 \nL 67.303125 159.863401 \nL 72.585743 155.959219 \nL 88.317043 131.799219 \nL 104.503125 111.277662 \nL 107.307321 107.639219 \nL 122.164335 83.479219 \nL 139.8793 59.319219 \nL 141.703125 56.908212 \nL 156.960944 35.159219 \nL 175.857628 10.999219 \nL 168.931412 10.999219 \nL 150.917478 35.159219 \nL 141.703125 48.293659 \nL 133.362752 59.319219 \nL 117.007797 83.479219 \nL 104.503125 105.259415 \nL 102.75897 107.639219 \nL 84.412765 131.799219 \nL 70.536479 155.959219 \nL 67.303125 158.348869 \nL 39.865447 180.119219 \nL 30.103125 186.570138 \nL 30.103125 187.831469 \nz\n\" style=\"fill:#a0da39;\"/>\n   </g>\n   <g id=\"PathCollection_24\">\n    <path clip-path=\"url(#p4ad4c5addf)\" d=\"M 39.865447 180.119219 \nL 67.303125 158.348869 \nL 70.536479 155.959219 \nL 84.412765 131.799219 \nL 102.75897 107.639219 \nL 104.503125 105.259415 \nL 117.007797 83.479219 \nL 133.362752 59.319219 \nL 141.703125 48.293659 \nL 150.917478 35.159219 \nL 168.931412 10.999219 \nL 162.005195 10.999219 \nL 144.874013 35.159219 \nL 141.703125 39.679106 \nL 126.846204 59.319219 \nL 111.851259 83.479219 \nL 104.503125 96.277939 \nL 96.176461 107.639219 \nL 80.508487 131.799219 \nL 68.487216 155.959219 \nL 67.303125 156.834336 \nL 37.956646 180.119219 \nL 30.103125 185.308807 \nL 30.103125 186.570138 \nz\n\" style=\"fill:#aadc32;\"/>\n   </g>\n   <g id=\"PathCollection_25\">\n    <path clip-path=\"url(#p4ad4c5addf)\" d=\"M 37.956646 180.119219 \nL 67.303125 156.834336 \nL 68.487216 155.959219 \nL 80.508487 131.799219 \nL 96.176461 107.639219 \nL 104.503125 96.277939 \nL 111.851259 83.479219 \nL 126.846204 59.319219 \nL 141.703125 39.679106 \nL 144.874013 35.159219 \nL 162.005195 10.999219 \nL 155.078979 10.999219 \nL 141.703125 30.387282 \nL 137.948218 35.159219 \nL 120.329656 59.319219 \nL 106.69472 83.479219 \nL 104.503125 87.296462 \nL 89.593951 107.639219 \nL 76.604208 131.799219 \nL 67.303125 152.322151 \nL 63.588694 155.959219 \nL 36.047845 180.119219 \nL 30.103125 184.047476 \nL 30.103125 185.308807 \nz\n\" style=\"fill:#b2dd2d;\"/>\n   </g>\n   <g id=\"PathCollection_26\">\n    <path clip-path=\"url(#p4ad4c5addf)\" d=\"M 36.047845 180.119219 \nL 63.588694 155.959219 \nL 67.303125 152.322151 \nL 76.604208 131.799219 \nL 89.593951 107.639219 \nL 104.503125 87.296462 \nL 106.69472 83.479219 \nL 120.329656 59.319219 \nL 137.948218 35.159219 \nL 141.703125 30.387282 \nL 155.078979 10.999219 \nL 148.152762 10.999219 \nL 141.703125 20.347854 \nL 130.048466 35.159219 \nL 113.813108 59.319219 \nL 104.503125 76.546045 \nL 98.955304 83.479219 \nL 83.011441 107.639219 \nL 72.69993 131.799219 \nL 67.303125 143.707323 \nL 54.790621 155.959219 \nL 34.139044 180.119219 \nL 30.103125 182.786144 \nL 30.103125 184.047476 \nz\n\" style=\"fill:#bddf26;\"/>\n   </g>\n   <g id=\"PathCollection_27\">\n    <path clip-path=\"url(#p4ad4c5addf)\" d=\"M 34.139044 180.119219 \nL 54.790621 155.959219 \nL 67.303125 143.707323 \nL 72.69993 131.799219 \nL 83.011441 107.639219 \nL 98.955304 83.479219 \nL 104.503125 76.546045 \nL 113.813108 59.319219 \nL 130.048466 35.159219 \nL 141.703125 20.347854 \nL 148.152762 10.999219 \nL 141.703125 10.999219 \nL 140.99411 10.999219 \nL 122.148715 35.159219 \nL 107.29656 59.319219 \nL 104.503125 64.488081 \nL 89.306701 83.479219 \nL 76.428931 107.639219 \nL 68.795652 131.799219 \nL 67.303125 135.092494 \nL 45.992548 155.959219 \nL 32.230243 180.119219 \nL 30.103125 181.524813 \nL 30.103125 182.786144 \nz\n\" style=\"fill:#c5e021;\"/>\n   </g>\n   <g id=\"PathCollection_28\">\n    <path clip-path=\"url(#p4ad4c5addf)\" d=\"M 32.230243 180.119219 \nL 45.992548 155.959219 \nL 67.303125 135.092494 \nL 68.795652 131.799219 \nL 76.428931 107.639219 \nL 89.306701 83.479219 \nL 104.503125 64.488081 \nL 107.29656 59.319219 \nL 122.148715 35.159219 \nL 140.99411 10.999219 \nL 130.689854 10.999219 \nL 114.248963 35.159219 \nL 104.503125 51.672005 \nL 97.551905 59.319219 \nL 79.658099 83.479219 \nL 69.846421 107.639219 \nL 67.303125 116.93592 \nL 53.619263 131.799219 \nL 37.194475 155.959219 \nL 30.321442 180.119219 \nL 30.103125 180.263482 \nL 30.103125 181.524813 \nz\n\" style=\"fill:#d0e11c;\"/>\n   </g>\n   <g id=\"PathCollection_29\">\n    <path clip-path=\"url(#p4ad4c5addf)\" d=\"M 30.321442 180.119219 \nL 37.194475 155.959219 \nL 53.619263 131.799219 \nL 67.303125 116.93592 \nL 69.846421 107.639219 \nL 79.658099 83.479219 \nL 97.551905 59.319219 \nL 104.503125 51.672005 \nL 114.248963 35.159219 \nL 130.689854 10.999219 \nL 120.385599 10.999219 \nL 106.349211 35.159219 \nL 104.503125 38.287121 \nL 85.385217 59.319219 \nL 70.009497 83.479219 \nL 67.303125 91.058418 \nL 48.866783 107.639219 \nL 31.467058 131.799219 \nL 30.103125 137.620001 \nL 30.103125 155.959219 \nL 30.103125 180.119219 \nL 30.103125 180.263482 \nz\n\" style=\"fill:#d8e219;\"/>\n   </g>\n   <g id=\"PathCollection_30\">\n    <path clip-path=\"url(#p4ad4c5addf)\" d=\"M 31.467058 131.799219 \nL 48.866783 107.639219 \nL 67.303125 91.058418 \nL 70.009497 83.479219 \nL 85.385217 59.319219 \nL 104.503125 38.287121 \nL 106.349211 35.159219 \nL 120.385599 10.999219 \nL 110.081343 10.999219 \nL 104.503125 21.00107 \nL 91.470101 35.159219 \nL 73.218529 59.319219 \nL 67.303125 69.061678 \nL 49.301854 83.479219 \nL 30.103125 99.701546 \nL 30.103125 107.639219 \nL 30.103125 131.799219 \nL 30.103125 137.620001 \nz\n\" style=\"fill:#e2e418;\"/>\n   </g>\n   <g id=\"PathCollection_31\">\n    <path clip-path=\"url(#p4ad4c5addf)\" d=\"M 49.301854 83.479219 \nL 67.303125 69.061678 \nL 73.218529 59.319219 \nL 91.470101 35.159219 \nL 104.503125 21.00107 \nL 110.081343 10.999219 \nL 104.503125 10.999219 \nL 93.682722 10.999219 \nL 74.46261 35.159219 \nL 67.303125 46.039409 \nL 51.177305 59.319219 \nL 30.103125 77.262675 \nL 30.103125 83.479219 \nL 30.103125 99.701546 \nz\n\" style=\"fill:#eae51a;\"/>\n   </g>\n   <g id=\"PathCollection_32\">\n    <path clip-path=\"url(#p4ad4c5addf)\" d=\"M 51.177305 59.319219 \nL 67.303125 46.039409 \nL 74.46261 35.159219 \nL 93.682722 10.999219 \nL 70.090822 10.999219 \nL 67.303125 15.093905 \nL 43.54915 35.159219 \nL 30.103125 47.225157 \nL 30.103125 59.319219 \nL 30.103125 77.262675 \nz\n\" style=\"fill:#f1e51d;\"/>\n   </g>\n   <g id=\"PathCollection_33\">\n    <path clip-path=\"url(#p4ad4c5addf)\" d=\"M 43.54915 35.159219 \nL 67.303125 15.093905 \nL 70.090822 10.999219 \nL 67.303125 10.999219 \nL 30.103125 10.999219 \nL 30.103125 35.159219 \nL 30.103125 47.225157 \nz\n\" style=\"fill:#fbe723;\"/>\n   </g>\n   <g id=\"matplotlib.axis_1\">\n    <g id=\"xtick_1\">\n     <g id=\"line2d_1\">\n      <defs>\n       <path d=\"M 0 0 \nL 0 3.5 \n\" id=\"me2260ff272\" style=\"stroke:#000000;stroke-width:0.8;\"/>\n      </defs>\n      <g>\n       <use style=\"stroke:#000000;stroke-width:0.8;\" x=\"30.103125\" xlink:href=\"#me2260ff272\" y=\"228.439219\"/>\n      </g>\n     </g>\n     <g id=\"text_1\">\n      <!-- 0.0 -->\n      <defs>\n       <path d=\"M 31.78125 66.40625 \nQ 24.171875 66.40625 20.328125 58.90625 \nQ 16.5 51.421875 16.5 36.375 \nQ 16.5 21.390625 20.328125 13.890625 \nQ 24.171875 6.390625 31.78125 6.390625 \nQ 39.453125 6.390625 43.28125 13.890625 \nQ 47.125 21.390625 47.125 36.375 \nQ 47.125 51.421875 43.28125 58.90625 \nQ 39.453125 66.40625 31.78125 66.40625 \nz\nM 31.78125 74.21875 \nQ 44.046875 74.21875 50.515625 64.515625 \nQ 56.984375 54.828125 56.984375 36.375 \nQ 56.984375 17.96875 50.515625 8.265625 \nQ 44.046875 -1.421875 31.78125 -1.421875 \nQ 19.53125 -1.421875 13.0625 8.265625 \nQ 6.59375 17.96875 6.59375 36.375 \nQ 6.59375 54.828125 13.0625 64.515625 \nQ 19.53125 74.21875 31.78125 74.21875 \nz\n\" id=\"DejaVuSans-48\"/>\n       <path d=\"M 10.6875 12.40625 \nL 21 12.40625 \nL 21 0 \nL 10.6875 0 \nz\n\" id=\"DejaVuSans-46\"/>\n      </defs>\n      <g transform=\"translate(22.151563 243.037656)scale(0.1 -0.1)\">\n       <use xlink:href=\"#DejaVuSans-48\"/>\n       <use x=\"63.623047\" xlink:href=\"#DejaVuSans-46\"/>\n       <use x=\"95.410156\" xlink:href=\"#DejaVuSans-48\"/>\n      </g>\n     </g>\n    </g>\n    <g id=\"xtick_2\">\n     <g id=\"line2d_2\">\n      <g>\n       <use style=\"stroke:#000000;stroke-width:0.8;\" x=\"97.063125\" xlink:href=\"#me2260ff272\" y=\"228.439219\"/>\n      </g>\n     </g>\n     <g id=\"text_2\">\n      <!-- 0.2 -->\n      <defs>\n       <path d=\"M 19.1875 8.296875 \nL 53.609375 8.296875 \nL 53.609375 0 \nL 7.328125 0 \nL 7.328125 8.296875 \nQ 12.9375 14.109375 22.625 23.890625 \nQ 32.328125 33.6875 34.8125 36.53125 \nQ 39.546875 41.84375 41.421875 45.53125 \nQ 43.3125 49.21875 43.3125 52.78125 \nQ 43.3125 58.59375 39.234375 62.25 \nQ 35.15625 65.921875 28.609375 65.921875 \nQ 23.96875 65.921875 18.8125 64.3125 \nQ 13.671875 62.703125 7.8125 59.421875 \nL 7.8125 69.390625 \nQ 13.765625 71.78125 18.9375 73 \nQ 24.125 74.21875 28.421875 74.21875 \nQ 39.75 74.21875 46.484375 68.546875 \nQ 53.21875 62.890625 53.21875 53.421875 \nQ 53.21875 48.921875 51.53125 44.890625 \nQ 49.859375 40.875 45.40625 35.40625 \nQ 44.1875 33.984375 37.640625 27.21875 \nQ 31.109375 20.453125 19.1875 8.296875 \nz\n\" id=\"DejaVuSans-50\"/>\n      </defs>\n      <g transform=\"translate(89.111563 243.037656)scale(0.1 -0.1)\">\n       <use xlink:href=\"#DejaVuSans-48\"/>\n       <use x=\"63.623047\" xlink:href=\"#DejaVuSans-46\"/>\n       <use x=\"95.410156\" xlink:href=\"#DejaVuSans-50\"/>\n      </g>\n     </g>\n    </g>\n    <g id=\"xtick_3\">\n     <g id=\"line2d_3\">\n      <g>\n       <use style=\"stroke:#000000;stroke-width:0.8;\" x=\"164.023125\" xlink:href=\"#me2260ff272\" y=\"228.439219\"/>\n      </g>\n     </g>\n     <g id=\"text_3\">\n      <!-- 0.4 -->\n      <defs>\n       <path d=\"M 37.796875 64.3125 \nL 12.890625 25.390625 \nL 37.796875 25.390625 \nz\nM 35.203125 72.90625 \nL 47.609375 72.90625 \nL 47.609375 25.390625 \nL 58.015625 25.390625 \nL 58.015625 17.1875 \nL 47.609375 17.1875 \nL 47.609375 0 \nL 37.796875 0 \nL 37.796875 17.1875 \nL 4.890625 17.1875 \nL 4.890625 26.703125 \nz\n\" id=\"DejaVuSans-52\"/>\n      </defs>\n      <g transform=\"translate(156.071563 243.037656)scale(0.1 -0.1)\">\n       <use xlink:href=\"#DejaVuSans-48\"/>\n       <use x=\"63.623047\" xlink:href=\"#DejaVuSans-46\"/>\n       <use x=\"95.410156\" xlink:href=\"#DejaVuSans-52\"/>\n      </g>\n     </g>\n    </g>\n    <g id=\"xtick_4\">\n     <g id=\"line2d_4\">\n      <g>\n       <use style=\"stroke:#000000;stroke-width:0.8;\" x=\"230.983125\" xlink:href=\"#me2260ff272\" y=\"228.439219\"/>\n      </g>\n     </g>\n     <g id=\"text_4\">\n      <!-- 0.6 -->\n      <defs>\n       <path d=\"M 33.015625 40.375 \nQ 26.375 40.375 22.484375 35.828125 \nQ 18.609375 31.296875 18.609375 23.390625 \nQ 18.609375 15.53125 22.484375 10.953125 \nQ 26.375 6.390625 33.015625 6.390625 \nQ 39.65625 6.390625 43.53125 10.953125 \nQ 47.40625 15.53125 47.40625 23.390625 \nQ 47.40625 31.296875 43.53125 35.828125 \nQ 39.65625 40.375 33.015625 40.375 \nz\nM 52.59375 71.296875 \nL 52.59375 62.3125 \nQ 48.875 64.0625 45.09375 64.984375 \nQ 41.3125 65.921875 37.59375 65.921875 \nQ 27.828125 65.921875 22.671875 59.328125 \nQ 17.53125 52.734375 16.796875 39.40625 \nQ 19.671875 43.65625 24.015625 45.921875 \nQ 28.375 48.1875 33.59375 48.1875 \nQ 44.578125 48.1875 50.953125 41.515625 \nQ 57.328125 34.859375 57.328125 23.390625 \nQ 57.328125 12.15625 50.6875 5.359375 \nQ 44.046875 -1.421875 33.015625 -1.421875 \nQ 20.359375 -1.421875 13.671875 8.265625 \nQ 6.984375 17.96875 6.984375 36.375 \nQ 6.984375 53.65625 15.1875 63.9375 \nQ 23.390625 74.21875 37.203125 74.21875 \nQ 40.921875 74.21875 44.703125 73.484375 \nQ 48.484375 72.75 52.59375 71.296875 \nz\n\" id=\"DejaVuSans-54\"/>\n      </defs>\n      <g transform=\"translate(223.031563 243.037656)scale(0.1 -0.1)\">\n       <use xlink:href=\"#DejaVuSans-48\"/>\n       <use x=\"63.623047\" xlink:href=\"#DejaVuSans-46\"/>\n       <use x=\"95.410156\" xlink:href=\"#DejaVuSans-54\"/>\n      </g>\n     </g>\n    </g>\n    <g id=\"xtick_5\">\n     <g id=\"line2d_5\">\n      <g>\n       <use style=\"stroke:#000000;stroke-width:0.8;\" x=\"297.943125\" xlink:href=\"#me2260ff272\" y=\"228.439219\"/>\n      </g>\n     </g>\n     <g id=\"text_5\">\n      <!-- 0.8 -->\n      <defs>\n       <path d=\"M 31.78125 34.625 \nQ 24.75 34.625 20.71875 30.859375 \nQ 16.703125 27.09375 16.703125 20.515625 \nQ 16.703125 13.921875 20.71875 10.15625 \nQ 24.75 6.390625 31.78125 6.390625 \nQ 38.8125 6.390625 42.859375 10.171875 \nQ 46.921875 13.96875 46.921875 20.515625 \nQ 46.921875 27.09375 42.890625 30.859375 \nQ 38.875 34.625 31.78125 34.625 \nz\nM 21.921875 38.8125 \nQ 15.578125 40.375 12.03125 44.71875 \nQ 8.5 49.078125 8.5 55.328125 \nQ 8.5 64.0625 14.71875 69.140625 \nQ 20.953125 74.21875 31.78125 74.21875 \nQ 42.671875 74.21875 48.875 69.140625 \nQ 55.078125 64.0625 55.078125 55.328125 \nQ 55.078125 49.078125 51.53125 44.71875 \nQ 48 40.375 41.703125 38.8125 \nQ 48.828125 37.15625 52.796875 32.3125 \nQ 56.78125 27.484375 56.78125 20.515625 \nQ 56.78125 9.90625 50.3125 4.234375 \nQ 43.84375 -1.421875 31.78125 -1.421875 \nQ 19.734375 -1.421875 13.25 4.234375 \nQ 6.78125 9.90625 6.78125 20.515625 \nQ 6.78125 27.484375 10.78125 32.3125 \nQ 14.796875 37.15625 21.921875 38.8125 \nz\nM 18.3125 54.390625 \nQ 18.3125 48.734375 21.84375 45.5625 \nQ 25.390625 42.390625 31.78125 42.390625 \nQ 38.140625 42.390625 41.71875 45.5625 \nQ 45.3125 48.734375 45.3125 54.390625 \nQ 45.3125 60.0625 41.71875 63.234375 \nQ 38.140625 66.40625 31.78125 66.40625 \nQ 25.390625 66.40625 21.84375 63.234375 \nQ 18.3125 60.0625 18.3125 54.390625 \nz\n\" id=\"DejaVuSans-56\"/>\n      </defs>\n      <g transform=\"translate(289.991563 243.037656)scale(0.1 -0.1)\">\n       <use xlink:href=\"#DejaVuSans-48\"/>\n       <use x=\"63.623047\" xlink:href=\"#DejaVuSans-46\"/>\n       <use x=\"95.410156\" xlink:href=\"#DejaVuSans-56\"/>\n      </g>\n     </g>\n    </g>\n    <g id=\"xtick_6\">\n     <g id=\"line2d_6\">\n      <g>\n       <use style=\"stroke:#000000;stroke-width:0.8;\" x=\"364.903125\" xlink:href=\"#me2260ff272\" y=\"228.439219\"/>\n      </g>\n     </g>\n     <g id=\"text_6\">\n      <!-- 1.0 -->\n      <defs>\n       <path d=\"M 12.40625 8.296875 \nL 28.515625 8.296875 \nL 28.515625 63.921875 \nL 10.984375 60.40625 \nL 10.984375 69.390625 \nL 28.421875 72.90625 \nL 38.28125 72.90625 \nL 38.28125 8.296875 \nL 54.390625 8.296875 \nL 54.390625 0 \nL 12.40625 0 \nz\n\" id=\"DejaVuSans-49\"/>\n      </defs>\n      <g transform=\"translate(356.951563 243.037656)scale(0.1 -0.1)\">\n       <use xlink:href=\"#DejaVuSans-49\"/>\n       <use x=\"63.623047\" xlink:href=\"#DejaVuSans-46\"/>\n       <use x=\"95.410156\" xlink:href=\"#DejaVuSans-48\"/>\n      </g>\n     </g>\n    </g>\n   </g>\n   <g id=\"matplotlib.axis_2\">\n    <g id=\"ytick_1\">\n     <g id=\"line2d_7\">\n      <defs>\n       <path d=\"M 0 0 \nL -3.5 0 \n\" id=\"md122b7572a\" style=\"stroke:#000000;stroke-width:0.8;\"/>\n      </defs>\n      <g>\n       <use style=\"stroke:#000000;stroke-width:0.8;\" x=\"30.103125\" xlink:href=\"#md122b7572a\" y=\"228.439219\"/>\n      </g>\n     </g>\n     <g id=\"text_7\">\n      <!-- 0.0 -->\n      <g transform=\"translate(7.2 232.238437)scale(0.1 -0.1)\">\n       <use xlink:href=\"#DejaVuSans-48\"/>\n       <use x=\"63.623047\" xlink:href=\"#DejaVuSans-46\"/>\n       <use x=\"95.410156\" xlink:href=\"#DejaVuSans-48\"/>\n      </g>\n     </g>\n    </g>\n    <g id=\"ytick_2\">\n     <g id=\"line2d_8\">\n      <g>\n       <use style=\"stroke:#000000;stroke-width:0.8;\" x=\"30.103125\" xlink:href=\"#md122b7572a\" y=\"184.951219\"/>\n      </g>\n     </g>\n     <g id=\"text_8\">\n      <!-- 0.2 -->\n      <g transform=\"translate(7.2 188.750437)scale(0.1 -0.1)\">\n       <use xlink:href=\"#DejaVuSans-48\"/>\n       <use x=\"63.623047\" xlink:href=\"#DejaVuSans-46\"/>\n       <use x=\"95.410156\" xlink:href=\"#DejaVuSans-50\"/>\n      </g>\n     </g>\n    </g>\n    <g id=\"ytick_3\">\n     <g id=\"line2d_9\">\n      <g>\n       <use style=\"stroke:#000000;stroke-width:0.8;\" x=\"30.103125\" xlink:href=\"#md122b7572a\" y=\"141.463219\"/>\n      </g>\n     </g>\n     <g id=\"text_9\">\n      <!-- 0.4 -->\n      <g transform=\"translate(7.2 145.262437)scale(0.1 -0.1)\">\n       <use xlink:href=\"#DejaVuSans-48\"/>\n       <use x=\"63.623047\" xlink:href=\"#DejaVuSans-46\"/>\n       <use x=\"95.410156\" xlink:href=\"#DejaVuSans-52\"/>\n      </g>\n     </g>\n    </g>\n    <g id=\"ytick_4\">\n     <g id=\"line2d_10\">\n      <g>\n       <use style=\"stroke:#000000;stroke-width:0.8;\" x=\"30.103125\" xlink:href=\"#md122b7572a\" y=\"97.975219\"/>\n      </g>\n     </g>\n     <g id=\"text_10\">\n      <!-- 0.6 -->\n      <g transform=\"translate(7.2 101.774437)scale(0.1 -0.1)\">\n       <use xlink:href=\"#DejaVuSans-48\"/>\n       <use x=\"63.623047\" xlink:href=\"#DejaVuSans-46\"/>\n       <use x=\"95.410156\" xlink:href=\"#DejaVuSans-54\"/>\n      </g>\n     </g>\n    </g>\n    <g id=\"ytick_5\">\n     <g id=\"line2d_11\">\n      <g>\n       <use style=\"stroke:#000000;stroke-width:0.8;\" x=\"30.103125\" xlink:href=\"#md122b7572a\" y=\"54.487219\"/>\n      </g>\n     </g>\n     <g id=\"text_11\">\n      <!-- 0.8 -->\n      <g transform=\"translate(7.2 58.286437)scale(0.1 -0.1)\">\n       <use xlink:href=\"#DejaVuSans-48\"/>\n       <use x=\"63.623047\" xlink:href=\"#DejaVuSans-46\"/>\n       <use x=\"95.410156\" xlink:href=\"#DejaVuSans-56\"/>\n      </g>\n     </g>\n    </g>\n    <g id=\"ytick_6\">\n     <g id=\"line2d_12\">\n      <g>\n       <use style=\"stroke:#000000;stroke-width:0.8;\" x=\"30.103125\" xlink:href=\"#md122b7572a\" y=\"10.999219\"/>\n      </g>\n     </g>\n     <g id=\"text_12\">\n      <!-- 1.0 -->\n      <g transform=\"translate(7.2 14.798437)scale(0.1 -0.1)\">\n       <use xlink:href=\"#DejaVuSans-49\"/>\n       <use x=\"63.623047\" xlink:href=\"#DejaVuSans-46\"/>\n       <use x=\"95.410156\" xlink:href=\"#DejaVuSans-48\"/>\n      </g>\n     </g>\n    </g>\n   </g>\n   <g id=\"patch_3\">\n    <path d=\"M 30.103125 228.439219 \nL 30.103125 10.999219 \n\" style=\"fill:none;stroke:#000000;stroke-linecap:square;stroke-linejoin:miter;stroke-width:0.8;\"/>\n   </g>\n   <g id=\"patch_4\">\n    <path d=\"M 364.903125 228.439219 \nL 364.903125 10.999219 \n\" style=\"fill:none;stroke:#000000;stroke-linecap:square;stroke-linejoin:miter;stroke-width:0.8;\"/>\n   </g>\n   <g id=\"patch_5\">\n    <path d=\"M 30.103125 228.439219 \nL 364.903125 228.439219 \n\" style=\"fill:none;stroke:#000000;stroke-linecap:square;stroke-linejoin:miter;stroke-width:0.8;\"/>\n   </g>\n   <g id=\"patch_6\">\n    <path d=\"M 30.103125 10.999219 \nL 364.903125 10.999219 \n\" style=\"fill:none;stroke:#000000;stroke-linecap:square;stroke-linejoin:miter;stroke-width:0.8;\"/>\n   </g>\n  </g>\n </g>\n <defs>\n  <clipPath id=\"p4ad4c5addf\">\n   <rect height=\"217.44\" width=\"334.8\" x=\"30.103125\" y=\"10.999219\"/>\n  </clipPath>\n </defs>\n</svg>\n",
      "image/png": "[encoded data removed]"
     },
     "metadata": {
      "needs_background": "light"
     }
    }
   ],
   "metadata": {}
  },
  {
   "cell_type": "code",
   "execution_count": 14,
   "source": [
    "# Heaviside commuting\r\n",
    "\r\n",
    "res = optimize([.4,1/14], 'heaviside')\r\n",
    "print(\"Current function value: \", f(res, 'heaviside'))\r\n",
    "print (\"optimale Parameter: \", res)\r\n",
    "# prints value of Bewertungsfunktion and used parameters"
   ],
   "outputs": [
    {
     "output_type": "stream",
     "name": "stdout",
     "text": [
      "Current function value:  6696604189.582962\n",
      "optimale Parameter:  [5.931700000003334e-05, 2.982742857130696e-05]\n"
     ]
    }
   ],
   "metadata": {}
  },
  {
   "cell_type": "code",
   "execution_count": null,
   "source": [
    " "
   ],
   "outputs": [],
   "metadata": {}
  },
  {
   "cell_type": "markdown",
   "source": [
    "## Plots"
   ],
   "metadata": {}
  },
  {
   "cell_type": "code",
   "execution_count": 15,
   "source": [
    "resolution = 10\r\n",
    "\r\n",
    "alpha = np.linspace(0,1,resolution)\r\n",
    "beta = np.linspace(0,1,resolution)\r\n",
    "Z_const = np.zeros((resolution, resolution))\r\n",
    "Z_heavi = np.zeros((resolution, resolution))\r\n",
    "for i in range(len(alpha)):\r\n",
    "    for j in range(len(beta)):\r\n",
    "        Z_const[i][j] = f([alpha[i],beta[j]], method='const')\r\n",
    "        Z_heavi[i][j] = f([alpha[i],beta[j]], method='heaviside')\r\n",
    "        "
   ],
   "outputs": [],
   "metadata": {}
  },
  {
   "cell_type": "code",
   "execution_count": 18,
   "source": [
    "Zdiff_const = Z_const - np.mean(Z_const)\r\n",
    "Zdiff_heavi = Z_heavi - np.mean(Z_heavi)\r\n",
    "\r\n",
    "# norm = cm.colors.Normalize(vmax=max(Zdiff_const.max(), Zdiff_heavi.max()), vmin=min(Zdiff_const.min(), Zdiff_heavi.min()))\r\n",
    "norm_const = cm.colors.Normalize(vmax=Zdiff_const.max(), vmin=Zdiff_const.min())\r\n",
    "norm_heavi = cm.colors.Normalize(vmax=Zdiff_heavi.max(), vmin=Zdiff_heavi.min())\r\n",
    "ALPHA, BETA = np.meshgrid(alpha, beta)\r\n",
    "\r\n",
    "# if one colorbar (i.e. corresponding colours) for both plots is wanted:\r\n",
    "'''\r\n",
    "fig = plt.figure()\r\n",
    "\r\n",
    "grid = AxesGrid(fig, 111,\r\n",
    "                nrows_ncols=(1, 2),\r\n",
    "                axes_pad=0.25,\r\n",
    "               cbar_mode='single',\r\n",
    "                cbar_location='right',\r\n",
    "                cbar_pad=0.1\r\n",
    "                )\r\n",
    "\r\n",
    "cset = grid[0].contourf(\r\n",
    "    ALPHA, BETA, Zdiff_const, resolution, norm=norm\r\n",
    "    )\r\n",
    "\r\n",
    "cset = grid[1].contourf(\r\n",
    "    ALPHA, BETA, Zdiff_heavi, resolution, norm=norm\r\n",
    "    )\r\n",
    "\r\n",
    "for ax in grid:\r\n",
    "    ax.set_xlim(0, 1)\r\n",
    "\r\n",
    "cbar = ax.cax.colorbar(cset)\r\n",
    "cbar = grid.cbar_axes[0].colorbar(cset)\r\n",
    "'''\r\n",
    "\r\n",
    "fig, (ax1, ax2) = plt.subplots(1,2)\r\n",
    "fig.subplots_adjust(wspace=0.5)\r\n",
    "\r\n",
    "cset1 = ax1.contourf(\r\n",
    "    ALPHA, BETA, Zdiff_const, resolution, vmax=Zdiff_const.max(), vmin=Zdiff_const.min()\r\n",
    ")\r\n",
    "ax1.set(adjustable='box', aspect='equal')\r\n",
    "ax1_divider = make_axes_locatable(ax1)\r\n",
    "cax1 = ax1_divider.append_axes(\"right\", size=\"7%\", pad=\"5%\")\r\n",
    "cbar1 = fig.colorbar(cset1, cax=cax1)\r\n",
    "\r\n",
    "cset2 = ax2.contourf(\r\n",
    "    ALPHA, BETA, Zdiff_heavi, resolution, vmax=Zdiff_heavi.max(), vmin=Zdiff_heavi.min()\r\n",
    ")\r\n",
    "ax2.set(adjustable='box', aspect='equal')\r\n",
    "ax2_divider = make_axes_locatable(ax2)\r\n",
    "cax2 = ax2_divider.append_axes(\"right\", size=\"7%\", pad=\"5%\")\r\n",
    "cbar2 = fig.colorbar(cset2, cax=cax2)\r\n",
    "\r\n",
    "#ax.set_yscale('log')\r\n",
    "#ax.set_xscale('log')\r\n",
    "#ax.set_ylim(0, 1)\r\n",
    "#ax.set_xticks([])\r\n",
    "#ax.set_yticks([])\r\n",
    "\r\n",
    "Zdiff_const"
   ],
   "outputs": [
    {
     "output_type": "execute_result",
     "data": {
      "text/plain": [
       "array([[0., 0., 0., 0., 0., 0., 0., 0., 0., 0.],\n",
       "       [0., 0., 0., 0., 0., 0., 0., 0., 0., 0.],\n",
       "       [0., 0., 0., 0., 0., 0., 0., 0., 0., 0.],\n",
       "       [0., 0., 0., 0., 0., 0., 0., 0., 0., 0.],\n",
       "       [0., 0., 0., 0., 0., 0., 0., 0., 0., 0.],\n",
       "       [0., 0., 0., 0., 0., 0., 0., 0., 0., 0.],\n",
       "       [0., 0., 0., 0., 0., 0., 0., 0., 0., 0.],\n",
       "       [0., 0., 0., 0., 0., 0., 0., 0., 0., 0.],\n",
       "       [0., 0., 0., 0., 0., 0., 0., 0., 0., 0.],\n",
       "       [0., 0., 0., 0., 0., 0., 0., 0., 0., 0.]])"
      ]
     },
     "metadata": {},
     "execution_count": 18
    },
    {
     "output_type": "display_data",
     "data": {
      "image/png": "[encoded data removed]",
      "text/plain": [
       "<Figure size 432x288 with 4 Axes>"
      ]
     },
     "metadata": {
      "needs_background": "light"
     }
    }
   ],
   "metadata": {}
  },
  {
   "cell_type": "code",
   "execution_count": 19,
   "source": [
    "fig, (ax1, ax2) = plt.subplots(1,2, subplot_kw={\"projection\": \"3d\"})\r\n",
    "fig.subplots_adjust(wspace=0.5)\r\n",
    "surf1 = ax1.plot_surface(ALPHA, BETA, Zdiff_const, cmap=cm.coolwarm,\r\n",
    "                       linewidth=0, antialiased=False)\r\n",
    "surf2 = ax2.plot_surface(ALPHA, BETA, Zdiff_heavi, cmap=cm.coolwarm,\r\n",
    "                       linewidth=0, antialiased=False)\r\n"
   ],
   "outputs": [
    {
     "output_type": "display_data",
     "data": {
      "image/png": "[encoded data removed]",
      "text/plain": [
       "<Figure size 432x288 with 2 Axes>"
      ]
     },
     "metadata": {
      "needs_background": "light"
     }
    }
   ],
   "metadata": {}
  },
  {
   "cell_type": "code",
   "execution_count": null,
   "source": [],
   "outputs": [
    {
     "output_type": "error",
     "ename": "ValueError",
     "evalue": "The truth value of an array with more than one element is ambiguous. Use a.any() or a.all()",
     "traceback": [
      "\u001b[0;31m---------------------------------------------------------------------------\u001b[0m",
      "\u001b[0;31mValueError\u001b[0m                                Traceback (most recent call last)",
      "\u001b[0;32m/tmp/ipykernel_56112/3179707490.py\u001b[0m in \u001b[0;36m<module>\u001b[0;34m\u001b[0m\n\u001b[0;32m----> 1\u001b[0;31m \u001b[0mf\u001b[0m\u001b[0;34m(\u001b[0m\u001b[0;34m[\u001b[0m\u001b[0mALPHA\u001b[0m\u001b[0;34m,\u001b[0m\u001b[0mBETA\u001b[0m\u001b[0;34m]\u001b[0m\u001b[0;34m)\u001b[0m\u001b[0;34m\u001b[0m\u001b[0;34m\u001b[0m\u001b[0m\n\u001b[0m",
      "\u001b[0;32m/tmp/ipykernel_56112/2558196811.py\u001b[0m in \u001b[0;36mf\u001b[0;34m(params)\u001b[0m\n\u001b[1;32m     81\u001b[0m \u001b[0;34m\u001b[0m\u001b[0m\n\u001b[1;32m     82\u001b[0m \u001b[0;32mdef\u001b[0m \u001b[0mf\u001b[0m\u001b[0;34m(\u001b[0m\u001b[0mparams\u001b[0m\u001b[0;34m)\u001b[0m\u001b[0;34m:\u001b[0m\u001b[0;34m\u001b[0m\u001b[0;34m\u001b[0m\u001b[0m\n\u001b[0;32m---> 83\u001b[0;31m     \u001b[0;32mif\u001b[0m \u001b[0;34m(\u001b[0m\u001b[0mparams\u001b[0m\u001b[0;34m[\u001b[0m\u001b[0;36m0\u001b[0m\u001b[0;34m]\u001b[0m\u001b[0;34m<\u001b[0m\u001b[0;36m0\u001b[0m\u001b[0;34m)\u001b[0m\u001b[0;34m:\u001b[0m\u001b[0;34m\u001b[0m\u001b[0;34m\u001b[0m\u001b[0m\n\u001b[0m\u001b[1;32m     84\u001b[0m         \u001b[0;32mreturn\u001b[0m \u001b[0mnp\u001b[0m\u001b[0;34m.\u001b[0m\u001b[0minf\u001b[0m\u001b[0;34m\u001b[0m\u001b[0;34m\u001b[0m\u001b[0m\n\u001b[1;32m     85\u001b[0m     \u001b[0;32mif\u001b[0m \u001b[0;34m(\u001b[0m\u001b[0mparams\u001b[0m\u001b[0;34m[\u001b[0m\u001b[0;36m1\u001b[0m\u001b[0;34m]\u001b[0m\u001b[0;34m<\u001b[0m\u001b[0;36m0\u001b[0m\u001b[0;34m)\u001b[0m\u001b[0;34m:\u001b[0m\u001b[0;34m\u001b[0m\u001b[0;34m\u001b[0m\u001b[0m\n",
      "\u001b[0;31mValueError\u001b[0m: The truth value of an array with more than one element is ambiguous. Use a.any() or a.all()"
     ]
    }
   ],
   "metadata": {}
  },
  {
   "cell_type": "code",
   "execution_count": null,
   "source": [],
   "outputs": [],
   "metadata": {}
  },
  {
   "cell_type": "code",
   "execution_count": null,
   "source": [],
   "outputs": [],
   "metadata": {}
  }
 ],
 "metadata": {
  "kernelspec": {
   "name": "python3",
   "display_name": "Python 3.9.4 64-bit (system)"
  },
  "language_info": {
   "codemirror_mode": {
    "name": "ipython",
    "version": 3
   },
   "file_extension": ".py",
   "mimetype": "text/x-python",
   "name": "python",
   "nbconvert_exporter": "python",
   "pygments_lexer": "ipython3",
   "version": "3.9.4"
  },
  "interpreter": {
   "hash": "a39a618824f841ce9db808b73e5cec0b6892bc827dc44fe8599b5ba6bd69a4a7"
  }
 },
 "nbformat": 4,
 "nbformat_minor": 5
}