{
 "cells": [
  {
   "cell_type": "code",
   "execution_count": 7,
   "source": [
    "import matplotlib.pyplot as plt\r\n",
    "from mpl_toolkits.axes_grid1 import AxesGrid\r\n",
    "from mpl_toolkits.axes_grid1.axes_divider import make_axes_locatable\r\n",
    "import numpy as np\r\n",
    "import scipy.integrate as sci\r\n",
    "import time \r\n",
    "import threading\r\n",
    "import sys\r\n",
    "import multiprocessing as multiproc\r\n",
    "import datetime\r\n",
    "# the function library\r\n",
    "from projectlib import *\r\n",
    "from scipy.optimize import fmin as simplex"
   ],
   "outputs": [],
   "metadata": {}
  },
  {
   "cell_type": "markdown",
   "source": [
    "## Parameters"
   ],
   "metadata": {}
  },
  {
   "cell_type": "code",
   "execution_count": 8,
   "source": [
    "class Data:\r\n",
    "    def __init__(self, alpha, beta, dimension, name, commuters_day, N):\r\n",
    "        \"Dimension gives the dimension of the system, i.e. number of cells\"\r\n",
    "        # ------- TO DO ---------\r\n",
    "        # Depending on the system this has to be adjusted\r\n",
    "        self.dimension = dimension\r\n",
    "        \r\n",
    "        \"Alpha describes the rate of infection\"\r\n",
    "        self.alpha = alpha # Dimensions day^(-1)\r\n",
    "\r\n",
    "        \"Beta describes the recovery rate\"\r\n",
    "        self.beta = beta # Dimensions day^(-1)\r\n",
    "\r\n",
    "        \"p is the probability to die from the disease\"\r\n",
    "        self.p = 2.64e-2\r\n",
    "        \r\n",
    "        \"\"\"\r\n",
    "        Commuters is an array describing the commuters from and to the different cells. \r\n",
    "        The structure is: The entries in column i are how many commute from i to the cell of the row.\r\n",
    "                          Thus, the entries of the row i describe how many commute from different cells to cell i.\r\n",
    "        \"\"\"\r\n",
    "\r\n",
    "        self.commuters = np.array([np.ones(self.dimension) for i in range(self.dimension)])\r\n",
    "        \"load the txt with given name\"\r\n",
    "        file = np.loadtxt(name, delimiter=\"\\t\")\r\n",
    "        \"fill commuters with the entries from the file. Note the break statement so it doesn't go to far\"\r\n",
    "        i = 0\r\n",
    "        for row in file:\r\n",
    "            if i >= self.dimension:\r\n",
    "                break\r\n",
    "            self.commuters[i] = np.asarray(row[0:self.dimension])\r\n",
    "            i += 1\r\n",
    "        \r\n",
    "        \"Part of day that commuters are in other cells. This is the same value for all cells\"\r\n",
    "        self.commuters_day = commuters_day\r\n",
    "\r\n",
    "        \"Array of population in every cell\"\r\n",
    "        # ------- TO DO ---------\r\n",
    "        # figure out how to best do this\r\n",
    "        self.N = N\r\n",
    "\r\n",
    "        \r\n",
    "        \r\n",
    "    def commutersFrom(self, cfrom):\r\n",
    "        \"\"\"Function to extract the commuters from a cell\r\n",
    "\r\n",
    "        Args:\r\n",
    "            cfrom (integer): the cell \r\n",
    "\r\n",
    "         Returns:\r\n",
    "            array: array containing commuters from cfrom\r\n",
    "        \"\"\"\r\n",
    "        # ------- TO DO ---------\r\n",
    "        # optimize the algorithm\r\n",
    "        \"Sorting out the necessary entries into array a.\"\r\n",
    "        a = np.zeros(self.dimension)\r\n",
    "        for i in range(self.dimension):\r\n",
    "            a[i] = self.commuters[i][cfrom]\r\n",
    "            \r\n",
    "        return a \r\n",
    "    \r\n",
    "    def commutersTo(self, cto):\r\n",
    "        \"\"\"Function to return an array with number of commuters coming to cto from other cells.\r\n",
    "\r\n",
    "        Args:\r\n",
    "            cto (integer): the cell to which the commuters travel\r\n",
    "\r\n",
    "        Returns:\r\n",
    "            array: array containing the commuters to cto.\r\n",
    "        \"\"\"\r\n",
    "        return self.commuters[cto][:]\r\n",
    "       \r\n",
    "        \r\n",
    "        "
   ],
   "outputs": [],
   "metadata": {}
  },
  {
   "cell_type": "markdown",
   "source": [
    "## Functions"
   ],
   "metadata": {}
  },
  {
   "cell_type": "code",
   "execution_count": 9,
   "source": [
    "\r\n",
    "def function_of_system(timestep, functions,  data, method, t0):\r\n",
    "    \"\"\"Function to calculate the time derivatives of the dynamic SIRD modell with commuters. This function uses multiple approachs for different variant of the system based on prior assumptions. \r\n",
    "\r\n",
    "        Args:\r\n",
    "            functions (array): array with the functions that define the system of equations. Structure [S_1, ... , S_n, I_1, .... , I_n, R_1, ... , R_n, D_1, ... , D_n]\r\n",
    "            timestep (float): time of timestep. t=1 is 1 day\r\n",
    "            data (class): the class with the relevant data\r\n",
    "            method (string): dictates what method is to be used. The choices are \"constant\", \"heaviside\"\r\n",
    "            t0 (array): array with len = 3 filled with times at which the heaviside functions in the \"heaviside\" method switch. \r\n",
    "                Note: all values of t0 have to be between 0 and 1.\r\n",
    "\r\n",
    "        Returns:\r\n",
    "            array: array containing the derivatives of functions at time t.\r\n",
    "    \"\"\"\r\n",
    "    # array with infected\r\n",
    "    Infected = functions[data.dimension:2*data.dimension]\r\n",
    "\r\n",
    "    # making array with the effective infected Ieff\r\n",
    "    Ieff = np.array([effective_infected(data.commutersTo, data.commutersFrom, data.N, i, Infected, data.dimension) for i in range(data.dimension)])\r\n",
    "\r\n",
    "    # initializing the return array with the time derivatives of functions\r\n",
    "    dfuncdt = np.ones(data.dimension*4)\r\n",
    "\r\n",
    "    \"~~~~~~~~~~~~~~~~~ See the PDF / LaTeX for further explanation of the equations ~~~~~~~~~~~~~~~~~~~~~~~~\"\r\n",
    "\r\n",
    "    # ------------------------------------\r\n",
    "    # -      Constant Coefficients       -\r\n",
    "    # ------------------------------------\r\n",
    "\r\n",
    "    tt = 0.6\r\n",
    "\r\n",
    "    if method == \"constant\":\r\n",
    "            \r\n",
    "        # the for loop to fill dfuncdt\r\n",
    "\r\n",
    "        for i in range(data.dimension):\r\n",
    "            # see LaTeX for equations\r\n",
    "            # dS/dt\r\n",
    "            dfuncdt[i] =  - tt * data.alpha *  functions[i] * functions[i + data.dimension] - (1 - tt) * data.alpha * functions[i] * Ieff[i]\r\n",
    "\r\n",
    "            # dI/dt \\propto -dSdt\r\n",
    "            dfuncdt[i + data.dimension] = - dfuncdt[i] - data.beta * functions[i + data.dimension]\r\n",
    "\r\n",
    "            # dR/dt\r\n",
    "            dfuncdt[i + 2 * data.dimension] = (1 - data.p) * data.beta * functions[i + data.dimension]\r\n",
    "\r\n",
    "            # dD/dt\r\n",
    "            dfuncdt[i + 3 * data.dimension] = data.p * data.beta * functions[i + data.dimension]\r\n",
    "\r\n",
    "\r\n",
    "    # ------------------------------------\r\n",
    "    # -      Heaviside Coefficients      -\r\n",
    "    # ------------------------------------\r\n",
    "\r\n",
    "\r\n",
    "    elif method == \"heaviside\":\r\n",
    "\r\n",
    "\r\n",
    "        # the for loop to fill dfuncdt\r\n",
    "        for i in range(data.dimension):\r\n",
    "            # see LaTeX for equations\r\n",
    "            # dS/dt\r\n",
    "            dfuncdt[i] = - data.alpha * (periodic_heaviside(timestep, t0[0]) + periodic_heaviside(timestep, t0[2]) - 1) * functions[i] * functions[i + data.dimension] - (periodic_heaviside(timestep, t0[1]) - periodic_heaviside(timestep, t0[2])) * data.alpha * functions[i] * Ieff[i]\r\n",
    "\r\n",
    "            # dI/dt \\propto -dSdt\r\n",
    "            dfuncdt[i + data.dimension] = - dfuncdt[i] - data.beta * functions[i + data.dimension]\r\n",
    "\r\n",
    "            # dR/dt\r\n",
    "            dfuncdt[i + 2 * data.dimension] = (1 - data.p) * data.beta * functions[i + data.dimension]\r\n",
    "\r\n",
    "            # dD/dt\r\n",
    "            dfuncdt[i + 3 * data.dimension] = data.p * data.beta * functions[i + data.dimension]\r\n",
    "\r\n",
    "    \r\n",
    "    \r\n",
    "    \r\n",
    "    \r\n",
    "    \r\n",
    "    \r\n",
    "    \r\n",
    "    # returning the derivatives at time t\r\n",
    "    return dfuncdt\r\n",
    "\r\n",
    "\r\n",
    "\r\n",
    "# Function for using scipy.integrate.odeint, as the arguments are switched\r\n",
    "def system_function(functions, timestep, data, method, t0):\r\n",
    "    return function_of_system(timestep, functions, data, method, t0)\r\n",
    "\r\n",
    "\r\n"
   ],
   "outputs": [],
   "metadata": {}
  },
  {
   "cell_type": "code",
   "execution_count": 10,
   "source": [
    "p = 0.0264\r\n",
    "commuters_day = 10/24\r\n",
    "\r\n",
    " \r\n",
    "dimension = 12\r\n",
    " \r\n",
    "a = initial_compartment_distribution(12, \"2020/07/24\")\r\n",
    "initCond = np.zeros(12*4)\r\n",
    "for i in range(12):\r\n",
    "        initCond[i] = a[i][0]\r\n",
    "        initCond[i + 12] = a[i][1]\r\n",
    "        initCond[i + 24] = a[i][2]\r\n",
    "        initCond[i + 36] = a[i][3]\r\n",
    "    \r\n",
    "M = region_setup(12)[0]\r\n",
    "tzero = np.array([0, 0.4, 0.8])\r\n",
    "\r\n",
    "t = np.linspace(0, 100, 10000)\r\n",
    "N = import_rki_data(M, 7)[2]\r\n",
    "\r\n",
    "\r\n",
    "commuters = np.array([np.ones(dimension) for i in range(dimension)])\r\n",
    "\"load the txt with given name\"\r\n",
    "file = np.loadtxt(\"Pendler.txt\", delimiter=\"\\t\")\r\n",
    "\"fill commuters with the entries from the file. Note the break statement so it doesn't go to far\"\r\n",
    "i = 0\r\n",
    "for row in file:\r\n",
    "    if i >= dimension:\r\n",
    "            break\r\n",
    "    commuters[i] = np.asarray(row[0:dimension])\r\n",
    "    i += 1\r\n",
    "\r\n",
    "print(N)"
   ],
   "outputs": [
    {
     "output_type": "stream",
     "name": "stdout",
     "text": [
      "[275817.  70458. 136292. 140251. 132285. 326041. 213310. 236764. 202137.\n",
      " 100629. 100006.  83416.]\n"
     ]
    }
   ],
   "metadata": {}
  },
  {
   "cell_type": "markdown",
   "source": [
    "## Bewertungsfunktion"
   ],
   "metadata": {}
  },
  {
   "cell_type": "code",
   "execution_count": 11,
   "source": [
    "def find_sol_on_days_(solt,soly,number_of_days,number_of_Lks):\r\n",
    "    S=np.empty((number_of_Lks,number_of_days+1), dtype=float, order='C')\r\n",
    "    for k in range(number_of_Lks):\r\n",
    "        i=0\r\n",
    "        goodtime=0\r\n",
    "        for time in range(len(solt)):\r\n",
    "            if abs(solt[time]-i)<1e-2:\r\n",
    "                goodtime=time\r\n",
    "                if time+1 <len(solt):\r\n",
    "                    if abs(solt[time+1]-i)<abs(solt[time]-i):\r\n",
    "                        goodtime=time+1\r\n",
    "                S[k][i]=soly[k][goodtime]\r\n",
    "                i=i+1\r\n",
    "    return S ## returns S[Landkreis][Tag]\r\n",
    "\r\n",
    "def summon_results(params, method):\r\n",
    "    number_of_days=100\r\n",
    "    number_of_Lks=12\r\n",
    "    dimension = number_of_Lks\r\n",
    "    alpha=params[0]\r\n",
    "    beta=params[1]\r\n",
    "    simulation001 = Data(alpha, beta, dimension, \"Pendler.txt\", 0.6, import_rki_data(M, 7)[2])\r\n",
    "    #sol1 = sci.solve_ivp(fun=function_of_system, t_span=(0, 100), y0=initCond, method=\"RK45\", args=(simulation001, \"heaviside\", tzero), t_eval=t)\r\n",
    "    sol = sci.solve_ivp(fun=function_of_system, t_span=(0, 100), y0=initCond, method=\"RK45\", args=(simulation001, method, tzero), t_eval=t, dense_output=True)\r\n",
    "    solt=sol.t\r\n",
    "    soly=sol.y\r\n",
    "    #print(sol.message)\r\n",
    "    ss = find_sol_on_days_(solt,soly,number_of_days,number_of_Lks)\r\n",
    "    return ss\r\n",
    "\r\n",
    "\r\n",
    "def import_RKI_legacy(): # function is redundant and has no use\r\n",
    "    number_of_days=100\r\n",
    "    number_of_Lks=12\r\n",
    "    S=np.empty((number_of_Lks,number_of_days), dtype=float, order='C')\r\n",
    "    for d in range(number_of_days):\r\n",
    "        curr_date= \"2020/07/24\"\r\n",
    "        curr_date_temp = datetime.datetime.strptime(curr_date, \"%Y/%m/%d\")\r\n",
    "        new_date = curr_date_temp + datetime.timedelta(days=d)\r\n",
    "        a = initial_compartment_distribution(number_of_Lks, new_date.strftime(\"%Y/%m/%d\"))\r\n",
    "        for k in range(number_of_Lks):\r\n",
    "            S[k][d] = a[k][0] \r\n",
    "    return S\r\n",
    "\r\n",
    "#find first day of simulation and import RKI_Inzidenzwert\r\n",
    "RKI= np.load(\"Internal Data/rki_region_cases12.npy\") \r\n",
    "begin_of_recording = datetime.datetime.strptime(\"2020/03/01\",\"%Y/%m/%d\")\r\n",
    "begin_of_simulation = datetime.datetime.strptime(\"2020/07/24\", \"%Y/%m/%d\")\r\n",
    "d0=(begin_of_simulation-begin_of_recording).days\r\n",
    "  \r\n",
    "\r\n",
    "def Inzidenzwert(d,k,is_sim, S):\r\n",
    "    # d ist Tag k ist Landkreis\r\n",
    "    # die Funktion berechnet Inzidenzwert der Simulation an Tag d in Landkreis k\r\n",
    "    if is_sim==0:\r\n",
    "        Oomega = RKI[k][2][d0-1+d]\r\n",
    "        #print(\"RKI,\",k,d,\"  :\",Oomega)\r\n",
    "        return Oomega\r\n",
    "    else:\r\n",
    "        if d<7:\r\n",
    "            Omega=-(S[k][d]-S[k][0])#*100000\r\n",
    "        if d==0:\r\n",
    "            Omega=S[k][0]#*100000\r\n",
    "        else:\r\n",
    "            Omega=-(S[k][d]-S[k][d-7])#*100000\r\n",
    "            #print(\"Sim,\",k,d,\"  :\",Omega)\r\n",
    "    return Omega*100000\r\n",
    "\r\n",
    "def IW_DE(d,is_sim, N, S):\r\n",
    "    ergebnis=0\r\n",
    "    N_ges=0\r\n",
    "    for i in range(len(N)):\r\n",
    "        ergebnis = ergebnis + N[i]*Inzidenzwert(d,i,is_sim,S)\r\n",
    "        N_ges=N_ges+N[i]\r\n",
    "    return ergebnis/N_ges\r\n",
    "M_ =  region_setup(12)[0]\r\n",
    "N_ = import_rki_data(M_, 7)[2]\r\n",
    "      \r\n",
    "\r\n",
    "def f(params, method):\r\n",
    "    if (params[0]<0):\r\n",
    "        return np.inf\r\n",
    "    if (params[1]<0):\r\n",
    "        return np.inf\r\n",
    "    number_of_days = 100\r\n",
    "    number_of_Lks = 12\r\n",
    "    S = summon_results(params, method)  \r\n",
    "    sum0 = 0\r\n",
    "    #for d in range(number_of_days):\r\n",
    "    #    for k in range(number_of_Lks):\r\n",
    "    #        sum0 = sum0 + ((Inzidenzwert(d,k,0,S))-Inzidenzwert(d,k,1, S))**2 / Inzidenzwert(d,k,0,S)\r\n",
    "    for d in range(number_of_days):\r\n",
    "        sum0 = sum0 +  ( IW_DE(d,0, N_, S) - IW_DE(d,1, N_, S) )**2 / IW_DE(d,0, N_, S)\r\n",
    "    return sum0#, len(S[1])\r\n",
    "\r\n",
    "\r\n",
    "def Bew(params, method, component, which_one):\r\n",
    "    if which_one == -1:\r\n",
    "        return f(params, method)\r\n",
    "    else:\r\n",
    "        z=params\r\n",
    "        z[which_one] = component\r\n",
    "        return f(z, method)\r\n",
    "\r\n",
    "print(summon_results([.4,1/14], 'constant').shape)\r\n",
    "for _ in range(1):\r\n",
    "    #print(summon_results([.4,1/14])[0][5])\r\n",
    "    #print(Inzidenzwert(1,5,0,summon_results([.4,1/14])))\r\n",
    "    print(f([.4,1/14], 'constant'))\r\n",
    "\r\n",
    "#Inzidenzwert(d,k,is_sim, S)\r\n"
   ],
   "outputs": [
    {
     "output_type": "stream",
     "name": "stdout",
     "text": [
      "(12, 101)\n",
      "48345693558.977806\n"
     ]
    }
   ],
   "metadata": {}
  },
  {
   "cell_type": "markdown",
   "source": [
    "## Optimierer "
   ],
   "metadata": {}
  },
  {
   "cell_type": "code",
   "execution_count": 12,
   "source": [
    "def isbetter(new_eval, current_eval):\r\n",
    "    if new_eval > current_eval:\r\n",
    "        return 1\r\n",
    "    else:\r\n",
    "        return 0\r\n",
    "    \r\n",
    "def imporve(params, method, component,which_one, sign, evals):\r\n",
    "\r\n",
    "    i = 0\r\n",
    "    d = 0\r\n",
    "    last_sucess = 0\r\n",
    "    new_eval = evals\r\n",
    "    value = component\r\n",
    "    o_err=2\r\n",
    "    if (which_one==-1):\r\n",
    "        while i - last_sucess < 15 and o_err < 14:\r\n",
    "            if i - last_sucess >8:\r\n",
    "                o_err = o_err + 1\r\n",
    "                last_sucess = 0\r\n",
    "                i = 0\r\n",
    "                component = value\r\n",
    "            d = i * 10**(-o_err) * sign * np.array(value)\r\n",
    "            component = value + d\r\n",
    "            evals=new_eval\r\n",
    "            new_eval = Bew(params, method, component, which_one)\r\n",
    "            i = i + 1\r\n",
    "        if new_eval < evals:\r\n",
    "            last_sucess=last_sucess + 1\r\n",
    "            value=component\r\n",
    "            #print(new_eval,\" \", params)\r\n",
    "    i = 0\r\n",
    "    d = 0\r\n",
    "    last_sucess = 0\r\n",
    "    while i - last_sucess < 15 and o_err < 14:\r\n",
    "        if i - last_sucess >8:\r\n",
    "            o_err = o_err + 1\r\n",
    "            last_sucess = 0\r\n",
    "            i = 0\r\n",
    "            component = value\r\n",
    "        d = i * 10**(-o_err) * sign\r\n",
    "        component = value + d\r\n",
    "        evals=new_eval\r\n",
    "        new_eval = Bew(params, method, component, which_one)\r\n",
    "        i = i + 1\r\n",
    "        if new_eval < evals:\r\n",
    "            last_sucess=last_sucess + 1\r\n",
    "            value=component\r\n",
    "            #print(new_eval,\" \", params)\r\n",
    "    return value, new_eval\r\n",
    "\r\n",
    "\r\n",
    "def improve_component(params, method, which_one):\r\n",
    "    if which_one ==-1:\r\n",
    "        component = params\r\n",
    "        component_pos, eval1 = imporve(params, method, component,which_one, 1, Bew(params, method, component, which_one))\r\n",
    "        component_neg, eval2 = imporve(params, method, component_pos,which_one, -1, eval1)\r\n",
    "    else:\r\n",
    "        component = params[which_one]\r\n",
    "    component_pos, eval1 = imporve(params, method, component,which_one, 1, Bew(params, method, component, which_one))\r\n",
    "    component_neg, eval2 = imporve(params, method, component_pos,which_one, -1, eval1)\r\n",
    "    if eval1<eval2:\r\n",
    "        return component_pos\r\n",
    "    else:\r\n",
    "        return component_neg\r\n",
    "\r\n",
    "#### Optimierer liefert verbesserte Parameters zurück\r\n",
    "def optimize(parameters, method):\r\n",
    "    improved_paramters=np.array(parameters)\r\n",
    "    for e in range(len(parameters)):\r\n",
    "        improved_paramters[e] = improve_component(parameters, method, e)\r\n",
    "    return improve_component(parameters, method, -1)\r\n",
    "\r\n"
   ],
   "outputs": [],
   "metadata": {}
  },
  {
   "cell_type": "code",
   "execution_count": 10,
   "source": [
    "# test for consistancy of Bewertungsfunktion\r\n",
    "# what is printed should be equal otherwise optimization does not make any sense\r\n",
    "#for _ in range(100):\r\n",
    "#    print(f([.4,1/14], method='constant'))\r\n",
    "#    print(f([.4,1/14], method='heaviside'))"
   ],
   "outputs": [],
   "metadata": {}
  },
  {
   "cell_type": "markdown",
   "source": [
    "## run simplex"
   ],
   "metadata": {}
  },
  {
   "cell_type": "code",
   "execution_count": 28,
   "source": [
    "# Constant commuting\r\n",
    "\r\n",
    "simplex(f,[.4,1/14], args=('constant',), xtol=0.0001, ftol=0.0001, maxiter=None, maxfun=None, full_output=0, disp=1, retall=0, callback=None, initial_simplex=None )\r\n",
    "#should print the set of optimal parameters when done"
   ],
   "outputs": [
    {
     "output_type": "stream",
     "name": "stdout",
     "text": [
      "Optimization terminated successfully.\n",
      "         Current function value: 6696604189.104654\n",
      "         Iterations: 67\n",
      "         Function evaluations: 130\n"
     ]
    },
    {
     "output_type": "execute_result",
     "data": {
      "text/plain": [
       "array([0.02243358, 0.17376511])"
      ]
     },
     "metadata": {},
     "execution_count": 28
    }
   ],
   "metadata": {}
  },
  {
   "cell_type": "code",
   "execution_count": 29,
   "source": [
    "# Heaviside commuting\r\n",
    "\r\n",
    "simplex(f,[.4,1/14], args=('heaviside',), xtol=0.0001, ftol=0.0001, maxiter=None, maxfun=None, full_output=0, disp=1, retall=0, callback=None, initial_simplex=None )\r\n",
    "#should print the set of optimal parameters when done"
   ],
   "outputs": [
    {
     "output_type": "stream",
     "name": "stdout",
     "text": [
      "Warning: Maximum number of function evaluations has been exceeded.\n"
     ]
    },
    {
     "output_type": "execute_result",
     "data": {
      "text/plain": [
       "array([0.36965686, 0.07743744])"
      ]
     },
     "metadata": {},
     "execution_count": 29
    }
   ],
   "metadata": {}
  },
  {
   "cell_type": "markdown",
   "source": [
    "## run in house optimizer"
   ],
   "metadata": {}
  },
  {
   "cell_type": "code",
   "execution_count": 13,
   "source": [
    "# Constant commuting\r\n",
    "\r\n",
    "res = optimize([.4,1/14], 'constant')\r\n",
    "print(\"Current function value: \", f(res, 'constant'))\r\n",
    "print (\"optimale Parameter: \", res)\r\n",
    "# prints value of Bewertungsfunktion and used parameters"
   ],
   "outputs": [
    {
     "output_type": "stream",
     "name": "stdout",
     "text": [
      "Current function value:  6696604189.304944\n",
      "optimale Parameter:  [0.00399975099999999, 0.050374897428571416]\n"
     ]
    }
   ],
   "metadata": {}
  },
  {
   "cell_type": "code",
   "execution_count": 14,
   "source": [
    "# Heaviside commuting\r\n",
    "\r\n",
    "res = optimize([.4,1/14], 'heaviside')\r\n",
    "print(\"Current function value: \", f(res, 'heaviside'))\r\n",
    "print (\"optimale Parameter: \", res)\r\n",
    "# prints value of Bewertungsfunktion and used parameters"
   ],
   "outputs": [
    {
     "output_type": "stream",
     "name": "stdout",
     "text": [
      "Current function value:  6696604189.582962\n",
      "optimale Parameter:  [5.931700000003334e-05, 2.982742857130696e-05]\n"
     ]
    }
   ],
   "metadata": {}
  },
  {
   "cell_type": "code",
   "execution_count": null,
   "source": [
    " "
   ],
   "outputs": [],
   "metadata": {}
  },
  {
   "cell_type": "markdown",
   "source": [
    "## Plots"
   ],
   "metadata": {}
  },
  {
   "cell_type": "code",
   "execution_count": 15,
   "source": [
    "resolution = 10\r\n",
    "\r\n",
    "alpha = np.linspace(0,1,resolution)\r\n",
    "beta = np.linspace(0,1,resolution)\r\n",
    "Z_const = np.zeros((resolution, resolution))\r\n",
    "Z_heavi = np.zeros((resolution, resolution))\r\n",
    "for i in range(len(alpha)):\r\n",
    "    for j in range(len(beta)):\r\n",
    "        Z_const[i][j] = f([alpha[i],beta[j]], method='const')\r\n",
    "        Z_heavi[i][j] = f([alpha[i],beta[j]], method='heaviside')\r\n",
    "        "
   ],
   "outputs": [],
   "metadata": {}
  },
  {
   "cell_type": "code",
   "execution_count": 18,
   "source": [
    "Zdiff_const = Z_const - np.mean(Z_const)\r\n",
    "Zdiff_heavi = Z_heavi - np.mean(Z_heavi)\r\n",
    "\r\n",
    "# norm = cm.colors.Normalize(vmax=max(Zdiff_const.max(), Zdiff_heavi.max()), vmin=min(Zdiff_const.min(), Zdiff_heavi.min()))\r\n",
    "norm_const = cm.colors.Normalize(vmax=Zdiff_const.max(), vmin=Zdiff_const.min())\r\n",
    "norm_heavi = cm.colors.Normalize(vmax=Zdiff_heavi.max(), vmin=Zdiff_heavi.min())\r\n",
    "ALPHA, BETA = np.meshgrid(alpha, beta)\r\n",
    "\r\n",
    "# if one colorbar (i.e. corresponding colours) for both plots is wanted:\r\n",
    "'''\r\n",
    "fig = plt.figure()\r\n",
    "\r\n",
    "grid = AxesGrid(fig, 111,\r\n",
    "                nrows_ncols=(1, 2),\r\n",
    "                axes_pad=0.25,\r\n",
    "               cbar_mode='single',\r\n",
    "                cbar_location='right',\r\n",
    "                cbar_pad=0.1\r\n",
    "                )\r\n",
    "\r\n",
    "cset = grid[0].contourf(\r\n",
    "    ALPHA, BETA, Zdiff_const, resolution, norm=norm\r\n",
    "    )\r\n",
    "\r\n",
    "cset = grid[1].contourf(\r\n",
    "    ALPHA, BETA, Zdiff_heavi, resolution, norm=norm\r\n",
    "    )\r\n",
    "\r\n",
    "for ax in grid:\r\n",
    "    ax.set_xlim(0, 1)\r\n",
    "\r\n",
    "cbar = ax.cax.colorbar(cset)\r\n",
    "cbar = grid.cbar_axes[0].colorbar(cset)\r\n",
    "'''\r\n",
    "\r\n",
    "fig, (ax1, ax2) = plt.subplots(1,2)\r\n",
    "fig.subplots_adjust(wspace=0.5)\r\n",
    "\r\n",
    "cset1 = ax1.contourf(\r\n",
    "    ALPHA, BETA, Zdiff_const, resolution, vmax=Zdiff_const.max(), vmin=Zdiff_const.min()\r\n",
    ")\r\n",
    "ax1.set(adjustable='box', aspect='equal')\r\n",
    "ax1_divider = make_axes_locatable(ax1)\r\n",
    "cax1 = ax1_divider.append_axes(\"right\", size=\"7%\", pad=\"5%\")\r\n",
    "cbar1 = fig.colorbar(cset1, cax=cax1)\r\n",
    "\r\n",
    "cset2 = ax2.contourf(\r\n",
    "    ALPHA, BETA, Zdiff_heavi, resolution, vmax=Zdiff_heavi.max(), vmin=Zdiff_heavi.min()\r\n",
    ")\r\n",
    "ax2.set(adjustable='box', aspect='equal')\r\n",
    "ax2_divider = make_axes_locatable(ax2)\r\n",
    "cax2 = ax2_divider.append_axes(\"right\", size=\"7%\", pad=\"5%\")\r\n",
    "cbar2 = fig.colorbar(cset2, cax=cax2)\r\n",
    "\r\n",
    "#ax.set_yscale('log')\r\n",
    "#ax.set_xscale('log')\r\n",
    "#ax.set_ylim(0, 1)\r\n",
    "#ax.set_xticks([])\r\n",
    "#ax.set_yticks([])\r\n",
    "\r\n",
    "Zdiff_const"
   ],
   "outputs": [
    {
     "output_type": "execute_result",
     "data": {
      "text/plain": [
       "array([[0., 0., 0., 0., 0., 0., 0., 0., 0., 0.],\n",
       "       [0., 0., 0., 0., 0., 0., 0., 0., 0., 0.],\n",
       "       [0., 0., 0., 0., 0., 0., 0., 0., 0., 0.],\n",
       "       [0., 0., 0., 0., 0., 0., 0., 0., 0., 0.],\n",
       "       [0., 0., 0., 0., 0., 0., 0., 0., 0., 0.],\n",
       "       [0., 0., 0., 0., 0., 0., 0., 0., 0., 0.],\n",
       "       [0., 0., 0., 0., 0., 0., 0., 0., 0., 0.],\n",
       "       [0., 0., 0., 0., 0., 0., 0., 0., 0., 0.],\n",
       "       [0., 0., 0., 0., 0., 0., 0., 0., 0., 0.],\n",
       "       [0., 0., 0., 0., 0., 0., 0., 0., 0., 0.]])"
      ]
     },
     "metadata": {},
     "execution_count": 18
    },
    {
     "output_type": "display_data",
     "data": {
      "image/png": "[encoded data removed]",
      "text/plain": [
       "<Figure size 432x288 with 4 Axes>"
      ]
     },
     "metadata": {
      "needs_background": "light"
     }
    }
   ],
   "metadata": {}
  },
  {
   "cell_type": "code",
   "execution_count": 19,
   "source": [
    "fig, (ax1, ax2) = plt.subplots(1,2, subplot_kw={\"projection\": \"3d\"})\r\n",
    "fig.subplots_adjust(wspace=0.5)\r\n",
    "surf1 = ax1.plot_surface(ALPHA, BETA, Zdiff_const, cmap=cm.coolwarm,\r\n",
    "                       linewidth=0, antialiased=False)\r\n",
    "surf2 = ax2.plot_surface(ALPHA, BETA, Zdiff_heavi, cmap=cm.coolwarm,\r\n",
    "                       linewidth=0, antialiased=False)\r\n"
   ],
   "outputs": [
    {
     "output_type": "display_data",
     "data": {
      "image/png": "[encoded data removed]",
      "text/plain": [
       "<Figure size 432x288 with 2 Axes>"
      ]
     },
     "metadata": {
      "needs_background": "light"
     }
    }
   ],
   "metadata": {}
  },
  {
   "cell_type": "code",
   "execution_count": null,
   "source": [],
   "outputs": [],
   "metadata": {}
  },
  {
   "cell_type": "code",
   "execution_count": null,
   "source": [],
   "outputs": [],
   "metadata": {}
  }
 ],
 "metadata": {
  "kernelspec": {
   "name": "python3",
   "display_name": "Python 3.9.4 64-bit (system)"
  },
  "language_info": {
   "codemirror_mode": {
    "name": "ipython",
    "version": 3
   },
   "file_extension": ".py",
   "mimetype": "text/x-python",
   "name": "python",
   "nbconvert_exporter": "python",
   "pygments_lexer": "ipython3",
   "version": "3.9.4"
  },
  "interpreter": {
   "hash": "a39a618824f841ce9db808b73e5cec0b6892bc827dc44fe8599b5ba6bd69a4a7"
  }
 },
 "nbformat": 4,
 "nbformat_minor": 5
}