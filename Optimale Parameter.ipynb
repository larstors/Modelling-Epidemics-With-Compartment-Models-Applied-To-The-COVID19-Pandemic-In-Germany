{
 "cells": [
  {
   "cell_type": "code",
   "execution_count": 4,
   "id": "151e9a30",
   "metadata": {},
   "outputs": [],
   "source": [
    "import numpy as np\n",
    "from numpy import array"
   ]
  },
  {
   "cell_type": "markdown",
   "id": "82906927",
   "metadata": {},
   "source": [
    "## All Regions are considered for the objective function"
   ]
  },
  {
   "cell_type": "markdown",
   "id": "2991a88b",
   "metadata": {},
   "source": [
    "### Method: heaviside \n",
    "### Number of simulated Regions: 12"
   ]
  },
  {
   "cell_type": "code",
   "execution_count": 118,
   "id": "4c893dad",
   "metadata": {},
   "outputs": [],
   "source": [
    "opt_heavi_12 = np.load(\"Opimal_Parameters/heavi_12.npy\")"
   ]
  },
  {
   "cell_type": "code",
   "execution_count": 119,
   "id": "fc6a94d5",
   "metadata": {},
   "outputs": [],
   "source": [
    "opt_heavi_12_min = np.load(\"Opimal_Parameters/heavi_12_min.npy\")\n",
    "optimal_alpha_heavi_12 = opt_heavi_12_min[0]\n",
    "optimal_beta_heavi_12 = opt_heavi_12_min[1]"
   ]
  },
  {
   "cell_type": "code",
   "execution_count": 120,
   "id": "0da1a39f",
   "metadata": {},
   "outputs": [],
   "source": [
    "#np.save(\"Opimal_Parameters/heavi_12_min\", np.array([0.47708333, 0.24666667]))"
   ]
  },
  {
   "cell_type": "code",
   "execution_count": 121,
   "id": "17b5ddf0",
   "metadata": {},
   "outputs": [],
   "source": [
    "error_alpha_heavi_12 = np.std(np.array([opt_heavi_12[i][0]\\\n",
    "                                       for i in range(len(opt_heavi_12))]))\n",
    "error_beta_heavi_12 = np.std(np.array([opt_heavi_12[i][1]\n",
    "                                       for i in range(len(opt_heavi_12))]))\n"
   ]
  },
  {
   "cell_type": "code",
   "execution_count": 122,
   "id": "22e2475d",
   "metadata": {},
   "outputs": [
    {
     "name": "stdout",
     "output_type": "stream",
     "text": [
      "Optimierte Bewertungsfunktion f_7, 12 Landkreise heaviside modell:\n",
      "\n",
      "optimal_alpha_heavi_12 =  0.47708333 mit Fehler:  2.8594829541976186\n",
      "optimal_beta_heavi_12 =  0.24666667 mit Fehler:  0.9765988574749895\n"
     ]
    }
   ],
   "source": [
    "print(\"Optimierte Bewertungsfunktion f_7, 12 Landkreise heaviside modell:\")\n",
    "print()\n",
    "print(\"optimal_alpha_heavi_12 = \", optimal_alpha_heavi_12, \"mit Fehler: \", error_alpha_heavi_12)\n",
    "print(\"optimal_beta_heavi_12 = \",optimal_beta_heavi_12, \"mit Fehler: \", error_beta_heavi_12)\n"
   ]
  },
  {
   "cell_type": "markdown",
   "id": "4c2e4b82",
   "metadata": {},
   "source": [
    "### Method: constant \n",
    "### Number of simulated Regions: 12"
   ]
  },
  {
   "cell_type": "code",
   "execution_count": 143,
   "id": "be64520f",
   "metadata": {},
   "outputs": [],
   "source": [
    "opt_const_12 = np.load(\"Opimal_Parameters/const_12.npy\")"
   ]
  },
  {
   "cell_type": "code",
   "execution_count": 144,
   "id": "313ab2d2",
   "metadata": {},
   "outputs": [],
   "source": [
    "opt_const_12_min = np.load(\"Opimal_Parameters/const_12_min.npy\")"
   ]
  },
  {
   "cell_type": "code",
   "execution_count": 145,
   "id": "be0a8b6c",
   "metadata": {},
   "outputs": [],
   "source": [
    "# f_7 evalioation is: 0.00016171798594136026\n",
    "optimal_alpha_const_12 = opt_const_12_min[0]\n",
    "optimal_beta_const_12 = opt_const_12_min[1]\n",
    "error_alpha_const_12 = np.std(np.array([opt_const_12[i][0]\\\n",
    "                                       for i in range(len(opt_const_12))]))\n",
    "error_beta_const_12 = np.std(np.array([opt_const_12[i][1]\\\n",
    "                                       for i in range(len(opt_const_12))]))\n"
   ]
  },
  {
   "cell_type": "code",
   "execution_count": 146,
   "id": "d875bf17",
   "metadata": {},
   "outputs": [
    {
     "name": "stdout",
     "output_type": "stream",
     "text": [
      "Optimierte Bewertungsfunktion f_7, 12 Landkreise constant modell:\n",
      "\n",
      "optimal_alpha_const_12 =  0.39945343 mit Fehler:  0.10844247052599595\n",
      "optimal_beta_const_12 =  0.3660048 mit Fehler:  0.10598828148500454\n"
     ]
    }
   ],
   "source": [
    "print(\"Optimierte Bewertungsfunktion f_7, 12 Landkreise constant modell:\")\n",
    "print()\n",
    "print(\"optimal_alpha_const_12 = \", optimal_alpha_const_12, \"mit Fehler: \", error_alpha_const_12)\n",
    "print(\"optimal_beta_const_12 = \",optimal_beta_const_12, \"mit Fehler: \", error_beta_const_12)\n"
   ]
  },
  {
   "cell_type": "markdown",
   "id": "8f0b38d7",
   "metadata": {},
   "source": [
    "### Method: constant \n",
    "### Number of simulated Regions: 38"
   ]
  },
  {
   "cell_type": "code",
   "execution_count": 149,
   "id": "7fdd4637",
   "metadata": {},
   "outputs": [],
   "source": [
    "opt_const_38 = np.load(\"Opimal_Parameters/const_38.npy\")\n"
   ]
  },
  {
   "cell_type": "code",
   "execution_count": 150,
   "id": "1d52b2b0",
   "metadata": {},
   "outputs": [],
   "source": [
    "# f_7 evalioation is: 0.00016171798594136026\n",
    "opt_const_38_min =np.load(\"Opimal_Parameters/const_38_min.npy\")\n",
    "x = opt_const_38\n",
    "optimal_alpha_const_38 = [0.32912736, 0.29507202][0]\n",
    "optimal_beta_const_38 = [0.32912736, 0.29507202][1]\n",
    "error_alpha_const_38 = np.std(np.array([x[i][0]\\\n",
    "                                       for i in range(len(x))]))\n",
    "error_beta_const_38 = np.std(np.array([x[i][1]\\\n",
    "                                       for i in range(len(x))]))\n"
   ]
  },
  {
   "cell_type": "code",
   "execution_count": 151,
   "id": "1cf7ef26",
   "metadata": {},
   "outputs": [
    {
     "name": "stdout",
     "output_type": "stream",
     "text": [
      "Optimierte Bewertungsfunktion f_7, 38 Landkreise constant modell:\n",
      "\n",
      "optimal_alpha_const_38 =  0.32912736 mit Fehler:  0.07887398474089544\n",
      "optimal_beta_const_38 =  0.29507202 mit Fehler:  0.07716644664153446\n"
     ]
    }
   ],
   "source": [
    "print(\"Optimierte Bewertungsfunktion f_7, 38 Landkreise constant modell:\")\n",
    "print()\n",
    "print(\"optimal_alpha_const_38 = \", optimal_alpha_const_38, \"mit Fehler: \", error_alpha_const_38)\n",
    "print(\"optimal_beta_const_38 = \",optimal_beta_const_38, \"mit Fehler: \", error_beta_const_38)\n"
   ]
  },
  {
   "cell_type": "markdown",
   "id": "641c4eb3",
   "metadata": {},
   "source": [
    "### Method: heaviside \n",
    "### Number of simulated Regions: 38"
   ]
  },
  {
   "cell_type": "code",
   "execution_count": 130,
   "id": "42457c7b",
   "metadata": {},
   "outputs": [],
   "source": [
    "opt_heavi_38 = np.load(\"Opimal_Parameters/heavi_38.npy\")"
   ]
  },
  {
   "cell_type": "code",
   "execution_count": 131,
   "id": "9c32e6ea",
   "metadata": {},
   "outputs": [],
   "source": [
    "opt_heavi_38_min = np.load(\"Opimal_Parameters/heavi_38_min.npy\")\n",
    "# f_7 evalioation is: 0.0001304295990343919\n",
    "x = opt_heavi_38\n",
    "optimal_alpha_heavi_38 = opt_heavi_38_min[0]\n",
    "optimal_beta_heavi_38 = opt_heavi_38_min[1]\n",
    "error_alpha_heavi_38 = np.std(np.array([x[i][0]\\\n",
    "                                       for i in range(len(x))]))\n",
    "error_beta_heavi_38 = np.std(np.array([x[i][1]\\\n",
    "                                       for i in range(len(x))]))\n"
   ]
  },
  {
   "cell_type": "code",
   "execution_count": 132,
   "id": "77bfe596",
   "metadata": {
    "scrolled": true
   },
   "outputs": [
    {
     "name": "stdout",
     "output_type": "stream",
     "text": [
      "Optimierte Bewertungsfunktion f_7, 38 Landkreise heaviside modell:\n",
      "\n",
      "optimal_alpha_heavi_38 =  0.44506836 mit Fehler:  0.16961969327169435\n",
      "optimal_beta_heavi_38 =  0.25511719 mit Fehler:  0.0953716739387912\n"
     ]
    }
   ],
   "source": [
    "print(\"Optimierte Bewertungsfunktion f_7, 38 Landkreise heaviside modell:\")\n",
    "print()\n",
    "print(\"optimal_alpha_heavi_38 = \", optimal_alpha_heavi_38, \"mit Fehler: \", error_alpha_heavi_38)\n",
    "print(\"optimal_beta_heavi_38 = \",optimal_beta_heavi_38, \"mit Fehler: \", error_beta_heavi_38)\n"
   ]
  },
  {
   "cell_type": "markdown",
   "id": "e89df329",
   "metadata": {},
   "source": [
    "## Only Region 5 is considered "
   ]
  },
  {
   "cell_type": "markdown",
   "id": "1094d798",
   "metadata": {},
   "source": [
    "### Method: heaviside \n",
    "### Number of simulated Regions: 12"
   ]
  },
  {
   "cell_type": "code",
   "execution_count": 71,
   "id": "2a811f79",
   "metadata": {},
   "outputs": [],
   "source": [
    "opt_heavi_12_gö =[array([4.0234375e-04, 7.8125000e-06]), array([0.00402344, 0.00128472]), array([0.00314063, 0.00027778]), array([0.00318872, 0.00127604]), array([0.00226376, 0.00136285]), array([1.39062500e-03, 1.76941795e-16]), array([9.59472656e-04, 7.81250000e-05]), array([1.01464844e-03, 6.07638889e-05]), array([0.00128076, 0.00059028]), array([1.32812500e-03, 2.54136989e-16]), array([1.15796448e-01, 5.47342263e-05]), array([0.11133965, 0.02332804]), array([0.11742282, 0.04416748]), array([0.11875   , 0.06291667]), array([0.10844794, 0.09359484]), array([0.1120714 , 0.10849067]), array([0.11684028, 0.13302083]), array([0.11531304, 0.15960395]), array([0.11453807, 0.17474311]), array([0.1140625 , 0.21546875]), array([0.07334866, 0.00238204]), array([0.21871054, 0.02326966]), array([0.22129829, 0.0472719 ]), array([0.15034722, 0.07981771]), array([0.21396213, 0.09996311]), array([0.22231852, 0.116647  ]), array([0.2297031 , 0.13707092]), array([0.24440231, 0.14002065]), array([0.23333333, 0.17777778]), array([0.22419874, 0.20840637]), array([0.04364707, 0.00200961]), array([0.33322251, 0.02333642]), array([0.15559921, 0.07304083]), array([0.22309469, 0.11790039]), array([0.18736979, 0.1058941 ]), array([0.22226944, 0.13195239]), array([0.27916667, 0.155     ]), array([0.35      , 0.17111111]), array([0.33565674, 0.18297201]), array([0.37482096, 0.1978833 ]), array([0.07223782, 0.00607196]), array([0.1625434 , 0.04815972]), array([0.15756905, 0.06809729]), array([0.18467204, 0.10114487]), array([0.40278727, 0.10495334]), array([0.31630859, 0.15895182]), array([0.31124895, 0.22777242]), array([0.37109375, 0.1869477 ]), array([0.36111111, 0.20444444]), array([0.42662218, 0.21790894]), array([5.625e-01, 6.250e-05]), array([0.12293837, 0.03549805]), array([0.15294562, 0.07024648]), array([0.21066454, 0.10760218]), array([0.2492911 , 0.13073426]), array([0.26388889, 0.15277778]), array([0.38644748, 0.19182292]), array([0.41322496, 0.21380534]), array([0.41579861, 0.21618056]), array([0.41362847, 0.250625  ]), array([0.06587124, 0.00191881]), array([0.13984375, 0.03805339]), array([0.13203125, 0.07478299]), array([0.19205729, 0.10939128]), array([0.24948502, 0.12943455]), array([0.33621012, 0.18106283]), array([0.34166667, 0.19625   ]), array([0.41666667, 0.20125   ]), array([0.47708333, 0.24666667]), array([0.41036819, 0.26030357]), array([7.11450418e-01, 4.76157188e-04]), array([0.12395833, 0.03814236]), array([0.16226332, 0.07677429]), array([0.21006081, 0.11000848]), array([0.29227431, 0.13873264]), array([0.36149045, 0.1834055 ]), array([0.37058377, 0.19435221]), array([0.32744319, 0.23071779]), array([0.45755208, 0.24302083]), array([0.49157986, 0.26433594]), array([0.10008211, 0.00294567]), array([0.11519029, 0.03929751]), array([0.17114868, 0.07421501]), array([0.25818142, 0.10954224]), array([0.28784722, 0.14075521]), array([0.34322917, 0.18037652]), array([0.36666667, 0.20458333]), array([0.52024003, 0.27635746]), array([0.46127387, 0.24077745]), array([0.52860786, 0.27468231]), array([0.0508873 , 0.00178348]), array([0.12535644, 0.04847077]), array([0.196875  , 0.07475694]), array([28.29093124,  9.548622  ]), array([0.29375   , 0.14694444]), array([0.3412384 , 0.17491447]), array([0.4125 , 0.21625]), array([0.44228703, 0.24297427]), array([0.48159485, 0.2538638 ]), array([0.50984993, 0.28084524])]"
   ]
  },
  {
   "cell_type": "code",
   "execution_count": 72,
   "id": "9db51350",
   "metadata": {},
   "outputs": [],
   "source": [
    "# f_7 evalioation is: 0.00010342412113942512\n",
    "\n",
    "x = opt_heavi_12_gö\n",
    "optimal_alpha_heavi_12_gö = [0.33565674, 0.18297201][0]\n",
    "optimal_beta_heavi_12_gö = [0.33565674, 0.18297201][1]\n",
    "error_alpha_heavi_12_gö = np.std(np.array([x[i][0]\\\n",
    "                                       for i in range(len(x))]))\n",
    "error_beta_heavi_12_gö = np.std(np.array([x[i][0]\\\n",
    "                                       for i in range(len(x))]))\n"
   ]
  },
  {
   "cell_type": "code",
   "execution_count": 73,
   "id": "abba6700",
   "metadata": {},
   "outputs": [
    {
     "name": "stdout",
     "output_type": "stream",
     "text": [
      "Optimierte Bewertungsfunktion f_7, 12 Landkreise heaviside modell only gö is considered:\n",
      "\n",
      "optimal_alpha_heavi_12_gö =  0.33565674 mit Fehler:  2.795118125424659\n",
      "optimal_beta_heavi_12_gö =  0.18297201 mit Fehler:  2.795118125424659\n"
     ]
    }
   ],
   "source": [
    "print(\"Optimierte Bewertungsfunktion f_7, 12 Landkreise heaviside modell only gö is considered:\")\n",
    "print()\n",
    "print(\"optimal_alpha_heavi_12_gö = \", optimal_alpha_heavi_12_gö, \"mit Fehler: \", error_alpha_heavi_12_gö)\n",
    "print(\"optimal_beta_heavi_12_gö = \",optimal_beta_heavi_12_gö, \"mit Fehler: \", error_beta_heavi_12_gö)\n"
   ]
  },
  {
   "cell_type": "markdown",
   "id": "0c3bee15",
   "metadata": {},
   "source": [
    "### Method: constant \n",
    "### Number of simulated Regions: 12"
   ]
  },
  {
   "cell_type": "code",
   "execution_count": 74,
   "id": "4a6841cc",
   "metadata": {},
   "outputs": [],
   "source": [
    "opt_const_12_gö =[array([0.03376452, 0.00144614]), array([3.23918754e-02, 8.95604201e-05]), array([0.03255881, 0.00018589]), array([0.03259783, 0.00028821]), array([0.03740897, 0.00502813]), array([0.06152052, 0.02884664]), array([0.03731428, 0.00493265]), array([4.73437500e-03, 5.37764278e-17]), array([0.03270626, 0.00035775]), array([4.73437500e-03, 2.08166817e-16]), array([0.03528185, 0.00292502]), array([0.21834997, 0.18459269]), array([0.21820427, 0.18444759]), array([0.21800242, 0.18424654]), array([0.21839879, 0.1846413 ]), array([0.21827018, 0.18451323]), array([0.21834336, 0.18458609]), array([0.218401 , 0.1846435]), array([0.21835513, 0.18459781]), array([0.21839253, 0.18463506]), array([0.03604198, 0.00368284]), array([0.21836806, 0.1846107 ]), array([0.21845818, 0.18470044]), array([0.21836621, 0.18460886]), array([0.21847767, 0.18471985]), array([0.21851314, 0.18475519]), array([0.2183683 , 0.18461093]), array([0.21867782, 0.18491923]), array([0.21842316, 0.18466557]), array([0.21845881, 0.18470108]), array([0.03615481, 0.00378667]), array([0.2182435 , 0.18448663]), array([0.21842788, 0.18467028]), array([0.22043849, 0.18667287]), array([0.21830831, 0.18455118]), array([0.19017966, 0.15655129]), array([0.21840595, 0.18464843]), array([0.21841719, 0.18465965]), array([0.21844347, 0.18468582]), array([0.21835076, 0.18459346]), array([0.03633898, 0.00398505]), array([0.21827435, 0.18451735]), array([0.21828394, 0.18452691]), array([0.21839549, 0.184638  ]), array([0.21838542, 0.18462798]), array([0.21839444, 0.18463699]), array([0.21835994, 0.1846026 ]), array([0.25308687, 0.21927559]), array([0.21831836, 0.18456118]), array([0.21823534, 0.18447851]), array([0.03637928, 0.00403129]), array([0.07265549, 0.03986474]), array([0.21879139, 0.18503494]), array([0.21840768, 0.18465015]), array([0.1748794 , 0.14131751]), array([0.21836991, 0.18461253]), array([0.21829599, 0.18453891]), array([0.21840894, 0.1846514 ]), array([0.21834171, 0.18458446]), array([0.31604729, 0.28199106]), array([0.03623929, 0.0038773 ]), array([0.07181506, 0.03904101]), array([0.21837657, 0.18461923]), array([0.21920831, 0.18544801]), array([0.21837016, 0.18461303]), array([0.21841065, 0.18465312]), array([0.21835697, 0.18459964]), array([0.27812481, 0.24423021]), array([0.2185007 , 0.18474282]), array([0.32912736, 0.29507202]), array([0.03650877, 0.0041301 ]), array([0.21833179, 0.18457459]), array([0.21830271, 0.1845456 ]), array([0.21836994, 0.18461256]), array([0.21839956, 0.18464206]), array([0.21768294, 0.18398017]), array([0.21839985, 0.18464236]), array([0.21831247, 0.18455532]), array([0.31438286, 0.28037039]), array([0.21827569, 0.18451868]), array([0.03641357, 0.00405262]), array([0.07332086, 0.04049143]), array([0.21835186, 0.18459457]), array([0.21858813, 0.18483013]), array([0.21846505, 0.18470729]), array([0.21862187, 0.18486349]), array([0.21834112, 0.18458385]), array([0.21854794, 0.18478985]), array([0.21852462, 0.18476673]), array([0.21813118, 0.18437476]), array([0.03653603, 0.00416858]), array([0.21838912, 0.18463168]), array([0.21851652, 0.18475856]), array([0.21833438, 0.18457714]), array([0.18339668, 0.14978873]), array([0.21853154, 0.18477355]), array([0.21827465, 0.18451764]), array([0.21834917, 0.1845919 ]), array([0.218676 , 0.1849174]), array([0.21838525, 0.18462782])]"
   ]
  },
  {
   "cell_type": "code",
   "execution_count": 75,
   "id": "fef81d69",
   "metadata": {},
   "outputs": [],
   "source": [
    "# f_7 evalioation is: 0.00016171798594136026\n",
    "\n",
    "x = opt_const_12_gö\n",
    "optimal_alpha_const_12_gö = [0.32912736, 0.29507202][0]\n",
    "optimal_beta_const_12_gö = [0.32912736, 0.29507202][1]\n",
    "error_alpha_const_12_gö = np.std(np.array([x[i][0]\\\n",
    "                                       for i in range(len(x))]))\n",
    "error_beta_const_12_gö = np.std(np.array([x[i][0]\\\n",
    "                                       for i in range(len(x))]))\n"
   ]
  },
  {
   "cell_type": "code",
   "execution_count": 77,
   "id": "51ddf673",
   "metadata": {},
   "outputs": [
    {
     "name": "stdout",
     "output_type": "stream",
     "text": [
      "Optimierte Bewertungsfunktion f_7, 12 Landkreise heaviside modell only gö is considered:\n",
      "\n",
      "optimal_alpha_const_12_gö =  0.32912736 mit Fehler:  0.07887398474089544\n",
      "optimal_beta_const_12_gö =  0.29507202 mit Fehler:  0.07887398474089544\n"
     ]
    }
   ],
   "source": [
    "print(\"Optimierte Bewertungsfunktion f_7, 12 Landkreise heaviside modell only gö is considered:\")\n",
    "print()\n",
    "print(\"optimal_alpha_const_12_gö = \", optimal_alpha_const_12_gö, \"mit Fehler: \", error_alpha_const_12_gö)\n",
    "print(\"optimal_beta_const_12_gö = \",optimal_beta_const_12_gö, \"mit Fehler: \", error_beta_const_12_gö)\n"
   ]
  },
  {
   "cell_type": "markdown",
   "id": "c083c1fd",
   "metadata": {},
   "source": [
    "### Method: heaviside \n",
    "### Number of simulated Regions: 38"
   ]
  },
  {
   "cell_type": "code",
   "execution_count": 78,
   "id": "c0f881cb",
   "metadata": {},
   "outputs": [],
   "source": [
    "opt_heavi_38_gö =[array([3.93554688e-04, 9.76562500e-06]), array([0.00285895, 0.00045573]), array([0.00386069, 0.00011292]), array([0.00312402, 0.0003125 ]), array([0.00300415, 0.00045139]), array([0.00290626, 0.00058525]), array([0.00467773, 0.0009375 ]), array([0.00425195, 0.00012153]), array([0.00415625, 0.00111111]), array([0.00312402, 0.0009375 ]), array([0.10551147, 0.00025032]), array([0.11145833, 0.024375  ]), array([0.11111111, 0.04666667]), array([0.11666667, 0.06666667]), array([0.1140625 , 0.08604167]), array([0.11432292, 0.10733507]), array([0.11216634, 0.13301432]), array([0.1125    , 0.15944444]), array([0.11078033, 0.1790389 ]), array([0.11679789, 0.20507965]), array([0.20747342, 0.00088953]), array([0.10238715, 0.03272678]), array([0.22221382, 0.04666632]), array([0.17569444, 0.07421875]), array([0.21666667, 0.10222222]), array([0.2375, 0.1125]), array([0.22548218, 0.13585531]), array([0.22803819, 0.15588976]), array([0.23333333, 0.18222222]), array([0.2316714 , 0.20502068]), array([3.41579739e-01, 4.63747978e-05]), array([0.10341797, 0.02530165]), array([0.34999956, 0.04444598]), array([0.22288443, 0.08637091]), array([0.24192708, 0.11399306]), array([0.28235575, 0.14329258]), array([0.2973348 , 0.14744303]), array([0.34583333, 0.16138889]), array([0.35286458, 0.17840278]), array([0.33385213, 0.2049292 ]), array([0.06628961, 0.00162744]), array([0.14285481, 0.05119435]), array([0.16654731, 0.09056424]), array([0.23422309, 0.12013021]), array([0.3042589, 0.1266276]), array([0.26770833, 0.14733073]), array([0.30224609, 0.16466878]), array([0.35510525, 0.18703647]), array([0.3828125 , 0.21784722]), array([0.3999334 , 0.21500804]), array([0.04112413, 0.00221729]), array([0.12105634, 0.03727798]), array([0.15784792, 0.08633714]), array([0.23606364, 0.10466125]), array([0.29777775, 0.14313052]), array([0.30197639, 0.15298044]), array([0.35503472, 0.17328125]), array([0.31994968, 0.17939387]), array([0.42013889, 0.21638889]), array([0.44411892, 0.21995117]), array([0.07363281, 0.00424634]), array([0.13221194, 0.04629495]), array([0.16975505, 0.07028544]), array([0.27410177, 0.1331193 ]), array([0.2866984 , 0.14092624]), array([0.35625   , 0.21840278]), array([0.3958403 , 0.18853635]), array([0.47296448, 0.23719754]), array([0.44038456, 0.26414463]), array([0.42917887, 0.25526031]), array([8.04968728e-01, 1.86021805e-04]), array([0.11180556, 0.03881944]), array([0.14583333, 0.07458333]), array([0.23656498, 0.11017998]), array([0.28015951, 0.13584093]), array([0.3437717 , 0.16571723]), array([0.3654758 , 0.19202555]), array([0.64440104, 0.33851563]), array([0.54446759, 0.28535916]), array([0.51486789, 0.2959819 ]), array([0.06666667, 0.00057813]), array([0.11269124, 0.03933411]), array([0.16111111, 0.07298611]), array([0.25643592, 0.12823731]), array([0.28333333, 0.14069444]), array([0.31768121, 0.17393884]), array([0.68057327, 0.40101059]), array([0.475     , 0.25083333]), array([0.56325955, 0.30215278]), array([0.56869575, 0.31404297]), array([0.07539062, 0.00580469]), array([0.13769531, 0.03982856]), array([0.18365006, 0.09338838]), array([0.23948927, 0.11544059]), array([0.275     , 0.14972222]), array([0.34871826, 0.16962382]), array([0.40859375, 0.20908854]), array([0.48604165, 0.26248485]), array([0.4781496 , 0.26124574]), array([0.525  , 0.29125])]"
   ]
  },
  {
   "cell_type": "code",
   "execution_count": 79,
   "id": "62776bc1",
   "metadata": {},
   "outputs": [],
   "source": [
    "# f_7 evalioation is: 0.0001304295990343919\n",
    "\n",
    "x = opt_heavi_38_gö\n",
    "optimal_alpha_heavi_38_gö = [0.48604165, 0.26248485][0]\n",
    "optimal_beta_heavi_38_gö = [0.48604165, 0.26248485][1]\n",
    "error_alpha_heavi_38_gö = np.std(np.array([x[i][0]\\\n",
    "                                       for i in range(len(x))]))\n",
    "error_beta_heavi_38_gö = np.std(np.array([x[i][0]\\\n",
    "                                       for i in range(len(x))]))\n"
   ]
  },
  {
   "cell_type": "code",
   "execution_count": 80,
   "id": "bb0a8d8a",
   "metadata": {},
   "outputs": [
    {
     "name": "stdout",
     "output_type": "stream",
     "text": [
      "Optimierte Bewertungsfunktion f_7, 38 Landkreise heaviside modell only gö is considered:\n",
      "\n",
      "optimal_alpha_heavi_38_gö =  0.48604165 mit Fehler:  0.1677344743059849\n",
      "optimal_beta_heavi_38_gö =  0.26248485 mit Fehler:  0.1677344743059849\n"
     ]
    }
   ],
   "source": [
    "print(\"Optimierte Bewertungsfunktion f_7, 38 Landkreise heaviside modell only gö is considered:\")\n",
    "print()\n",
    "print(\"optimal_alpha_heavi_38_gö = \", optimal_alpha_heavi_38_gö, \"mit Fehler: \", error_alpha_heavi_38_gö)\n",
    "print(\"optimal_beta_heavi_38_gö = \",optimal_beta_heavi_38_gö, \"mit Fehler: \", error_beta_heavi_38_gö)\n"
   ]
  },
  {
   "cell_type": "markdown",
   "id": "a6d33365",
   "metadata": {},
   "source": [
    "### Method: constant \n",
    "### Number of simulated Regions: 38\n"
   ]
  },
  {
   "cell_type": "code",
   "execution_count": 81,
   "id": "b486ad6f",
   "metadata": {},
   "outputs": [],
   "source": [
    "opt_const_38_gö =[array([0.03387223, 0.0014956 ]), array([3.23910091e-02, 7.08364716e-05]), array([0.03255881, 0.00018589]), array([0.03255243, 0.00022675]), array([0.03740897, 0.00502813]), array([0.18494472, 0.15207207]), array([0.03739371, 0.00502105]), array([4.73437500e-03, 5.37764278e-17]), array([0.03267542, 0.00036057]), array([4.73437500e-03, 2.08166817e-16]), array([0.03530078, 0.00293242]), array([0.18508317, 0.15221077]), array([0.1850477 , 0.15217525]), array([0.18503163, 0.15215914]), array([0.18499689, 0.15212434]), array([0.18500622, 0.15213371]), array([0.18501549, 0.15214299]), array([0.18506629, 0.15219388]), array([0.18519135, 0.15231915]), array([0.18499489, 0.15212235]), array([0.03594909, 0.00357776]), array([0.18496271, 0.15209009]), array([0.18504767, 0.15217521]), array([0.18489213, 0.1520194 ]), array([0.18506514, 0.15219273]), array([0.18502174, 0.15214923]), array([0.1850269, 0.1521544]), array([0.18517251, 0.15230028]), array([0.18494943, 0.15207678]), array([0.18528301, 0.15241104]), array([0.03615481, 0.00378667]), array([0.1851358, 0.1522635]), array([0.18501974, 0.15214724]), array([0.18499715, 0.15212459]), array([0.16387608, 0.13100895]), array([0.1895333 , 0.15668235]), array([0.20646296, 0.17364697]), array([0.18499914, 0.15212661]), array([0.18506291, 0.15219048]), array([0.18521799, 0.15234586]), array([0.03641798, 0.00399223]), array([0.18488858, 0.15201583]), array([0.18502369, 0.15215119]), array([0.18504306, 0.15217059]), array([0.18489664, 0.1520239 ]), array([0.18497529, 0.1521027 ]), array([0.18493753, 0.15206486]), array([0.25216863, 0.21947367]), array([0.1849056 , 0.15203288]), array([0.18503329, 0.1521608 ]), array([0.0364134 , 0.00402434]), array([0.07253159, 0.03986355]), array([0.1087129, 0.0758216]), array([0.18484762, 0.1519748 ]), array([0.18508432, 0.15221193]), array([0.18500585, 0.15213331]), array([0.18497472, 0.15210214]), array([0.18491992, 0.15204722]), array([0.18496379, 0.15209118]), array([0.31481306, 0.28227933]), array([0.03623929, 0.0038773 ]), array([0.07123457, 0.03854708]), array([0.18500442, 0.15213189]), array([0.18505082, 0.15217837]), array([0.17564996, 0.14276564]), array([0.18513577, 0.15226347]), array([0.18489595, 0.15202321]), array([0.27688177, 0.24428653]), array([0.18500697, 0.15213443]), array([0.18491757, 0.15204488]), array([0.03650877, 0.0041301 ]), array([0.1852451 , 0.15237303]), array([0.18495515, 0.15208253]), array([0.185028  , 0.15215549]), array([0.18513391, 0.15226163]), array([0.21663903, 0.18386687]), array([0.18496989, 0.15209732]), array([0.18499839, 0.15212584]), array([0.29987328, 0.26733374]), array([0.18498003, 0.15210745]), array([0.03646512, 0.00408323]), array([0.07320658, 0.04049716]), array([0.18505956, 0.15218713]), array([0.18497509, 0.1521025 ]), array([0.18506523, 0.1521928 ]), array([0.18503835, 0.15216588]), array([0.25325098, 0.22054311]), array([0.18498311, 0.15211054]), array([0.18507606, 0.15220366]), array([0.18503805, 0.15216558]), array([0.03653603, 0.00416858]), array([0.18505082, 0.15217836]), array([0.10956523, 0.07667066]), array([0.18501287, 0.15214038]), array([0.182722 , 0.1499232]), array([0.22078958, 0.18800274]), array([0.18501915, 0.15214664]), array([0.18504256, 0.15217012]), array([0.18499624, 0.15212369]), array([0.1851253 , 0.15225297])]"
   ]
  },
  {
   "cell_type": "code",
   "execution_count": 82,
   "id": "35f50bce",
   "metadata": {},
   "outputs": [],
   "source": [
    "# f_7 evalioation is: 0.00016163162523085664\n",
    "\n",
    "x = opt_const_38_gö\n",
    "optimal_alpha_const_38_gö = [0.31481306, 0.28227933][0]\n",
    "optimal_beta_const_38_gö = [0.31481306, 0.28227933][1]\n",
    "error_alpha_const_38_gö = np.std(np.array([x[i][0]\\\n",
    "                                       for i in range(len(x))]))\n",
    "error_beta_const_38_gö = np.std(np.array([x[i][0]\\\n",
    "                                       for i in range(len(x))]))\n"
   ]
  },
  {
   "cell_type": "code",
   "execution_count": 83,
   "id": "3ac4b3d4",
   "metadata": {},
   "outputs": [
    {
     "name": "stdout",
     "output_type": "stream",
     "text": [
      "Optimierte Bewertungsfunktion f_7, 38 Landkreise heaviside modell only gö is considered:\n",
      "\n",
      "optimal_alpha_const_38_gö =  0.31481306 mit Fehler:  0.06713006734405522\n",
      "optimal_beta_const_38_gö =  0.28227933 mit Fehler:  0.06713006734405522\n"
     ]
    }
   ],
   "source": [
    "print(\"Optimierte Bewertungsfunktion f_7, 38 Landkreise heaviside modell only gö is considered:\")\n",
    "print()\n",
    "print(\"optimal_alpha_const_38_gö = \", optimal_alpha_const_38_gö, \"mit Fehler: \", error_alpha_const_38_gö)\n",
    "print(\"optimal_beta_const_38_gö = \",optimal_beta_const_38_gö, \"mit Fehler: \", error_beta_const_38_gö)\n"
   ]
  },
  {
   "cell_type": "code",
   "execution_count": null,
   "id": "fdfe28b9",
   "metadata": {},
   "outputs": [],
   "source": []
  },
  {
   "cell_type": "code",
   "execution_count": null,
   "id": "e2cdaac5",
   "metadata": {},
   "outputs": [],
   "source": []
  }
 ],
 "metadata": {
  "kernelspec": {
   "display_name": "Python 3 (ipykernel)",
   "language": "python",
   "name": "python3"
  },
  "language_info": {
   "codemirror_mode": {
    "name": "ipython",
    "version": 3
   },
   "file_extension": ".py",
   "mimetype": "text/x-python",
   "name": "python",
   "nbconvert_exporter": "python",
   "pygments_lexer": "ipython3",
   "version": "3.8.10"
  }
 },
 "nbformat": 4,
 "nbformat_minor": 5
}
