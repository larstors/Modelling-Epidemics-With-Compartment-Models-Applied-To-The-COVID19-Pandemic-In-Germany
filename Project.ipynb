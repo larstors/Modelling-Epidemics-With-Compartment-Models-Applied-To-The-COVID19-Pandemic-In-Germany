{
 "cells": [
  {
   "cell_type": "code",
   "execution_count": 4,
   "metadata": {},
   "outputs": [],
   "source": [
    "import matplotlib.pyplot as plt\n",
    "import numpy as np\n",
    "import scipy.integrate as sci\n",
    "import time \n",
    "import threading\n",
    "import sys"
   ]
  },
  {
   "cell_type": "markdown",
   "metadata": {},
   "source": [
    "## Parameters"
   ]
  },
  {
   "cell_type": "code",
   "execution_count": 5,
   "metadata": {},
   "outputs": [
    {
     "name": "stdout",
     "output_type": "stream",
     "text": [
      "0.0264\n"
     ]
    }
   ],
   "source": [
    "class Data:\n",
    "    def __init__(self, dimension, name):\n",
    "        \"Dimension gives the dimension of the system\"\n",
    "        # ------- TO DO ---------\n",
    "        # Depending on the system this has to be adjusted\n",
    "        self.dimension = dimension\n",
    "        \n",
    "        \"Alpha describes the rate of infection\"\n",
    "        self.alpha = 0 # Dimensions day^(-1)\n",
    "\n",
    "        \"Beta describes the recovery rate\"\n",
    "        self.beta = 1/14 # Dimensions day^(-1)\n",
    "\n",
    "        \"p is the probability to die from the disease\"\n",
    "        self.p = 2.64e-2\n",
    "        \n",
    "        \"\"\"\n",
    "        Commuters is an array describing the commuters from and to the different cells. \n",
    "        The structure is: The entries in column i are how many commute from i to the cell of the row.\n",
    "                          Thus, the entries of the row i describe how many commute from different cells to cell i.\n",
    "        \"\"\"\n",
    "\n",
    "        self.commuters = np.array([np.ones(self.dimension) for i in range(self.dimension)])\n",
    "        \"load the txt with given name\"\n",
    "        file = np.loadtxt(name, delimiter=\"\\t\")\n",
    "        \"fill commuters with the entries from the file. Note the break statement so it doesn't go to far\"\n",
    "        i = 0\n",
    "        for row in file:\n",
    "            if i >= self.dimension:\n",
    "                break\n",
    "            self.commuters[i] = np.asarray(row[0:self.dimension])\n",
    "            i += 1\n",
    "        \n",
    "        \n",
    "        \n",
    "    def commutersFrom(self, cfrom):\n",
    "        \"\"\"Function to extract the commuters from a cell\n",
    "\n",
    "        Args:\n",
    "            cfrom (integer): the cell \n",
    "\n",
    "         Returns:\n",
    "            array: array containing commuters from cfrom\n",
    "        \"\"\"\n",
    "        # ------- TO DO ---------\n",
    "        # optimize the algorithm\n",
    "        \"Sorting out the necessary entries into array a.\"\n",
    "        a = np.zeros(self.dimension)\n",
    "        for i in range(self.dimension):\n",
    "            a[i] = self.commuters[i][cfrom]\n",
    "            \n",
    "        return a \n",
    "    \n",
    "    def commutersTo(self, cto):\n",
    "        \"\"\"Function to return an array with number of commuters coming to cto from other cells.\n",
    "\n",
    "        Args:\n",
    "            cto (integer): the cell to which the commuters travel\n",
    "\n",
    "        Returns:\n",
    "            array: array containing the commuters to cto.\n",
    "        \"\"\"\n",
    "        return self.commuters[cto][:]\n",
    "       \n",
    "        \n",
    "        "
   ]
  },
  {
   "cell_type": "markdown",
   "metadata": {},
   "source": [
    "## Functions"
   ]
  },
  {
   "cell_type": "code",
   "execution_count": null,
   "metadata": {},
   "outputs": [],
   "source": []
  }
 ],
 "metadata": {
  "kernelspec": {
   "display_name": "Python 3",
   "language": "python",
   "name": "python3"
  },
  "language_info": {
   "codemirror_mode": {
    "name": "ipython",
    "version": 3
   },
   "file_extension": ".py",
   "mimetype": "text/x-python",
   "name": "python",
   "nbconvert_exporter": "python",
   "pygments_lexer": "ipython3",
   "version": "3.8.3"
  }
 },
 "nbformat": 4,
 "nbformat_minor": 4
}