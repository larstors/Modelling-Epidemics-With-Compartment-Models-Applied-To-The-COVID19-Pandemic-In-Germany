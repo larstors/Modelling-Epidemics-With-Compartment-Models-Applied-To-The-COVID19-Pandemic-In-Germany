{
 "cells": [
  {
   "cell_type": "code",
   "execution_count": 4,
   "metadata": {},
   "outputs": [],
   "source": [
    "import matplotlib.pyplot as plt\n",
    "import numpy as np\n",
    "import scipy.integrate as sci\n",
    "import time \n",
    "import threading\n",
    "import sys\n",
    "\n",
    "# the function library\n",
    "from projectlib import *"
   ]
  },
  {
   "cell_type": "markdown",
   "metadata": {},
   "source": [
    "## Parameters"
   ]
  },
  {
   "cell_type": "code",
   "execution_count": 5,
   "metadata": {},
   "outputs": [
    {
     "name": "stdout",
     "output_type": "stream",
     "text": [
      "0.0264\n"
     ]
    }
   ],
   "source": [
    "class Data:\n",
    "    def __init__(self, dimension, name, commuters_day, N):\n",
    "        \"Dimension gives the dimension of the system, i.e. number of cells\"\n",
    "        # ------- TO DO ---------\n",
    "        # Depending on the system this has to be adjusted\n",
    "        self.dimension = dimension\n",
    "        \n",
    "        \"Alpha describes the rate of infection\"\n",
    "        self.alpha = 0 # Dimensions day^(-1)\n",
    "\n",
    "        \"Beta describes the recovery rate\"\n",
    "        self.beta = 1/14 # Dimensions day^(-1)\n",
    "\n",
    "        \"p is the probability to die from the disease\"\n",
    "        self.p = 2.64e-2\n",
    "        \n",
    "        \"\"\"\n",
    "        Commuters is an array describing the commuters from and to the different cells. \n",
    "        The structure is: The entries in column i are how many commute from i to the cell of the row.\n",
    "                          Thus, the entries of the row i describe how many commute from different cells to cell i.\n",
    "        \"\"\"\n",
    "\n",
    "        self.commuters = np.array([np.ones(self.dimension) for i in range(self.dimension)])\n",
    "        \"load the txt with given name\"\n",
    "        file = np.loadtxt(name, delimiter=\"\\t\")\n",
    "        \"fill commuters with the entries from the file. Note the break statement so it doesn't go to far\"\n",
    "        i = 0\n",
    "        for row in file:\n",
    "            if i >= self.dimension:\n",
    "                break\n",
    "            self.commuters[i] = np.asarray(row[0:self.dimension])\n",
    "            i += 1\n",
    "        \n",
    "        \"Part of day that commuters are in other cells. This is the same value for all cells\"\n",
    "        self.commuters_day = commuters_day\n",
    "\n",
    "        \"Array of population in every cell\"\n",
    "        # ------- TO DO ---------\n",
    "        # figure out how to best do this\n",
    "        self.N = N\n",
    "\n",
    "        \n",
    "        \n",
    "    def commutersFrom(self, cfrom):\n",
    "        \"\"\"Function to extract the commuters from a cell\n",
    "\n",
    "        Args:\n",
    "            cfrom (integer): the cell \n",
    "\n",
    "         Returns:\n",
    "            array: array containing commuters from cfrom\n",
    "        \"\"\"\n",
    "        # ------- TO DO ---------\n",
    "        # optimize the algorithm\n",
    "        \"Sorting out the necessary entries into array a.\"\n",
    "        a = np.zeros(self.dimension)\n",
    "        for i in range(self.dimension):\n",
    "            a[i] = self.commuters[i][cfrom]\n",
    "            \n",
    "        return a \n",
    "    \n",
    "    def commutersTo(self, cto):\n",
    "        \"\"\"Function to return an array with number of commuters coming to cto from other cells.\n",
    "\n",
    "        Args:\n",
    "            cto (integer): the cell to which the commuters travel\n",
    "\n",
    "        Returns:\n",
    "            array: array containing the commuters to cto.\n",
    "        \"\"\"\n",
    "        return self.commuters[cto][:]\n",
    "       \n",
    "        \n",
    "        "
   ]
  },
  {
   "cell_type": "markdown",
   "metadata": {},
   "source": [
    "## Functions"
   ]
  },
  {
   "cell_type": "code",
   "execution_count": null,
   "metadata": {},
   "outputs": [],
   "source": [
    "def constantApproach(functions, t, data):\n",
    "    \"\"\"Function to calculate the time derivatives of the dynamic SIRD modell with commuters. This function uses the approach of constant coefficients. For further explanations see LaTeX\n",
    "\n",
    "        Args:\n",
    "            functions (array): array with the functions that define the system of equations. Structure [S_1, ... , S_n, I_1, .... , I_n, R_1, ... , R_n, D_1, ... , D_n]\n",
    "            t (float): time of timestep. t=1 is 1 day\n",
    "            data (class): the class with the relevant data\n",
    "\n",
    "        Returns:\n",
    "            array: array containing the derivatives of functions at time t.\n",
    "    \"\"\"\n",
    "    # making array with the effective infected Ieff and the effective population Neff\n",
    "    Ieff = np.array([effective_infected(data.commutersTo, data.commutersFrom, data.N, i, functions[data.dimensions:2*data.dimensions], data.dimensions) for i in range(data.dimensions)])\n",
    "    Neff = np.array([effective_population(data.commutersFrom, data.N, i) for i in range(data.dimensions)])\n",
    "\n",
    "    # initializing the return array with the time derivatives of functions\n",
    "    dfuncdt = np.zeros(data.dimensions*4)\n",
    "\n",
    "    # the for loop to fill dfuncdt\n",
    "\n",
    "    for i in range(data.dimensions):\n",
    "        # see LaTeX for equations\n",
    "        # dS/dt\n",
    "        dfuncdt[i] = (data.commuters_day - 1) * functions[i] * functions[i + data.dimensions] - data.commuters_day * data.alpha * (Neff[i] * functions[i] * Ieff[i] / data.N[i] + functions[i] * data.N[i] * np.sum(data.commutersFrom(i) * Ieff))\n",
    "\n",
    "        # dI/dt \\propto -dSdt\n",
    "        dfuncdt[i + data.dimensions] = - dfuncdt[i] - data.beta * functions[i + data.dimensions]\n",
    "\n",
    "        # dR/dt\n",
    "        dfuncdt[i + 2 * data.dimensions] = (1 - data.p) * data.beta * functions[i + data.dimensions]\n",
    "\n",
    "        # dD/dt\n",
    "        dfuncdt[i + 3 * data.dimensions] = data.p * data.beta * functions[i + data.dimensions]\n",
    "\n",
    "    # returning the derivatives at time t\n",
    "    return dfuncdt\n",
    "\n",
    "\n",
    "\n",
    "\n"
   ]
  },
  {
   "source": [
    "## Comparing $\\alpha$'s"
   ],
   "cell_type": "markdown",
   "metadata": {}
  },
  {
   "cell_type": "code",
   "execution_count": null,
   "metadata": {},
   "outputs": [],
   "source": []
  }
 ],
 "metadata": {
  "kernelspec": {
   "display_name": "Python 3",
   "language": "python",
   "name": "python3"
  },
  "language_info": {
   "codemirror_mode": {
    "name": "ipython",
    "version": 3
   },
   "file_extension": ".py",
   "mimetype": "text/x-python",
   "name": "python",
   "nbconvert_exporter": "python",
   "pygments_lexer": "ipython3",
   "version": "3.8.3"
  }
 },
 "nbformat": 4,
 "nbformat_minor": 4
}