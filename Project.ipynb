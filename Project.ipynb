{
 "cells": [
  {
   "cell_type": "code",
   "execution_count": 10,
   "metadata": {},
   "outputs": [],
   "source": [
    "import matplotlib.pyplot as plt\n",
    "import numpy as np\n",
    "import scipy.integrate as sci\n",
    "import time \n",
    "import threading\n",
    "import sys\n",
    "import multiprocessing as multiproc\n",
    "\n",
    "# the function library\n",
    "from projectlib import *"
   ]
  },
  {
   "cell_type": "markdown",
   "metadata": {},
   "source": [
    "## Parameters"
   ]
  },
  {
   "cell_type": "code",
   "execution_count": 11,
   "metadata": {},
   "outputs": [],
   "source": [
    "class Data:\n",
    "    def __init__(self, dimension, name, commuters_day, N):\n",
    "        \"Dimension gives the dimension of the system, i.e. number of cells\"\n",
    "        # ------- TO DO ---------\n",
    "        # Depending on the system this has to be adjusted\n",
    "        self.dimension = dimension\n",
    "        \n",
    "        \"Alpha describes the rate of infection\"\n",
    "        self.alpha = 0.002 # Dimensions day^(-1)\n",
    "\n",
    "        \"Beta describes the recovery rate\"\n",
    "        self.beta = 1/14 # Dimensions day^(-1)\n",
    "\n",
    "        \"p is the probability to die from the disease\"\n",
    "        self.p = 2.64e-2\n",
    "        \n",
    "        \"\"\"\n",
    "        Commuters is an array describing the commuters from and to the different cells. \n",
    "        The structure is: The entries in column i are how many commute from i to the cell of the row.\n",
    "                          Thus, the entries of the row i describe how many commute from different cells to cell i.\n",
    "        \"\"\"\n",
    "\n",
    "        self.commuters = np.array([np.ones(self.dimension) for i in range(self.dimension)])\n",
    "        \"load the txt with given name\"\n",
    "        file = np.loadtxt(name, delimiter=\"\\t\")\n",
    "        \"fill commuters with the entries from the file. Note the break statement so it doesn't go to far\"\n",
    "        i = 0\n",
    "        for row in file:\n",
    "            if i >= self.dimension:\n",
    "                break\n",
    "            self.commuters[i] = np.asarray(row[0:self.dimension])\n",
    "            i += 1\n",
    "        \n",
    "        \"Part of day that commuters are in other cells. This is the same value for all cells\"\n",
    "        self.commuters_day = commuters_day\n",
    "\n",
    "        \"Array of population in every cell\"\n",
    "        # ------- TO DO ---------\n",
    "        # figure out how to best do this\n",
    "        self.N = N\n",
    "\n",
    "        \n",
    "        \n",
    "    def commutersFrom(self, cfrom):\n",
    "        \"\"\"Function to extract the commuters from a cell\n",
    "\n",
    "        Args:\n",
    "            cfrom (integer): the cell \n",
    "\n",
    "         Returns:\n",
    "            array: array containing commuters from cfrom\n",
    "        \"\"\"\n",
    "        # ------- TO DO ---------\n",
    "        # optimize the algorithm\n",
    "        \"Sorting out the necessary entries into array a.\"\n",
    "        a = np.zeros(self.dimension)\n",
    "        for i in range(self.dimension):\n",
    "            a[i] = self.commuters[i][cfrom]\n",
    "            \n",
    "        return a \n",
    "    \n",
    "    def commutersTo(self, cto):\n",
    "        \"\"\"Function to return an array with number of commuters coming to cto from other cells.\n",
    "\n",
    "        Args:\n",
    "            cto (integer): the cell to which the commuters travel\n",
    "\n",
    "        Returns:\n",
    "            array: array containing the commuters to cto.\n",
    "        \"\"\"\n",
    "        return self.commuters[cto][:]\n",
    "       \n",
    "        \n",
    "        "
   ]
  },
  {
   "cell_type": "markdown",
   "metadata": {},
   "source": [
    "## Functions"
   ]
  },
  {
   "cell_type": "code",
   "execution_count": 12,
   "metadata": {},
   "outputs": [],
   "source": [
    "\n",
    "\n",
    "def function_of_system(timestep, functions,  data, methode, t0):\n",
    "    \"\"\"Function to calculate the time derivatives of the dynamic SIRD modell with commuters. This function uses multiple approachs for different variant of the system based on prior assumptions. \n",
    "\n",
    "        Args:\n",
    "            functions (array): array with the functions that define the system of equations. Structure [S_1, ... , S_n, I_1, .... , I_n, R_1, ... , R_n, D_1, ... , D_n]\n",
    "            timestep (float): time of timestep. t=1 is 1 day\n",
    "            data (class): the class with the relevant data\n",
    "            methode (string): dictates what methode is to be used. The choices are \"constant\", \"heaviside\"\n",
    "            t0 (array): array with len = 3 filled with times at which the heaviside functions in the \"heaviside\" methode switch. \n",
    "                Note: all values of t0 have to be between 0 and 1.\n",
    "\n",
    "        Returns:\n",
    "            array: array containing the derivatives of functions at time t.\n",
    "    \"\"\"\n",
    "    # array with infected\n",
    "    Infected = functions[data.dimension:2*data.dimension]\n",
    "\n",
    "    # making array with the effective infected Ieff and the effective population Neff\n",
    "    Ieff = np.array([effective_infected(data.commutersTo, data.commutersFrom, data.N, i, Infected, data.dimension) for i in range(data.dimension)])\n",
    "\n",
    "    Neff = np.array([effective_population(data.commutersFrom, data.N, i) for i in range(data.dimension)])\n",
    "\n",
    "    # initializing the return array with the time derivatives of functions\n",
    "    dfuncdt = np.ones(data.dimension*4)\n",
    "\n",
    "    \"~~~~~~~~~~~~~~~~~ See the PDF / LaTeX for further explanation of the equations ~~~~~~~~~~~~~~~~~~~~~~~~\"\n",
    "\n",
    "    # ------------------------------------\n",
    "    # -      Constant Coefficients       -\n",
    "    # ------------------------------------\n",
    "\n",
    "    if methode == \"constant\":\n",
    "            \n",
    "        # the for loop to fill dfuncdt\n",
    "\n",
    "        for i in range(data.dimension):\n",
    "            # see LaTeX for equations\n",
    "            # dS/dt\n",
    "            dfuncdt[i] =  (data.commuters_day - 1) * functions[i] * functions[i + data.dimension] - data.commuters_day * data.alpha * (Neff[i] * functions[i] * Ieff[i] / data.N[i] + functions[i] / data.N[i] * np.sum(data.commutersFrom(i) * Ieff))\n",
    "\n",
    "            # dI/dt \\propto -dSdt\n",
    "            dfuncdt[i + data.dimension] = - dfuncdt[i] - data.beta * functions[i + data.dimension]\n",
    "\n",
    "            # dR/dt\n",
    "            dfuncdt[i + 2 * data.dimension] = (1 - data.p) * data.beta * functions[i + data.dimension]\n",
    "\n",
    "            # dD/dt\n",
    "            dfuncdt[i + 3 * data.dimension] = data.p * data.beta * functions[i + data.dimension]\n",
    "\n",
    "\n",
    "    # ------------------------------------\n",
    "    # -      Heaviside Coefficients      -\n",
    "    # ------------------------------------\n",
    "\n",
    "\n",
    "    elif methode == \"heaviside\":\n",
    "\n",
    "\n",
    "        # the for loop to fill dfuncdt\n",
    "        for i in range(data.dimension):\n",
    "            # see LaTeX for equations\n",
    "            # dS/dt\n",
    "            dfuncdt[i] = - (periodic_heaviside(timestep, t0[0]) + periodic_heaviside(timestep, t0[2]) - 1) * functions[i] * functions[i + data.dimension] - (periodic_heaviside(timestep, t0[1]) - periodic_heaviside(timestep, t0[2])) * data.alpha * (Neff[i] * functions[i] * Ieff[i] / data.N[i] + functions[i] / data.N[i] * np.sum(data.commutersFrom(i) * Ieff))\n",
    "\n",
    "            # dI/dt \\propto -dSdt\n",
    "            dfuncdt[i + data.dimension] = - dfuncdt[i] - data.beta * functions[i + data.dimension]\n",
    "\n",
    "            # dR/dt\n",
    "            dfuncdt[i + 2 * data.dimension] = (1 - data.p) * data.beta * functions[i + data.dimension]\n",
    "\n",
    "            # dD/dt\n",
    "            dfuncdt[i + 3 * data.dimension] = data.p * data.beta * functions[i + data.dimension]\n",
    "\n",
    "    \n",
    "    \n",
    "    \n",
    "    \n",
    "    \n",
    "    \n",
    "    \n",
    "    # returning the derivatives at time t\n",
    "    return dfuncdt\n",
    "\n",
    "\n",
    "\n",
    "# Function for using scipy.integrate.odeint, as the arguments are switched\n",
    "def system_function(functions, timestep, data, methode, t0):\n",
    "    return function_of_system(timestep, functions, data, methode, t0)\n",
    "\n",
    "\n"
   ]
  },
  {
   "source": [
    "## Comparing $\\alpha$'s"
   ],
   "cell_type": "markdown",
   "metadata": {}
  },
  {
   "cell_type": "code",
   "execution_count": null,
   "metadata": {},
   "outputs": [],
   "source": []
  },
  {
   "source": [
    "## Testruns\n",
    "This section is purely for testing new implementations in the code"
   ],
   "cell_type": "markdown",
   "metadata": {}
  },
  {
   "cell_type": "code",
   "execution_count": 21,
   "metadata": {},
   "outputs": [
    {
     "output_type": "stream",
     "name": "stdout",
     "text": [
      "constant took: 0.034533023834228516 heaviside took: 0.25223684310913086\n"
     ]
    },
    {
     "output_type": "display_data",
     "data": {
      "text/plain": "<Figure size 432x288 with 1 Axes>",
      "image/svg+xml": "<?xml version=\"1.0\" encoding=\"utf-8\" standalone=\"no\"?>\r\n<!DOCTYPE svg PUBLIC \"-//W3C//DTD SVG 1.1//EN\"\r\n  \"http://www.w3.org/Graphics/SVG/1.1/DTD/svg11.dtd\">\r\n<!-- Created with matplotlib (https://matplotlib.org/) -->\r\n<svg height=\"248.518125pt\" version=\"1.1\" viewBox=\"0 0 372.103125 248.518125\" width=\"372.103125pt\" xmlns=\"http://www.w3.org/2000/svg\" xmlns:xlink=\"http://www.w3.org/1999/xlink\">\r\n <metadata>\r\n  <rdf:RDF xmlns:cc=\"http://creativecommons.org/ns#\" xmlns:dc=\"http://purl.org/dc/elements/1.1/\" xmlns:rdf=\"http://www.w3.org/1999/02/22-rdf-syntax-ns#\">\r\n   <cc:Work>\r\n    <dc:type rdf:resource=\"http://purl.org/dc/dcmitype/StillImage\"/>\r\n    <dc:date>2021-05-21T21:24:13.982421</dc:date>\r\n    <dc:format>image/svg+xml</dc:format>\r\n    <dc:creator>\r\n     <cc:Agent>\r\n      <dc:title>Matplotlib v3.3.2, https://matplotlib.org/</dc:title>\r\n     </cc:Agent>\r\n    </dc:creator>\r\n   </cc:Work>\r\n  </rdf:RDF>\r\n </metadata>\r\n <defs>\r\n  <style type=\"text/css\">*{stroke-linecap:butt;stroke-linejoin:round;}</style>\r\n </defs>\r\n <g id=\"figure_1\">\r\n  <g id=\"patch_1\">\r\n   <path d=\"M 0 248.518125 \r\nL 372.103125 248.518125 \r\nL 372.103125 0 \r\nL 0 0 \r\nz\r\n\" style=\"fill:none;\"/>\r\n  </g>\r\n  <g id=\"axes_1\">\r\n   <g id=\"patch_2\">\r\n    <path d=\"M 30.103125 224.64 \r\nL 364.903125 224.64 \r\nL 364.903125 7.2 \r\nL 30.103125 7.2 \r\nz\r\n\" style=\"fill:#ffffff;\"/>\r\n   </g>\r\n   <g id=\"matplotlib.axis_1\">\r\n    <g id=\"xtick_1\">\r\n     <g id=\"line2d_1\">\r\n      <defs>\r\n       <path d=\"M 0 0 \r\nL 0 3.5 \r\n\" id=\"m4494b11bbf\" style=\"stroke:#000000;stroke-width:0.8;\"/>\r\n      </defs>\r\n      <g>\r\n       <use style=\"stroke:#000000;stroke-width:0.8;\" x=\"45.321307\" xlink:href=\"#m4494b11bbf\" y=\"224.64\"/>\r\n      </g>\r\n     </g>\r\n     <g id=\"text_1\">\r\n      <!-- 0 -->\r\n      <g transform=\"translate(42.140057 239.238438)scale(0.1 -0.1)\">\r\n       <defs>\r\n        <path d=\"M 31.78125 66.40625 \r\nQ 24.171875 66.40625 20.328125 58.90625 \r\nQ 16.5 51.421875 16.5 36.375 \r\nQ 16.5 21.390625 20.328125 13.890625 \r\nQ 24.171875 6.390625 31.78125 6.390625 \r\nQ 39.453125 6.390625 43.28125 13.890625 \r\nQ 47.125 21.390625 47.125 36.375 \r\nQ 47.125 51.421875 43.28125 58.90625 \r\nQ 39.453125 66.40625 31.78125 66.40625 \r\nz\r\nM 31.78125 74.21875 \r\nQ 44.046875 74.21875 50.515625 64.515625 \r\nQ 56.984375 54.828125 56.984375 36.375 \r\nQ 56.984375 17.96875 50.515625 8.265625 \r\nQ 44.046875 -1.421875 31.78125 -1.421875 \r\nQ 19.53125 -1.421875 13.0625 8.265625 \r\nQ 6.59375 17.96875 6.59375 36.375 \r\nQ 6.59375 54.828125 13.0625 64.515625 \r\nQ 19.53125 74.21875 31.78125 74.21875 \r\nz\r\n\" id=\"DejaVuSans-48\"/>\r\n       </defs>\r\n       <use xlink:href=\"#DejaVuSans-48\"/>\r\n      </g>\r\n     </g>\r\n    </g>\r\n    <g id=\"xtick_2\">\r\n     <g id=\"line2d_2\">\r\n      <g>\r\n       <use style=\"stroke:#000000;stroke-width:0.8;\" x=\"106.194034\" xlink:href=\"#m4494b11bbf\" y=\"224.64\"/>\r\n      </g>\r\n     </g>\r\n     <g id=\"text_2\">\r\n      <!-- 20 -->\r\n      <g transform=\"translate(99.831534 239.238438)scale(0.1 -0.1)\">\r\n       <defs>\r\n        <path d=\"M 19.1875 8.296875 \r\nL 53.609375 8.296875 \r\nL 53.609375 0 \r\nL 7.328125 0 \r\nL 7.328125 8.296875 \r\nQ 12.9375 14.109375 22.625 23.890625 \r\nQ 32.328125 33.6875 34.8125 36.53125 \r\nQ 39.546875 41.84375 41.421875 45.53125 \r\nQ 43.3125 49.21875 43.3125 52.78125 \r\nQ 43.3125 58.59375 39.234375 62.25 \r\nQ 35.15625 65.921875 28.609375 65.921875 \r\nQ 23.96875 65.921875 18.8125 64.3125 \r\nQ 13.671875 62.703125 7.8125 59.421875 \r\nL 7.8125 69.390625 \r\nQ 13.765625 71.78125 18.9375 73 \r\nQ 24.125 74.21875 28.421875 74.21875 \r\nQ 39.75 74.21875 46.484375 68.546875 \r\nQ 53.21875 62.890625 53.21875 53.421875 \r\nQ 53.21875 48.921875 51.53125 44.890625 \r\nQ 49.859375 40.875 45.40625 35.40625 \r\nQ 44.1875 33.984375 37.640625 27.21875 \r\nQ 31.109375 20.453125 19.1875 8.296875 \r\nz\r\n\" id=\"DejaVuSans-50\"/>\r\n       </defs>\r\n       <use xlink:href=\"#DejaVuSans-50\"/>\r\n       <use x=\"63.623047\" xlink:href=\"#DejaVuSans-48\"/>\r\n      </g>\r\n     </g>\r\n    </g>\r\n    <g id=\"xtick_3\">\r\n     <g id=\"line2d_3\">\r\n      <g>\r\n       <use style=\"stroke:#000000;stroke-width:0.8;\" x=\"167.066761\" xlink:href=\"#m4494b11bbf\" y=\"224.64\"/>\r\n      </g>\r\n     </g>\r\n     <g id=\"text_3\">\r\n      <!-- 40 -->\r\n      <g transform=\"translate(160.704261 239.238438)scale(0.1 -0.1)\">\r\n       <defs>\r\n        <path d=\"M 37.796875 64.3125 \r\nL 12.890625 25.390625 \r\nL 37.796875 25.390625 \r\nz\r\nM 35.203125 72.90625 \r\nL 47.609375 72.90625 \r\nL 47.609375 25.390625 \r\nL 58.015625 25.390625 \r\nL 58.015625 17.1875 \r\nL 47.609375 17.1875 \r\nL 47.609375 0 \r\nL 37.796875 0 \r\nL 37.796875 17.1875 \r\nL 4.890625 17.1875 \r\nL 4.890625 26.703125 \r\nz\r\n\" id=\"DejaVuSans-52\"/>\r\n       </defs>\r\n       <use xlink:href=\"#DejaVuSans-52\"/>\r\n       <use x=\"63.623047\" xlink:href=\"#DejaVuSans-48\"/>\r\n      </g>\r\n     </g>\r\n    </g>\r\n    <g id=\"xtick_4\">\r\n     <g id=\"line2d_4\">\r\n      <g>\r\n       <use style=\"stroke:#000000;stroke-width:0.8;\" x=\"227.939489\" xlink:href=\"#m4494b11bbf\" y=\"224.64\"/>\r\n      </g>\r\n     </g>\r\n     <g id=\"text_4\">\r\n      <!-- 60 -->\r\n      <g transform=\"translate(221.576989 239.238438)scale(0.1 -0.1)\">\r\n       <defs>\r\n        <path d=\"M 33.015625 40.375 \r\nQ 26.375 40.375 22.484375 35.828125 \r\nQ 18.609375 31.296875 18.609375 23.390625 \r\nQ 18.609375 15.53125 22.484375 10.953125 \r\nQ 26.375 6.390625 33.015625 6.390625 \r\nQ 39.65625 6.390625 43.53125 10.953125 \r\nQ 47.40625 15.53125 47.40625 23.390625 \r\nQ 47.40625 31.296875 43.53125 35.828125 \r\nQ 39.65625 40.375 33.015625 40.375 \r\nz\r\nM 52.59375 71.296875 \r\nL 52.59375 62.3125 \r\nQ 48.875 64.0625 45.09375 64.984375 \r\nQ 41.3125 65.921875 37.59375 65.921875 \r\nQ 27.828125 65.921875 22.671875 59.328125 \r\nQ 17.53125 52.734375 16.796875 39.40625 \r\nQ 19.671875 43.65625 24.015625 45.921875 \r\nQ 28.375 48.1875 33.59375 48.1875 \r\nQ 44.578125 48.1875 50.953125 41.515625 \r\nQ 57.328125 34.859375 57.328125 23.390625 \r\nQ 57.328125 12.15625 50.6875 5.359375 \r\nQ 44.046875 -1.421875 33.015625 -1.421875 \r\nQ 20.359375 -1.421875 13.671875 8.265625 \r\nQ 6.984375 17.96875 6.984375 36.375 \r\nQ 6.984375 53.65625 15.1875 63.9375 \r\nQ 23.390625 74.21875 37.203125 74.21875 \r\nQ 40.921875 74.21875 44.703125 73.484375 \r\nQ 48.484375 72.75 52.59375 71.296875 \r\nz\r\n\" id=\"DejaVuSans-54\"/>\r\n       </defs>\r\n       <use xlink:href=\"#DejaVuSans-54\"/>\r\n       <use x=\"63.623047\" xlink:href=\"#DejaVuSans-48\"/>\r\n      </g>\r\n     </g>\r\n    </g>\r\n    <g id=\"xtick_5\">\r\n     <g id=\"line2d_5\">\r\n      <g>\r\n       <use style=\"stroke:#000000;stroke-width:0.8;\" x=\"288.812216\" xlink:href=\"#m4494b11bbf\" y=\"224.64\"/>\r\n      </g>\r\n     </g>\r\n     <g id=\"text_5\">\r\n      <!-- 80 -->\r\n      <g transform=\"translate(282.449716 239.238438)scale(0.1 -0.1)\">\r\n       <defs>\r\n        <path d=\"M 31.78125 34.625 \r\nQ 24.75 34.625 20.71875 30.859375 \r\nQ 16.703125 27.09375 16.703125 20.515625 \r\nQ 16.703125 13.921875 20.71875 10.15625 \r\nQ 24.75 6.390625 31.78125 6.390625 \r\nQ 38.8125 6.390625 42.859375 10.171875 \r\nQ 46.921875 13.96875 46.921875 20.515625 \r\nQ 46.921875 27.09375 42.890625 30.859375 \r\nQ 38.875 34.625 31.78125 34.625 \r\nz\r\nM 21.921875 38.8125 \r\nQ 15.578125 40.375 12.03125 44.71875 \r\nQ 8.5 49.078125 8.5 55.328125 \r\nQ 8.5 64.0625 14.71875 69.140625 \r\nQ 20.953125 74.21875 31.78125 74.21875 \r\nQ 42.671875 74.21875 48.875 69.140625 \r\nQ 55.078125 64.0625 55.078125 55.328125 \r\nQ 55.078125 49.078125 51.53125 44.71875 \r\nQ 48 40.375 41.703125 38.8125 \r\nQ 48.828125 37.15625 52.796875 32.3125 \r\nQ 56.78125 27.484375 56.78125 20.515625 \r\nQ 56.78125 9.90625 50.3125 4.234375 \r\nQ 43.84375 -1.421875 31.78125 -1.421875 \r\nQ 19.734375 -1.421875 13.25 4.234375 \r\nQ 6.78125 9.90625 6.78125 20.515625 \r\nQ 6.78125 27.484375 10.78125 32.3125 \r\nQ 14.796875 37.15625 21.921875 38.8125 \r\nz\r\nM 18.3125 54.390625 \r\nQ 18.3125 48.734375 21.84375 45.5625 \r\nQ 25.390625 42.390625 31.78125 42.390625 \r\nQ 38.140625 42.390625 41.71875 45.5625 \r\nQ 45.3125 48.734375 45.3125 54.390625 \r\nQ 45.3125 60.0625 41.71875 63.234375 \r\nQ 38.140625 66.40625 31.78125 66.40625 \r\nQ 25.390625 66.40625 21.84375 63.234375 \r\nQ 18.3125 60.0625 18.3125 54.390625 \r\nz\r\n\" id=\"DejaVuSans-56\"/>\r\n       </defs>\r\n       <use xlink:href=\"#DejaVuSans-56\"/>\r\n       <use x=\"63.623047\" xlink:href=\"#DejaVuSans-48\"/>\r\n      </g>\r\n     </g>\r\n    </g>\r\n    <g id=\"xtick_6\">\r\n     <g id=\"line2d_6\">\r\n      <g>\r\n       <use style=\"stroke:#000000;stroke-width:0.8;\" x=\"349.684943\" xlink:href=\"#m4494b11bbf\" y=\"224.64\"/>\r\n      </g>\r\n     </g>\r\n     <g id=\"text_6\">\r\n      <!-- 100 -->\r\n      <g transform=\"translate(340.141193 239.238438)scale(0.1 -0.1)\">\r\n       <defs>\r\n        <path d=\"M 12.40625 8.296875 \r\nL 28.515625 8.296875 \r\nL 28.515625 63.921875 \r\nL 10.984375 60.40625 \r\nL 10.984375 69.390625 \r\nL 28.421875 72.90625 \r\nL 38.28125 72.90625 \r\nL 38.28125 8.296875 \r\nL 54.390625 8.296875 \r\nL 54.390625 0 \r\nL 12.40625 0 \r\nz\r\n\" id=\"DejaVuSans-49\"/>\r\n       </defs>\r\n       <use xlink:href=\"#DejaVuSans-49\"/>\r\n       <use x=\"63.623047\" xlink:href=\"#DejaVuSans-48\"/>\r\n       <use x=\"127.246094\" xlink:href=\"#DejaVuSans-48\"/>\r\n      </g>\r\n     </g>\r\n    </g>\r\n   </g>\r\n   <g id=\"matplotlib.axis_2\">\r\n    <g id=\"ytick_1\">\r\n     <g id=\"line2d_7\">\r\n      <defs>\r\n       <path d=\"M 0 0 \r\nL -3.5 0 \r\n\" id=\"m5401a8c364\" style=\"stroke:#000000;stroke-width:0.8;\"/>\r\n      </defs>\r\n      <g>\r\n       <use style=\"stroke:#000000;stroke-width:0.8;\" x=\"30.103125\" xlink:href=\"#m5401a8c364\" y=\"214.935027\"/>\r\n      </g>\r\n     </g>\r\n     <g id=\"text_7\">\r\n      <!-- 0.0 -->\r\n      <g transform=\"translate(7.2 218.734246)scale(0.1 -0.1)\">\r\n       <defs>\r\n        <path d=\"M 10.6875 12.40625 \r\nL 21 12.40625 \r\nL 21 0 \r\nL 10.6875 0 \r\nz\r\n\" id=\"DejaVuSans-46\"/>\r\n       </defs>\r\n       <use xlink:href=\"#DejaVuSans-48\"/>\r\n       <use x=\"63.623047\" xlink:href=\"#DejaVuSans-46\"/>\r\n       <use x=\"95.410156\" xlink:href=\"#DejaVuSans-48\"/>\r\n      </g>\r\n     </g>\r\n    </g>\r\n    <g id=\"ytick_2\">\r\n     <g id=\"line2d_8\">\r\n      <g>\r\n       <use style=\"stroke:#000000;stroke-width:0.8;\" x=\"30.103125\" xlink:href=\"#m5401a8c364\" y=\"175.325139\"/>\r\n      </g>\r\n     </g>\r\n     <g id=\"text_8\">\r\n      <!-- 0.2 -->\r\n      <g transform=\"translate(7.2 179.124358)scale(0.1 -0.1)\">\r\n       <use xlink:href=\"#DejaVuSans-48\"/>\r\n       <use x=\"63.623047\" xlink:href=\"#DejaVuSans-46\"/>\r\n       <use x=\"95.410156\" xlink:href=\"#DejaVuSans-50\"/>\r\n      </g>\r\n     </g>\r\n    </g>\r\n    <g id=\"ytick_3\">\r\n     <g id=\"line2d_9\">\r\n      <g>\r\n       <use style=\"stroke:#000000;stroke-width:0.8;\" x=\"30.103125\" xlink:href=\"#m5401a8c364\" y=\"135.715251\"/>\r\n      </g>\r\n     </g>\r\n     <g id=\"text_9\">\r\n      <!-- 0.4 -->\r\n      <g transform=\"translate(7.2 139.51447)scale(0.1 -0.1)\">\r\n       <use xlink:href=\"#DejaVuSans-48\"/>\r\n       <use x=\"63.623047\" xlink:href=\"#DejaVuSans-46\"/>\r\n       <use x=\"95.410156\" xlink:href=\"#DejaVuSans-52\"/>\r\n      </g>\r\n     </g>\r\n    </g>\r\n    <g id=\"ytick_4\">\r\n     <g id=\"line2d_10\">\r\n      <g>\r\n       <use style=\"stroke:#000000;stroke-width:0.8;\" x=\"30.103125\" xlink:href=\"#m5401a8c364\" y=\"96.105363\"/>\r\n      </g>\r\n     </g>\r\n     <g id=\"text_10\">\r\n      <!-- 0.6 -->\r\n      <g transform=\"translate(7.2 99.904582)scale(0.1 -0.1)\">\r\n       <use xlink:href=\"#DejaVuSans-48\"/>\r\n       <use x=\"63.623047\" xlink:href=\"#DejaVuSans-46\"/>\r\n       <use x=\"95.410156\" xlink:href=\"#DejaVuSans-54\"/>\r\n      </g>\r\n     </g>\r\n    </g>\r\n    <g id=\"ytick_5\">\r\n     <g id=\"line2d_11\">\r\n      <g>\r\n       <use style=\"stroke:#000000;stroke-width:0.8;\" x=\"30.103125\" xlink:href=\"#m5401a8c364\" y=\"56.495475\"/>\r\n      </g>\r\n     </g>\r\n     <g id=\"text_11\">\r\n      <!-- 0.8 -->\r\n      <g transform=\"translate(7.2 60.294694)scale(0.1 -0.1)\">\r\n       <use xlink:href=\"#DejaVuSans-48\"/>\r\n       <use x=\"63.623047\" xlink:href=\"#DejaVuSans-46\"/>\r\n       <use x=\"95.410156\" xlink:href=\"#DejaVuSans-56\"/>\r\n      </g>\r\n     </g>\r\n    </g>\r\n    <g id=\"ytick_6\">\r\n     <g id=\"line2d_12\">\r\n      <g>\r\n       <use style=\"stroke:#000000;stroke-width:0.8;\" x=\"30.103125\" xlink:href=\"#m5401a8c364\" y=\"16.885587\"/>\r\n      </g>\r\n     </g>\r\n     <g id=\"text_12\">\r\n      <!-- 1.0 -->\r\n      <g transform=\"translate(7.2 20.684806)scale(0.1 -0.1)\">\r\n       <use xlink:href=\"#DejaVuSans-49\"/>\r\n       <use x=\"63.623047\" xlink:href=\"#DejaVuSans-46\"/>\r\n       <use x=\"95.410156\" xlink:href=\"#DejaVuSans-48\"/>\r\n      </g>\r\n     </g>\r\n    </g>\r\n   </g>\r\n   <g id=\"line2d_13\">\r\n    <path clip-path=\"url(#p2c7858f95b)\" d=\"M 45.321307 17.083636 \r\nL 51.31787 17.390301 \r\nL 55.45763 17.814402 \r\nL 58.653767 18.355771 \r\nL 61.241117 19.011719 \r\nL 63.493633 19.809534 \r\nL 65.533073 20.768624 \r\nL 67.328998 21.853805 \r\nL 68.972727 23.106885 \r\nL 70.525136 24.574949 \r\nL 72.016667 26.299497 \r\nL 73.477759 28.340615 \r\nL 74.908411 30.73026 \r\nL 76.339063 33.56301 \r\nL 77.769715 36.898338 \r\nL 79.230807 40.887785 \r\nL 80.752777 45.702356 \r\nL 82.274748 51.277413 \r\nL 83.827157 57.827487 \r\nL 85.501325 65.893883 \r\nL 87.358129 75.99634 \r\nL 89.549766 89.235485 \r\nL 93.050298 112.00702 \r\nL 97.007421 137.253659 \r\nL 99.381695 150.967003 \r\nL 101.390696 161.318201 \r\nL 103.21706 169.600475 \r\nL 104.921667 176.327517 \r\nL 106.534955 181.824144 \r\nL 108.148244 186.545663 \r\nL 109.761533 190.594654 \r\nL 111.374821 194.062867 \r\nL 113.018549 197.080813 \r\nL 114.662277 199.647517 \r\nL 116.336445 201.855706 \r\nL 118.010612 203.698169 \r\nL 119.776098 205.302681 \r\nL 121.69378 206.748553 \r\nL 123.76366 208.028536 \r\nL 126.016176 209.158615 \r\nL 128.512208 210.159139 \r\nL 131.251754 211.014113 \r\nL 134.478332 211.782843 \r\nL 138.283258 212.452739 \r\nL 142.910048 213.032602 \r\nL 148.663096 213.518391 \r\nL 156.212069 213.919905 \r\nL 166.652785 214.23851 \r\nL 182.481277 214.479201 \r\nL 209.754987 214.644097 \r\nL 268.868316 214.735896 \r\nL 349.684943 214.756364 \r\nL 349.684943 214.756364 \r\n\" style=\"fill:none;stroke:#ff0000;stroke-linecap:square;stroke-width:1.5;\"/>\r\n   </g>\r\n   <g id=\"line2d_14\">\r\n    <path clip-path=\"url(#p2c7858f95b)\" d=\"M 45.321307 17.083636 \r\nL 48.456566 17.194033 \r\nL 51.865779 17.286805 \r\nL 54.331371 17.38329 \r\nL 56.005539 17.442826 \r\nL 57.131797 17.531935 \r\nL 58.775525 17.725043 \r\nL 72.260183 17.855854 \r\nL 73.629956 17.972775 \r\nL 75.182366 18.069655 \r\nL 76.795654 18.327245 \r\nL 81.392005 18.53838 \r\nL 82.426945 18.738464 \r\nL 84.22287 18.934034 \r\nL 85.349128 19.279941 \r\nL 86.26231 19.276191 \r\nL 86.871098 19.353796 \r\nL 88.910538 20.061491 \r\nL 89.975918 20.12383 \r\nL 90.736903 20.64528 \r\nL 91.467449 21.029344 \r\nL 92.076237 21.098316 \r\nL 93.080737 21.142383 \r\nL 93.628647 21.611141 \r\nL 94.541829 22.363716 \r\nL 95.089738 22.514246 \r\nL 96.337754 22.680186 \r\nL 96.855224 23.439935 \r\nL 97.677088 24.595603 \r\nL 98.133679 24.890119 \r\nL 98.59027 24.919243 \r\nL 99.990483 24.810591 \r\nL 108.391759 24.89791 \r\nL 108.696153 25.282312 \r\nL 109.731093 26.825143 \r\nL 110.096366 26.939002 \r\nL 116.336445 26.846458 \r\nL 116.975672 26.950759 \r\nL 117.340945 27.395158 \r\nL 118.954234 29.700434 \r\nL 119.410825 29.838864 \r\nL 119.989174 29.746198 \r\nL 120.780598 29.663961 \r\nL 120.993674 29.963968 \r\nL 121.69378 31.221997 \r\nL 122.637402 31.154243 \r\nL 123.824539 31.261443 \r\nL 124.098494 31.953204 \r\nL 124.524645 32.894153 \r\nL 124.768161 32.988243 \r\nL 125.620464 32.900116 \r\nL 126.746722 32.988202 \r\nL 126.990237 33.461068 \r\nL 127.507707 35.146527 \r\nL 128.177374 37.101904 \r\nL 128.573087 37.63929 \r\nL 128.877481 37.721296 \r\nL 129.303632 37.556787 \r\nL 129.608026 37.506245 \r\nL 129.790663 37.799497 \r\nL 130.095057 38.847327 \r\nL 131.282194 43.452548 \r\nL 131.617027 43.866864 \r\nL 131.890982 43.886365 \r\nL 132.621528 43.708047 \r\nL 132.834604 44.355821 \r\nL 133.260755 46.632688 \r\nL 134.082619 50.963761 \r\nL 134.447892 51.877461 \r\nL 134.721847 52.083669 \r\nL 134.965362 52.005334 \r\nL 135.543711 51.701174 \r\nL 135.695908 52.067322 \r\nL 135.969863 53.486819 \r\nL 137.400515 62.19893 \r\nL 137.674469 62.575203 \r\nL 137.887545 62.566864 \r\nL 138.222379 62.258729 \r\nL 138.526773 62.063262 \r\nL 138.64853 62.25676 \r\nL 138.861606 63.261075 \r\nL 139.287758 66.764997 \r\nL 140.140061 73.776365 \r\nL 140.505334 75.246528 \r\nL 140.779289 75.62135 \r\nL 140.992365 75.567794 \r\nL 141.631592 74.980812 \r\nL 141.692471 75.083187 \r\nL 141.875108 75.888381 \r\nL 142.209941 78.713848 \r\nL 143.397078 89.707386 \r\nL 143.731912 90.861181 \r\nL 143.975427 91.065603 \r\nL 144.188503 90.918254 \r\nL 144.766851 90.287144 \r\nL 144.797291 90.3254 \r\nL 144.949488 90.871238 \r\nL 145.223442 93.001277 \r\nL 145.893109 100.723839 \r\nL 146.471458 106.155039 \r\nL 146.836731 107.911491 \r\nL 147.110686 108.346416 \r\nL 147.293322 108.297222 \r\nL 147.597716 107.866675 \r\nL 147.93255 107.469952 \r\nL 147.993429 107.52487 \r\nL 148.115186 108.302606 \r\nL 148.784853 113.977317 \r\nL 148.906611 113.955431 \r\nL 149.241444 113.673226 \r\nL 155.024932 113.763635 \r\nL 156.425144 113.8652 \r\nL 156.607781 114.501066 \r\nL 156.912175 116.562132 \r\nL 157.7036 124.136486 \r\nL 158.312388 128.802511 \r\nL 158.7081 130.438869 \r\nL 159.012494 130.921143 \r\nL 159.22557 130.927175 \r\nL 159.529964 130.634829 \r\nL 159.986555 130.210311 \r\nL 160.047434 130.289184 \r\nL 160.199631 131.197995 \r\nL 160.869298 136.160229 \r\nL 161.021495 136.225564 \r\nL 161.508526 135.940228 \r\nL 170.488151 136.026018 \r\nL 171.675288 136.133265 \r\nL 171.888364 136.783782 \r\nL 172.253636 138.871191 \r\nL 173.684289 147.967663 \r\nL 174.049561 148.855261 \r\nL 174.323516 149.058356 \r\nL 174.567031 148.982874 \r\nL 175.267138 148.491903 \r\nL 175.297577 148.535052 \r\nL 175.449774 149.104193 \r\nL 176.454275 154.054188 \r\nL 176.636911 153.978491 \r\nL 177.002184 153.777105 \r\nL 183.577096 153.665235 \r\nL 183.942369 153.451447 \r\nL 184.125005 153.584914 \r\nL 184.338081 154.053922 \r\nL 184.642475 155.33054 \r\nL 185.586097 159.841585 \r\nL 185.799173 159.907594 \r\nL 186.164446 159.711937 \r\nL 186.590597 159.573831 \r\nL 187.138507 159.709515 \r\nL 187.321143 160.118834 \r\nL 187.655977 161.547903 \r\nL 188.690917 166.316403 \r\nL 189.056189 166.971718 \r\nL 189.330144 167.056252 \r\nL 189.664978 166.869566 \r\nL 190.03025 166.722923 \r\nL 190.182447 166.911481 \r\nL 190.456402 167.717831 \r\nL 191.034751 170.380329 \r\nL 191.734857 173.294313 \r\nL 192.161009 174.230603 \r\nL 192.465403 174.46214 \r\nL 192.769797 174.409981 \r\nL 193.439464 174.1583 \r\nL 193.622101 174.630647 \r\nL 194.504843 177.466253 \r\nL 194.717919 177.48751 \r\nL 195.326707 177.335758 \r\nL 202.084256 177.223124 \r\nL 202.38865 177.210747 \r\nL 202.632165 177.417234 \r\nL 202.966999 178.045626 \r\nL 203.697544 179.511622 \r\nL 205.493469 179.517843 \r\nL 209.115759 179.635486 \r\nL 209.359274 180.169693 \r\nL 209.968062 181.57542 \r\nL 210.242017 181.714008 \r\nL 211.946624 181.642971 \r\nL 212.190139 181.99618 \r\nL 212.585851 182.62559 \r\nL 212.890246 182.646246 \r\nL 213.772988 182.546388 \r\nL 215.081883 182.558792 \r\nL 220.86537 182.677784 \r\nL 221.200204 183.286355 \r\nL 221.778553 184.265101 \r\nL 222.082947 184.403064 \r\nL 223.087447 184.287779 \r\nL 223.97019 184.29276 \r\nL 224.274584 184.550386 \r\nL 224.852933 185.183918 \r\nL 225.279084 185.149634 \r\nL 226.04007 185.091134 \r\nL 227.622919 185.109264 \r\nL 238.946378 185.228038 \r\nL 239.40297 185.734075 \r\nL 240.468349 186.974791 \r\nL 240.955379 187.197692 \r\nL 241.503289 187.182341 \r\nL 242.172956 187.168922 \r\nL 242.538229 187.533184 \r\nL 243.360093 188.378209 \r\nL 243.786244 188.472984 \r\nL 245.369093 188.491181 \r\nL 245.825685 188.944322 \r\nL 246.495351 189.61707 \r\nL 246.921503 189.648086 \r\nL 248.199958 189.623422 \r\nL 248.565231 189.860404 \r\nL 250.087202 191.114607 \r\nL 250.635111 191.128513 \r\nL 251.365657 191.129549 \r\nL 251.822248 191.466665 \r\nL 253.161582 192.574709 \r\nL 253.709491 192.687529 \r\nL 254.957507 192.797888 \r\nL 255.84025 193.425917 \r\nL 256.32728 193.424948 \r\nL 257.331781 193.398193 \r\nL 257.849251 193.647941 \r\nL 258.488478 193.954635 \r\nL 349.684943 193.972234 \r\nL 349.684943 193.972234 \r\n\" style=\"fill:none;stroke:#008000;stroke-linecap:square;stroke-width:1.5;\"/>\r\n   </g>\r\n   <g id=\"line2d_15\">\r\n    <path clip-path=\"url(#p2c7858f95b)\" d=\"M 45.321307 214.736978 \r\nL 51.713582 214.44772 \r\nL 56.066418 214.037569 \r\nL 59.353874 213.514523 \r\nL 62.032542 212.869097 \r\nL 64.345937 212.085752 \r\nL 66.415816 211.156521 \r\nL 68.242181 210.093723 \r\nL 69.916348 208.859171 \r\nL 71.499197 207.410026 \r\nL 73.021168 205.708975 \r\nL 74.512699 203.701161 \r\nL 75.97379 201.359406 \r\nL 77.434882 198.5972 \r\nL 78.926413 195.290035 \r\nL 80.509262 191.210497 \r\nL 82.061672 186.585734 \r\nL 83.67496 181.060524 \r\nL 85.410007 174.297025 \r\nL 87.388568 165.646933 \r\nL 90.006357 153.102805 \r\nL 94.602708 130.984472 \r\nL 96.642148 122.337447 \r\nL 98.346755 116.029157 \r\nL 99.838286 111.313271 \r\nL 101.17762 107.769579 \r\nL 102.395196 105.134518 \r\nL 103.521454 103.196101 \r\nL 104.556394 101.829805 \r\nL 105.530455 100.893626 \r\nL 106.443637 100.30779 \r\nL 107.356819 99.982362 \r\nL 108.270002 99.890967 \r\nL 109.213623 100.019051 \r\nL 110.248563 100.393157 \r\nL 111.374821 101.046892 \r\nL 112.653276 102.061002 \r\nL 114.083929 103.489643 \r\nL 115.758096 105.49111 \r\nL 117.706218 108.18657 \r\nL 120.141371 111.968654 \r\nL 123.76366 118.035781 \r\nL 135.817666 138.506177 \r\nL 140.048743 145.108877 \r\nL 144.036306 150.923168 \r\nL 147.90211 156.168999 \r\nL 151.707036 160.960194 \r\nL 155.481523 165.359774 \r\nL 159.286449 169.455346 \r\nL 163.121814 173.258736 \r\nL 167.018058 176.810027 \r\nL 170.975181 180.116975 \r\nL 175.023623 183.21118 \r\nL 179.163382 186.096898 \r\nL 183.424899 188.798108 \r\nL 187.838613 191.333029 \r\nL 192.434964 193.714807 \r\nL 197.213951 195.939027 \r\nL 202.206013 198.015748 \r\nL 207.441592 199.951786 \r\nL 212.981564 201.760945 \r\nL 218.82593 203.434218 \r\nL 225.066009 204.987691 \r\nL 231.762678 206.422816 \r\nL 238.976818 207.738558 \r\nL 246.830185 208.941182 \r\nL 255.414098 210.027345 \r\nL 264.911193 211.00149 \r\nL 275.564986 211.866272 \r\nL 287.67987 212.621205 \r\nL 301.712437 213.266874 \r\nL 318.393232 213.804264 \r\nL 338.909393 214.234289 \r\nL 349.684943 214.389826 \r\nL 349.684943 214.389826 \r\n\" style=\"fill:none;stroke:#ff0000;stroke-dasharray:5.55,2.4;stroke-dashoffset:0;stroke-width:1.5;\"/>\r\n   </g>\r\n   <g id=\"line2d_16\">\r\n    <path clip-path=\"url(#p2c7858f95b)\" d=\"M 45.321307 214.736978 \r\nL 48.487005 214.641468 \r\nL 51.804901 214.57676 \r\nL 54.331371 214.502464 \r\nL 55.975099 214.460611 \r\nL 57.131797 214.385415 \r\nL 58.745086 214.217081 \r\nL 72.321061 214.27051 \r\nL 73.660395 214.186414 \r\nL 75.151926 214.122687 \r\nL 76.795654 213.894566 \r\nL 81.392005 213.791082 \r\nL 82.426945 213.620823 \r\nL 84.22287 213.481302 \r\nL 85.318688 213.180396 \r\nL 86.201431 213.213664 \r\nL 86.840659 213.177251 \r\nL 87.845159 212.717507 \r\nL 88.545266 212.554739 \r\nL 89.36713 212.619464 \r\nL 89.915039 212.584909 \r\nL 90.554266 212.20443 \r\nL 91.37613 211.774532 \r\nL 91.984919 211.71842 \r\nL 93.141616 211.725054 \r\nL 93.750404 211.223708 \r\nL 94.511389 210.677816 \r\nL 95.028859 210.568277 \r\nL 95.728966 210.688832 \r\nL 96.155117 210.679318 \r\nL 96.489951 210.355915 \r\nL 97.981482 208.595773 \r\nL 98.407634 208.551217 \r\nL 106.017486 209.679923 \r\nL 108.422199 209.87978 \r\nL 108.726593 209.506743 \r\nL 109.670214 208.19433 \r\nL 110.035487 208.095656 \r\nL 110.522518 208.254893 \r\nL 111.161745 208.374571 \r\nL 116.914793 209.133631 \r\nL 117.219188 208.864783 \r\nL 117.827976 207.944532 \r\nL 118.588961 206.920573 \r\nL 119.045552 206.644336 \r\nL 119.471704 206.638509 \r\nL 120.384886 206.967059 \r\nL 120.780598 207.065086 \r\nL 120.993674 206.805127 \r\nL 121.663341 205.682571 \r\nL 123.24619 206.085176 \r\nL 123.824539 206.100978 \r\nL 124.098494 205.468016 \r\nL 124.524645 204.625603 \r\nL 124.737721 204.579421 \r\nL 126.259692 205.030416 \r\nL 126.746722 205.057548 \r\nL 126.959798 204.71258 \r\nL 127.38595 203.486675 \r\nL 128.146935 201.386769 \r\nL 128.512208 200.951523 \r\nL 128.786162 200.910183 \r\nL 129.151435 201.123994 \r\nL 129.638466 201.381324 \r\nL 129.821102 201.094621 \r\nL 130.155936 199.977809 \r\nL 131.160436 196.30109 \r\nL 131.49527 195.854523 \r\nL 131.738785 195.830769 \r\nL 132.043179 196.060102 \r\nL 132.560649 196.481562 \r\nL 132.712846 196.246302 \r\nL 132.986801 195.229706 \r\nL 134.326135 189.3523 \r\nL 134.600089 189.137641 \r\nL 134.813165 189.228393 \r\nL 135.178438 189.694498 \r\nL 135.543711 190.045506 \r\nL 135.665469 189.853921 \r\nL 135.908984 188.859678 \r\nL 136.426454 185.435989 \r\nL 137.065681 181.740746 \r\nL 137.400515 180.828238 \r\nL 137.64403 180.665463 \r\nL 137.857106 180.814646 \r\nL 138.252818 181.489727 \r\nL 138.557212 181.876058 \r\nL 138.67897 181.699399 \r\nL 138.892046 180.764104 \r\nL 139.318197 177.531484 \r\nL 140.079183 171.871925 \r\nL 140.444455 170.579616 \r\nL 140.687971 170.355803 \r\nL 140.870607 170.478689 \r\nL 141.175001 171.058288 \r\nL 141.631592 171.921105 \r\nL 141.722911 171.826606 \r\nL 141.905547 171.099086 \r\nL 142.240381 168.516021 \r\nL 143.30576 159.604369 \r\nL 143.640593 158.585753 \r\nL 143.82323 158.487435 \r\nL 144.005866 158.664982 \r\nL 144.31026 159.380406 \r\nL 144.797291 160.443674 \r\nL 144.919048 160.207741 \r\nL 145.132124 159.04478 \r\nL 145.558276 155.055749 \r\nL 146.38014 147.505883 \r\nL 146.745413 145.975228 \r\nL 146.958489 145.733766 \r\nL 147.110686 145.825941 \r\nL 147.354201 146.335108 \r\nL 147.993429 148.076039 \r\nL 148.023868 148.005329 \r\nL 148.176065 146.970648 \r\nL 148.693535 142.970634 \r\nL 148.784853 142.91769 \r\nL 148.815293 142.94715 \r\nL 148.997929 143.442686 \r\nL 149.302323 144.09207 \r\nL 152.194067 148.693083 \r\nL 155.390205 153.437432 \r\nL 156.425144 154.814207 \r\nL 156.455584 154.791035 \r\nL 156.607781 154.438554 \r\nL 156.881736 153.022149 \r\nL 157.460084 148.427683 \r\nL 158.160191 143.464296 \r\nL 158.555903 142.036091 \r\nL 158.799418 141.752577 \r\nL 158.982055 141.817183 \r\nL 159.22557 142.211644 \r\nL 159.74304 143.658786 \r\nL 160.016995 144.264691 \r\nL 160.047434 144.250743 \r\nL 160.169192 143.787347 \r\nL 160.869298 139.788297 \r\nL 160.899737 139.796971 \r\nL 161.051934 140.071933 \r\nL 161.569404 141.23435 \r\nL 164.552466 146.179728 \r\nL 167.779044 151.174696 \r\nL 170.914302 155.670282 \r\nL 171.705727 156.597403 \r\nL 171.857924 156.34026 \r\nL 172.131879 155.305686 \r\nL 172.740667 151.789328 \r\nL 173.379894 148.569903 \r\nL 173.775607 147.570522 \r\nL 174.019122 147.405889 \r\nL 174.232198 147.524456 \r\nL 174.536592 148.036669 \r\nL 175.297577 149.696138 \r\nL 175.358456 149.625322 \r\nL 175.541092 148.961331 \r\nL 176.241199 145.9647 \r\nL 176.393396 145.942441 \r\nL 176.576032 146.230625 \r\nL 177.276139 147.599995 \r\nL 180.502716 152.493573 \r\nL 184.216324 157.75394 \r\nL 184.39896 157.488419 \r\nL 184.672915 156.621925 \r\nL 185.525218 153.546814 \r\nL 185.707855 153.669287 \r\nL 186.073127 154.331578 \r\nL 186.712355 155.415028 \r\nL 187.199386 155.872892 \r\nL 187.382022 155.60777 \r\nL 187.716855 154.543013 \r\nL 188.569159 151.690522 \r\nL 188.873553 151.358034 \r\nL 189.086629 151.408056 \r\nL 189.360583 151.765072 \r\nL 190.182447 153.112795 \r\nL 190.212887 153.094051 \r\nL 190.425963 152.774595 \r\nL 190.821675 151.626337 \r\nL 191.643539 149.202132 \r\nL 191.978373 148.795721 \r\nL 192.221888 148.788633 \r\nL 192.495842 149.050611 \r\nL 192.921994 149.85823 \r\nL 193.469903 150.806509 \r\nL 193.622101 150.612324 \r\nL 194.443965 149.089736 \r\nL 194.626601 149.274389 \r\nL 197.305269 153.42953 \r\nL 200.83624 158.320731 \r\nL 202.662605 160.579273 \r\nL 202.936559 160.414236 \r\nL 203.636666 159.810371 \r\nL 203.880181 160.09316 \r\nL 207.319834 164.342258 \r\nL 209.115759 166.31332 \r\nL 209.298395 166.149645 \r\nL 209.968062 165.355245 \r\nL 210.181138 165.467511 \r\nL 210.729048 166.205854 \r\nL 212.007503 167.544989 \r\nL 212.220579 167.423569 \r\nL 212.494533 167.233313 \r\nL 212.738048 167.401319 \r\nL 216.999566 172.018372 \r\nL 220.713173 175.595105 \r\nL 220.89581 175.612902 \r\nL 221.169764 175.362078 \r\nL 221.687234 174.899503 \r\nL 221.961189 174.942991 \r\nL 222.296022 175.269032 \r\nL 223.148326 176.14273 \r\nL 224.000629 176.882641 \r\nL 224.305023 176.869374 \r\nL 224.761614 176.715962 \r\nL 225.126887 177.017134 \r\nL 226.344464 178.158621 \r\nL 230.240708 181.360551 \r\nL 235.050134 184.972665 \r\nL 238.702863 187.420631 \r\nL 239.007257 187.439267 \r\nL 239.463848 187.200017 \r\nL 240.346591 186.715467 \r\nL 240.803182 186.737847 \r\nL 241.290213 187.003968 \r\nL 242.264274 187.611589 \r\nL 242.690426 187.398136 \r\nL 243.238335 187.175394 \r\nL 243.634047 187.267329 \r\nL 244.242835 187.719162 \r\nL 245.308215 188.347217 \r\nL 245.703927 188.246333 \r\nL 246.525791 187.938209 \r\nL 246.982382 188.211929 \r\nL 248.169519 188.971425 \r\nL 248.504352 188.983621 \r\nL 249.174019 188.703978 \r\nL 249.752368 188.5784 \r\nL 250.239399 188.715624 \r\nL 250.969944 189.222204 \r\nL 251.426536 189.417594 \r\nL 251.883127 189.327929 \r\nL 253.009385 189.031029 \r\nL 253.526855 189.170877 \r\nL 254.226961 189.626421 \r\nL 254.80531 189.924577 \r\nL 255.32278 189.78448 \r\nL 255.779371 189.773256 \r\nL 256.235962 190.014033 \r\nL 257.392659 190.701699 \r\nL 257.910129 190.723281 \r\nL 258.458039 190.768825 \r\nL 264.606799 194.008612 \r\nL 269.385786 196.221209 \r\nL 274.286531 198.2483 \r\nL 279.613427 200.209932 \r\nL 285.031641 201.970664 \r\nL 290.876008 203.631764 \r\nL 297.146526 205.179966 \r\nL 303.812756 206.594564 \r\nL 311.026896 207.892815 \r\nL 318.849823 209.071993 \r\nL 327.555494 210.156362 \r\nL 336.961271 211.102758 \r\nL 347.736821 211.958966 \r\nL 349.684943 212.091747 \r\nL 349.684943 212.091747 \r\n\" style=\"fill:none;stroke:#008000;stroke-dasharray:5.55,2.4;stroke-dashoffset:0;stroke-width:1.5;\"/>\r\n   </g>\r\n   <g id=\"patch_3\">\r\n    <path d=\"M 30.103125 224.64 \r\nL 30.103125 7.2 \r\n\" style=\"fill:none;stroke:#000000;stroke-linecap:square;stroke-linejoin:miter;stroke-width:0.8;\"/>\r\n   </g>\r\n   <g id=\"patch_4\">\r\n    <path d=\"M 364.903125 224.64 \r\nL 364.903125 7.2 \r\n\" style=\"fill:none;stroke:#000000;stroke-linecap:square;stroke-linejoin:miter;stroke-width:0.8;\"/>\r\n   </g>\r\n   <g id=\"patch_5\">\r\n    <path d=\"M 30.103125 224.64 \r\nL 364.903125 224.64 \r\n\" style=\"fill:none;stroke:#000000;stroke-linecap:square;stroke-linejoin:miter;stroke-width:0.8;\"/>\r\n   </g>\r\n   <g id=\"patch_6\">\r\n    <path d=\"M 30.103125 7.2 \r\nL 364.903125 7.2 \r\n\" style=\"fill:none;stroke:#000000;stroke-linecap:square;stroke-linejoin:miter;stroke-width:0.8;\"/>\r\n   </g>\r\n   <g id=\"legend_1\">\r\n    <g id=\"patch_7\">\r\n     <path d=\"M 265.39375 73.9125 \r\nL 357.903125 73.9125 \r\nQ 359.903125 73.9125 359.903125 71.9125 \r\nL 359.903125 14.2 \r\nQ 359.903125 12.2 357.903125 12.2 \r\nL 265.39375 12.2 \r\nQ 263.39375 12.2 263.39375 14.2 \r\nL 263.39375 71.9125 \r\nQ 263.39375 73.9125 265.39375 73.9125 \r\nz\r\n\" style=\"fill:#ffffff;opacity:0.8;stroke:#cccccc;stroke-linejoin:miter;\"/>\r\n    </g>\r\n    <g id=\"line2d_17\">\r\n     <path d=\"M 267.39375 20.298438 \r\nL 287.39375 20.298438 \r\n\" style=\"fill:none;stroke:#ff0000;stroke-linecap:square;stroke-width:1.5;\"/>\r\n    </g>\r\n    <g id=\"line2d_18\"/>\r\n    <g id=\"text_13\">\r\n     <!-- S, constant -->\r\n     <g transform=\"translate(295.39375 23.798438)scale(0.1 -0.1)\">\r\n      <defs>\r\n       <path d=\"M 53.515625 70.515625 \r\nL 53.515625 60.890625 \r\nQ 47.90625 63.578125 42.921875 64.890625 \r\nQ 37.9375 66.21875 33.296875 66.21875 \r\nQ 25.25 66.21875 20.875 63.09375 \r\nQ 16.5 59.96875 16.5 54.203125 \r\nQ 16.5 49.359375 19.40625 46.890625 \r\nQ 22.3125 44.4375 30.421875 42.921875 \r\nL 36.375 41.703125 \r\nQ 47.40625 39.59375 52.65625 34.296875 \r\nQ 57.90625 29 57.90625 20.125 \r\nQ 57.90625 9.515625 50.796875 4.046875 \r\nQ 43.703125 -1.421875 29.984375 -1.421875 \r\nQ 24.8125 -1.421875 18.96875 -0.25 \r\nQ 13.140625 0.921875 6.890625 3.21875 \r\nL 6.890625 13.375 \r\nQ 12.890625 10.015625 18.65625 8.296875 \r\nQ 24.421875 6.59375 29.984375 6.59375 \r\nQ 38.421875 6.59375 43.015625 9.90625 \r\nQ 47.609375 13.234375 47.609375 19.390625 \r\nQ 47.609375 24.75 44.3125 27.78125 \r\nQ 41.015625 30.8125 33.5 32.328125 \r\nL 27.484375 33.5 \r\nQ 16.453125 35.6875 11.515625 40.375 \r\nQ 6.59375 45.0625 6.59375 53.421875 \r\nQ 6.59375 63.09375 13.40625 68.65625 \r\nQ 20.21875 74.21875 32.171875 74.21875 \r\nQ 37.3125 74.21875 42.625 73.28125 \r\nQ 47.953125 72.359375 53.515625 70.515625 \r\nz\r\n\" id=\"DejaVuSans-83\"/>\r\n       <path d=\"M 11.71875 12.40625 \r\nL 22.015625 12.40625 \r\nL 22.015625 4 \r\nL 14.015625 -11.625 \r\nL 7.71875 -11.625 \r\nL 11.71875 4 \r\nz\r\n\" id=\"DejaVuSans-44\"/>\r\n       <path id=\"DejaVuSans-32\"/>\r\n       <path d=\"M 48.78125 52.59375 \r\nL 48.78125 44.1875 \r\nQ 44.96875 46.296875 41.140625 47.34375 \r\nQ 37.3125 48.390625 33.40625 48.390625 \r\nQ 24.65625 48.390625 19.8125 42.84375 \r\nQ 14.984375 37.3125 14.984375 27.296875 \r\nQ 14.984375 17.28125 19.8125 11.734375 \r\nQ 24.65625 6.203125 33.40625 6.203125 \r\nQ 37.3125 6.203125 41.140625 7.25 \r\nQ 44.96875 8.296875 48.78125 10.40625 \r\nL 48.78125 2.09375 \r\nQ 45.015625 0.34375 40.984375 -0.53125 \r\nQ 36.96875 -1.421875 32.421875 -1.421875 \r\nQ 20.0625 -1.421875 12.78125 6.34375 \r\nQ 5.515625 14.109375 5.515625 27.296875 \r\nQ 5.515625 40.671875 12.859375 48.328125 \r\nQ 20.21875 56 33.015625 56 \r\nQ 37.15625 56 41.109375 55.140625 \r\nQ 45.0625 54.296875 48.78125 52.59375 \r\nz\r\n\" id=\"DejaVuSans-99\"/>\r\n       <path d=\"M 30.609375 48.390625 \r\nQ 23.390625 48.390625 19.1875 42.75 \r\nQ 14.984375 37.109375 14.984375 27.296875 \r\nQ 14.984375 17.484375 19.15625 11.84375 \r\nQ 23.34375 6.203125 30.609375 6.203125 \r\nQ 37.796875 6.203125 41.984375 11.859375 \r\nQ 46.1875 17.53125 46.1875 27.296875 \r\nQ 46.1875 37.015625 41.984375 42.703125 \r\nQ 37.796875 48.390625 30.609375 48.390625 \r\nz\r\nM 30.609375 56 \r\nQ 42.328125 56 49.015625 48.375 \r\nQ 55.71875 40.765625 55.71875 27.296875 \r\nQ 55.71875 13.875 49.015625 6.21875 \r\nQ 42.328125 -1.421875 30.609375 -1.421875 \r\nQ 18.84375 -1.421875 12.171875 6.21875 \r\nQ 5.515625 13.875 5.515625 27.296875 \r\nQ 5.515625 40.765625 12.171875 48.375 \r\nQ 18.84375 56 30.609375 56 \r\nz\r\n\" id=\"DejaVuSans-111\"/>\r\n       <path d=\"M 54.890625 33.015625 \r\nL 54.890625 0 \r\nL 45.90625 0 \r\nL 45.90625 32.71875 \r\nQ 45.90625 40.484375 42.875 44.328125 \r\nQ 39.84375 48.1875 33.796875 48.1875 \r\nQ 26.515625 48.1875 22.3125 43.546875 \r\nQ 18.109375 38.921875 18.109375 30.90625 \r\nL 18.109375 0 \r\nL 9.078125 0 \r\nL 9.078125 54.6875 \r\nL 18.109375 54.6875 \r\nL 18.109375 46.1875 \r\nQ 21.34375 51.125 25.703125 53.5625 \r\nQ 30.078125 56 35.796875 56 \r\nQ 45.21875 56 50.046875 50.171875 \r\nQ 54.890625 44.34375 54.890625 33.015625 \r\nz\r\n\" id=\"DejaVuSans-110\"/>\r\n       <path d=\"M 44.28125 53.078125 \r\nL 44.28125 44.578125 \r\nQ 40.484375 46.53125 36.375 47.5 \r\nQ 32.28125 48.484375 27.875 48.484375 \r\nQ 21.1875 48.484375 17.84375 46.4375 \r\nQ 14.5 44.390625 14.5 40.28125 \r\nQ 14.5 37.15625 16.890625 35.375 \r\nQ 19.28125 33.59375 26.515625 31.984375 \r\nL 29.59375 31.296875 \r\nQ 39.15625 29.25 43.1875 25.515625 \r\nQ 47.21875 21.78125 47.21875 15.09375 \r\nQ 47.21875 7.46875 41.1875 3.015625 \r\nQ 35.15625 -1.421875 24.609375 -1.421875 \r\nQ 20.21875 -1.421875 15.453125 -0.5625 \r\nQ 10.6875 0.296875 5.421875 2 \r\nL 5.421875 11.28125 \r\nQ 10.40625 8.6875 15.234375 7.390625 \r\nQ 20.0625 6.109375 24.8125 6.109375 \r\nQ 31.15625 6.109375 34.5625 8.28125 \r\nQ 37.984375 10.453125 37.984375 14.40625 \r\nQ 37.984375 18.0625 35.515625 20.015625 \r\nQ 33.0625 21.96875 24.703125 23.78125 \r\nL 21.578125 24.515625 \r\nQ 13.234375 26.265625 9.515625 29.90625 \r\nQ 5.8125 33.546875 5.8125 39.890625 \r\nQ 5.8125 47.609375 11.28125 51.796875 \r\nQ 16.75 56 26.8125 56 \r\nQ 31.78125 56 36.171875 55.265625 \r\nQ 40.578125 54.546875 44.28125 53.078125 \r\nz\r\n\" id=\"DejaVuSans-115\"/>\r\n       <path d=\"M 18.3125 70.21875 \r\nL 18.3125 54.6875 \r\nL 36.8125 54.6875 \r\nL 36.8125 47.703125 \r\nL 18.3125 47.703125 \r\nL 18.3125 18.015625 \r\nQ 18.3125 11.328125 20.140625 9.421875 \r\nQ 21.96875 7.515625 27.59375 7.515625 \r\nL 36.8125 7.515625 \r\nL 36.8125 0 \r\nL 27.59375 0 \r\nQ 17.1875 0 13.234375 3.875 \r\nQ 9.28125 7.765625 9.28125 18.015625 \r\nL 9.28125 47.703125 \r\nL 2.6875 47.703125 \r\nL 2.6875 54.6875 \r\nL 9.28125 54.6875 \r\nL 9.28125 70.21875 \r\nz\r\n\" id=\"DejaVuSans-116\"/>\r\n       <path d=\"M 34.28125 27.484375 \r\nQ 23.390625 27.484375 19.1875 25 \r\nQ 14.984375 22.515625 14.984375 16.5 \r\nQ 14.984375 11.71875 18.140625 8.90625 \r\nQ 21.296875 6.109375 26.703125 6.109375 \r\nQ 34.1875 6.109375 38.703125 11.40625 \r\nQ 43.21875 16.703125 43.21875 25.484375 \r\nL 43.21875 27.484375 \r\nz\r\nM 52.203125 31.203125 \r\nL 52.203125 0 \r\nL 43.21875 0 \r\nL 43.21875 8.296875 \r\nQ 40.140625 3.328125 35.546875 0.953125 \r\nQ 30.953125 -1.421875 24.3125 -1.421875 \r\nQ 15.921875 -1.421875 10.953125 3.296875 \r\nQ 6 8.015625 6 15.921875 \r\nQ 6 25.140625 12.171875 29.828125 \r\nQ 18.359375 34.515625 30.609375 34.515625 \r\nL 43.21875 34.515625 \r\nL 43.21875 35.40625 \r\nQ 43.21875 41.609375 39.140625 45 \r\nQ 35.0625 48.390625 27.6875 48.390625 \r\nQ 23 48.390625 18.546875 47.265625 \r\nQ 14.109375 46.140625 10.015625 43.890625 \r\nL 10.015625 52.203125 \r\nQ 14.9375 54.109375 19.578125 55.046875 \r\nQ 24.21875 56 28.609375 56 \r\nQ 40.484375 56 46.34375 49.84375 \r\nQ 52.203125 43.703125 52.203125 31.203125 \r\nz\r\n\" id=\"DejaVuSans-97\"/>\r\n      </defs>\r\n      <use xlink:href=\"#DejaVuSans-83\"/>\r\n      <use x=\"63.476562\" xlink:href=\"#DejaVuSans-44\"/>\r\n      <use x=\"95.263672\" xlink:href=\"#DejaVuSans-32\"/>\r\n      <use x=\"127.050781\" xlink:href=\"#DejaVuSans-99\"/>\r\n      <use x=\"182.03125\" xlink:href=\"#DejaVuSans-111\"/>\r\n      <use x=\"243.212891\" xlink:href=\"#DejaVuSans-110\"/>\r\n      <use x=\"306.591797\" xlink:href=\"#DejaVuSans-115\"/>\r\n      <use x=\"358.691406\" xlink:href=\"#DejaVuSans-116\"/>\r\n      <use x=\"397.900391\" xlink:href=\"#DejaVuSans-97\"/>\r\n      <use x=\"459.179688\" xlink:href=\"#DejaVuSans-110\"/>\r\n      <use x=\"522.558594\" xlink:href=\"#DejaVuSans-116\"/>\r\n     </g>\r\n    </g>\r\n    <g id=\"line2d_19\">\r\n     <path d=\"M 267.39375 34.976562 \r\nL 287.39375 34.976562 \r\n\" style=\"fill:none;stroke:#008000;stroke-linecap:square;stroke-width:1.5;\"/>\r\n    </g>\r\n    <g id=\"line2d_20\"/>\r\n    <g id=\"text_14\">\r\n     <!-- S, heaviside -->\r\n     <g transform=\"translate(295.39375 38.476562)scale(0.1 -0.1)\">\r\n      <defs>\r\n       <path d=\"M 54.890625 33.015625 \r\nL 54.890625 0 \r\nL 45.90625 0 \r\nL 45.90625 32.71875 \r\nQ 45.90625 40.484375 42.875 44.328125 \r\nQ 39.84375 48.1875 33.796875 48.1875 \r\nQ 26.515625 48.1875 22.3125 43.546875 \r\nQ 18.109375 38.921875 18.109375 30.90625 \r\nL 18.109375 0 \r\nL 9.078125 0 \r\nL 9.078125 75.984375 \r\nL 18.109375 75.984375 \r\nL 18.109375 46.1875 \r\nQ 21.34375 51.125 25.703125 53.5625 \r\nQ 30.078125 56 35.796875 56 \r\nQ 45.21875 56 50.046875 50.171875 \r\nQ 54.890625 44.34375 54.890625 33.015625 \r\nz\r\n\" id=\"DejaVuSans-104\"/>\r\n       <path d=\"M 56.203125 29.59375 \r\nL 56.203125 25.203125 \r\nL 14.890625 25.203125 \r\nQ 15.484375 15.921875 20.484375 11.0625 \r\nQ 25.484375 6.203125 34.421875 6.203125 \r\nQ 39.59375 6.203125 44.453125 7.46875 \r\nQ 49.3125 8.734375 54.109375 11.28125 \r\nL 54.109375 2.78125 \r\nQ 49.265625 0.734375 44.1875 -0.34375 \r\nQ 39.109375 -1.421875 33.890625 -1.421875 \r\nQ 20.796875 -1.421875 13.15625 6.1875 \r\nQ 5.515625 13.8125 5.515625 26.8125 \r\nQ 5.515625 40.234375 12.765625 48.109375 \r\nQ 20.015625 56 32.328125 56 \r\nQ 43.359375 56 49.78125 48.890625 \r\nQ 56.203125 41.796875 56.203125 29.59375 \r\nz\r\nM 47.21875 32.234375 \r\nQ 47.125 39.59375 43.09375 43.984375 \r\nQ 39.0625 48.390625 32.421875 48.390625 \r\nQ 24.90625 48.390625 20.390625 44.140625 \r\nQ 15.875 39.890625 15.1875 32.171875 \r\nz\r\n\" id=\"DejaVuSans-101\"/>\r\n       <path d=\"M 2.984375 54.6875 \r\nL 12.5 54.6875 \r\nL 29.59375 8.796875 \r\nL 46.6875 54.6875 \r\nL 56.203125 54.6875 \r\nL 35.6875 0 \r\nL 23.484375 0 \r\nz\r\n\" id=\"DejaVuSans-118\"/>\r\n       <path d=\"M 9.421875 54.6875 \r\nL 18.40625 54.6875 \r\nL 18.40625 0 \r\nL 9.421875 0 \r\nz\r\nM 9.421875 75.984375 \r\nL 18.40625 75.984375 \r\nL 18.40625 64.59375 \r\nL 9.421875 64.59375 \r\nz\r\n\" id=\"DejaVuSans-105\"/>\r\n       <path d=\"M 45.40625 46.390625 \r\nL 45.40625 75.984375 \r\nL 54.390625 75.984375 \r\nL 54.390625 0 \r\nL 45.40625 0 \r\nL 45.40625 8.203125 \r\nQ 42.578125 3.328125 38.25 0.953125 \r\nQ 33.9375 -1.421875 27.875 -1.421875 \r\nQ 17.96875 -1.421875 11.734375 6.484375 \r\nQ 5.515625 14.40625 5.515625 27.296875 \r\nQ 5.515625 40.1875 11.734375 48.09375 \r\nQ 17.96875 56 27.875 56 \r\nQ 33.9375 56 38.25 53.625 \r\nQ 42.578125 51.265625 45.40625 46.390625 \r\nz\r\nM 14.796875 27.296875 \r\nQ 14.796875 17.390625 18.875 11.75 \r\nQ 22.953125 6.109375 30.078125 6.109375 \r\nQ 37.203125 6.109375 41.296875 11.75 \r\nQ 45.40625 17.390625 45.40625 27.296875 \r\nQ 45.40625 37.203125 41.296875 42.84375 \r\nQ 37.203125 48.484375 30.078125 48.484375 \r\nQ 22.953125 48.484375 18.875 42.84375 \r\nQ 14.796875 37.203125 14.796875 27.296875 \r\nz\r\n\" id=\"DejaVuSans-100\"/>\r\n      </defs>\r\n      <use xlink:href=\"#DejaVuSans-83\"/>\r\n      <use x=\"63.476562\" xlink:href=\"#DejaVuSans-44\"/>\r\n      <use x=\"95.263672\" xlink:href=\"#DejaVuSans-32\"/>\r\n      <use x=\"127.050781\" xlink:href=\"#DejaVuSans-104\"/>\r\n      <use x=\"190.429688\" xlink:href=\"#DejaVuSans-101\"/>\r\n      <use x=\"251.953125\" xlink:href=\"#DejaVuSans-97\"/>\r\n      <use x=\"313.232422\" xlink:href=\"#DejaVuSans-118\"/>\r\n      <use x=\"372.412109\" xlink:href=\"#DejaVuSans-105\"/>\r\n      <use x=\"400.195312\" xlink:href=\"#DejaVuSans-115\"/>\r\n      <use x=\"452.294922\" xlink:href=\"#DejaVuSans-105\"/>\r\n      <use x=\"480.078125\" xlink:href=\"#DejaVuSans-100\"/>\r\n      <use x=\"543.554688\" xlink:href=\"#DejaVuSans-101\"/>\r\n     </g>\r\n    </g>\r\n    <g id=\"line2d_21\">\r\n     <path d=\"M 267.39375 49.654687 \r\nL 287.39375 49.654687 \r\n\" style=\"fill:none;stroke:#ff0000;stroke-dasharray:5.55,2.4;stroke-dashoffset:0;stroke-width:1.5;\"/>\r\n    </g>\r\n    <g id=\"line2d_22\"/>\r\n    <g id=\"text_15\">\r\n     <!-- I, constant -->\r\n     <g transform=\"translate(295.39375 53.154687)scale(0.1 -0.1)\">\r\n      <defs>\r\n       <path d=\"M 9.8125 72.90625 \r\nL 19.671875 72.90625 \r\nL 19.671875 0 \r\nL 9.8125 0 \r\nz\r\n\" id=\"DejaVuSans-73\"/>\r\n      </defs>\r\n      <use xlink:href=\"#DejaVuSans-73\"/>\r\n      <use x=\"29.492188\" xlink:href=\"#DejaVuSans-44\"/>\r\n      <use x=\"61.279297\" xlink:href=\"#DejaVuSans-32\"/>\r\n      <use x=\"93.066406\" xlink:href=\"#DejaVuSans-99\"/>\r\n      <use x=\"148.046875\" xlink:href=\"#DejaVuSans-111\"/>\r\n      <use x=\"209.228516\" xlink:href=\"#DejaVuSans-110\"/>\r\n      <use x=\"272.607422\" xlink:href=\"#DejaVuSans-115\"/>\r\n      <use x=\"324.707031\" xlink:href=\"#DejaVuSans-116\"/>\r\n      <use x=\"363.916016\" xlink:href=\"#DejaVuSans-97\"/>\r\n      <use x=\"425.195312\" xlink:href=\"#DejaVuSans-110\"/>\r\n      <use x=\"488.574219\" xlink:href=\"#DejaVuSans-116\"/>\r\n     </g>\r\n    </g>\r\n    <g id=\"line2d_23\">\r\n     <path d=\"M 267.39375 64.332813 \r\nL 287.39375 64.332813 \r\n\" style=\"fill:none;stroke:#008000;stroke-dasharray:5.55,2.4;stroke-dashoffset:0;stroke-width:1.5;\"/>\r\n    </g>\r\n    <g id=\"line2d_24\"/>\r\n    <g id=\"text_16\">\r\n     <!-- I, heaviside -->\r\n     <g transform=\"translate(295.39375 67.832813)scale(0.1 -0.1)\">\r\n      <use xlink:href=\"#DejaVuSans-73\"/>\r\n      <use x=\"29.492188\" xlink:href=\"#DejaVuSans-44\"/>\r\n      <use x=\"61.279297\" xlink:href=\"#DejaVuSans-32\"/>\r\n      <use x=\"93.066406\" xlink:href=\"#DejaVuSans-104\"/>\r\n      <use x=\"156.445312\" xlink:href=\"#DejaVuSans-101\"/>\r\n      <use x=\"217.96875\" xlink:href=\"#DejaVuSans-97\"/>\r\n      <use x=\"279.248047\" xlink:href=\"#DejaVuSans-118\"/>\r\n      <use x=\"338.427734\" xlink:href=\"#DejaVuSans-105\"/>\r\n      <use x=\"366.210938\" xlink:href=\"#DejaVuSans-115\"/>\r\n      <use x=\"418.310547\" xlink:href=\"#DejaVuSans-105\"/>\r\n      <use x=\"446.09375\" xlink:href=\"#DejaVuSans-100\"/>\r\n      <use x=\"509.570312\" xlink:href=\"#DejaVuSans-101\"/>\r\n     </g>\r\n    </g>\r\n   </g>\r\n  </g>\r\n </g>\r\n <defs>\r\n  <clipPath id=\"p2c7858f95b\">\r\n   <rect height=\"217.44\" width=\"334.8\" x=\"30.103125\" y=\"7.2\"/>\r\n  </clipPath>\r\n </defs>\r\n</svg>\r\n",
      "image/png": "[encoded data removed]"
     },
     "metadata": {
      "needs_background": "light"
     }
    },
    {
     "output_type": "stream",
     "name": "stdout",
     "text": [
      "(10000,)\n[0.999      0.999      0.999      ... 0.10584626 0.10584626 0.10584626]\n[9.99000000e-01 9.98994984e-01 9.98989946e-01 ... 9.21804062e-04\n 9.21791304e-04 9.21778556e-04]\n"
     ]
    }
   ],
   "source": [
    "\"\"\"\n",
    "This is a testrun to see whether or not the functions work as intended. The values have no meaning and are created at random, or rather random to a certain degree as there still are some requirements to the parameters. The testrun also consists of comparing the times that the methodes use\n",
    "\"\"\"\n",
    "\n",
    "\n",
    "\n",
    "\n",
    "# defining a class, setting initial conditions, defining time and creating the distribution of commuters days\n",
    "testdata = Data(7, \"Pendler.txt\", 0.5, np.array([1e6, 2e6, 3e6, 4e6, 1e6, 1e6, 1e6]))\n",
    "\n",
    "\n",
    "\n",
    "initial_conditions = [0.999, 1.0, 1.0, 1.0, 1.0, 1.0, 1.0, 0.001, 0, 0, 0, 0, 0, 0, 0, 0, 0, 0, 0, 0, 0, 0, 0, 0, 0, 0, 0, 0]\n",
    "t = np.linspace(0, 100, 10000)\n",
    "tzero = np.array([0, 0.4, 0.8])\n",
    "\n",
    "# timing constant methode\n",
    "t10 = time.time()\n",
    "sol = sci.solve_ivp(fun=function_of_system, t_span=(0, 100), y0=initial_conditions, method=\"RK45\", args=(testdata, \"constant\", tzero), t_eval=t)\n",
    "\n",
    "t11 = time.time()\n",
    "\n",
    "# timing heaviside methode\n",
    "\n",
    "t20 = time.time()\n",
    "sol1 = sci.solve_ivp(fun=function_of_system, t_span=(0, 100), y0=initial_conditions, method=\"RK45\", args=(testdata, \"heaviside\", tzero), t_eval=t)\n",
    "t21 = time.time()\n",
    "\n",
    "print(\"constant took:\", t11-t10, \"heaviside took:\",  t21-t20)\n",
    "\n",
    "plt.plot(t, sol.y[0], \"r\", label=\"S, constant\")\n",
    "plt.plot(t, sol1.y[0], \"g\", label=\"S, heaviside\")\n",
    "plt.plot(t, sol.y[7], \"--r\", label=\"I, constant\")\n",
    "plt.plot(t, sol1.y[7], \"--g\", label=\"I, heaviside\")\n",
    "plt.legend()\n",
    "plt.show()\n",
    "\n",
    "\n",
    "\n",
    "\n",
    "print(np.shape(sol.t))\n",
    "\n",
    "\n",
    "print(sol1.y[0])\n",
    "\n",
    "y1 = sci.odeint(func=system_function, y0=initial_conditions, t=t, args=(testdata, \"constant\", tzero))\n",
    "\n",
    "print(y1[:, 0])\n",
    "\n"
   ]
  },
  {
   "source": [
    "## Plotting\n",
    "\n",
    "\n",
    "\n"
   ],
   "cell_type": "markdown",
   "metadata": {}
  },
  {
   "cell_type": "code",
   "execution_count": 22,
   "metadata": {},
   "outputs": [
    {
     "output_type": "stream",
     "name": "stdout",
     "text": [
      "for loop 0.7542345523834229\n",
      "((0,), (1,), (2,), (3,), (4,), (5,), (6,))\n",
      "multiprocessing 0.6581008434295654\n"
     ]
    },
    {
     "output_type": "execute_result",
     "data": {
      "text/plain": [
       "'\\n    for a in args:\\n        p = multiproc.Process(target=plotting, args=a)\\n        p.start()\\n        proclist.append(p)    \\n    \\n    for p in proclist:\\n        p.join()\\n'"
      ]
     },
     "metadata": {},
     "execution_count": 22
    }
   ],
   "source": [
    "from multiprocessing.dummy import Pool as ThreadPool \n",
    "\n",
    "\n",
    "def plotting(index):\n",
    "    fig = plt.figure(figsize=(8, 6))\n",
    "    plt.plot(t, sol.y[index], label=\"S in cell %g\" % (index + 1))\n",
    "    plt.plot(t, sol.y[7 + index], label=\"I in cell %g\" % (index + 1))\n",
    "    plt.legend(loc=\"best\")\n",
    "    plt.title(\"Compartments in cell %g\" % (index + 1))\n",
    "    plt.xlabel(\"t [days]\")\n",
    "    plt.ylabel(\"Size of Compartment\")\n",
    "    plt.grid()\n",
    "    plt.savefig(\"Media/Plots/plot_%g.pdf\" % index, dpi=200)\n",
    "    plt.close(fig)\n",
    "\n",
    "\n",
    "t0 = time.time()\n",
    "for i in range(7):\n",
    "    plotting(i)\n",
    "t1 = time.time()\n",
    "\n",
    "\n",
    "\n",
    "print(\"for loop\", t1-t0)\n",
    "\n",
    "\n",
    "\n",
    "\n",
    "\n",
    "t3 = time.time()\n",
    "arg = [(i,) for i in range(7)]\n",
    "\n",
    "print(tuple(arg))\n",
    "\n",
    "\n",
    "\n",
    "\n",
    "pool = ThreadPool(1)\n",
    "pool.starmap(plotting, arg) \n",
    "pool.close() \n",
    "pool.join()\n",
    "\n",
    "t4 = time.time()\n",
    "print(\"multiprocessing\", t4- t3)\n",
    "\n",
    "\"\"\"\n",
    "#if __name__ == \"__main__\":  \n",
    "args = [(0,), (1,), (2,), (3,)]\n",
    "proclist = []\n",
    "p = multiproc.Process(target=plotting, args=(1,))\n",
    "p.start()\n",
    "p.join()\n",
    "p.close()\n",
    "\"\"\"\n",
    "\n",
    "\"\"\"\n",
    "    for a in args:\n",
    "        p = multiproc.Process(target=plotting, args=a)\n",
    "        p.start()\n",
    "        proclist.append(p)    \n",
    "    \n",
    "    for p in proclist:\n",
    "        p.join()\n",
    "\"\"\""
   ]
  },
  {
   "cell_type": "code",
   "execution_count": 9,
   "metadata": {},
   "outputs": [
    {
     "output_type": "stream",
     "name": "stdout",
     "text": [
      "1 --- 4\n2 --- 5\n3 --- 6\n"
     ]
    }
   ],
   "source": [
    "\n",
    "\n",
    "def write(i, x):\n",
    "    print(i, \"---\", x)\n",
    "\n",
    "\n",
    "a = [1, 2, 3]\n",
    "b = [4, 5, 6] \n",
    "\n",
    "\n"
   ]
  },
  {
   "cell_type": "code",
   "execution_count": null,
   "metadata": {},
   "outputs": [],
   "source": []
  }
 ],
 "metadata": {
  "kernelspec": {
   "name": "python385jvsc74a57bd0e228c522185e718f10489acf78f6ffebd5fbea5a3e998ef0433a5447e0d6df9b",
   "display_name": "Python 3.8.5 64-bit ('base': conda)"
  },
  "language_info": {
   "codemirror_mode": {
    "name": "ipython",
    "version": 3
   },
   "file_extension": ".py",
   "mimetype": "text/x-python",
   "name": "python",
   "nbconvert_exporter": "python",
   "pygments_lexer": "ipython3",
   "version": "3.8.5"
  }
 },
 "nbformat": 4,
 "nbformat_minor": 4
}