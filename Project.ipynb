{
 "cells": [
  {
   "cell_type": "code",
   "execution_count": 2,
   "metadata": {},
   "outputs": [],
   "source": [
    "import matplotlib.pyplot as plt\n",
    "import numpy as np\n",
    "import scipy.integrate as sci\n",
    "import time \n",
    "import threading\n",
    "import sys"
   ]
  },
  {
   "cell_type": "markdown",
   "metadata": {},
   "source": [
    "## Parameters"
   ]
  },
  {
   "cell_type": "code",
   "execution_count": 5,
   "metadata": {},
   "outputs": [
    {
     "name": "stdout",
     "output_type": "stream",
     "text": [
      "0.0264\n"
     ]
    }
   ],
   "source": [
    "class Data:\n",
    "    def __init__(self):\n",
    "        \"Alpha describes the rate of infection\"\n",
    "        self.alpha = 0 # Dimensions day^(-1)\n",
    "\n",
    "        \"Beta describes the recovery rate\"\n",
    "        self.beta = 1/14 # Dimensions day^(-1)\n",
    "\n",
    "        \"p is the probability to die from the disease\"\n",
    "        self.p = 2.64e-2\n",
    "\n",
    "    def commutersFrom(self, cfrom):\n",
    "        \"\"\"\n",
    "        Function to return an array with number of commuters from cfrom.\n",
    "        \n",
    "        Input: cfrom; from what cell to the commuters come from.\n",
    "        \n",
    "        Output: array; array containing the commuters from cfrom.\n",
    "        \"\"\"\n",
    "        \n",
    "        # ------- TO DO ---------\n",
    "        # \n",
    "        \n",
    "        "
   ]
  },
  {
   "cell_type": "code",
   "execution_count": null,
   "metadata": {},
   "outputs": [],
   "source": []
  }
 ],
 "metadata": {
  "kernelspec": {
   "display_name": "Python 3",
   "language": "python",
   "name": "python3"
  },
  "language_info": {
   "codemirror_mode": {
    "name": "ipython",
    "version": 3
   },
   "file_extension": ".py",
   "mimetype": "text/x-python",
   "name": "python",
   "nbconvert_exporter": "python",
   "pygments_lexer": "ipython3",
   "version": "3.8.5"
  }
 },
 "nbformat": 4,
 "nbformat_minor": 4
}
